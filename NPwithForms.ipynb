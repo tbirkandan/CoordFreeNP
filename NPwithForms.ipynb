{
 "cells": [
  {
   "cell_type": "code",
   "execution_count": 1,
   "id": "fbdf6558-a870-46b8-84eb-f0bbf43e56de",
   "metadata": {
    "scrolled": true
   },
   "outputs": [
    {
     "data": {
      "text/html": [
       "<html>\\(\\displaystyle \\verb|Connection:|\\)</html>"
      ],
      "text/latex": [
       "$\\displaystyle \\verb|Connection:|$"
      ],
      "text/plain": [
       "'Connection:'"
      ]
     },
     "metadata": {},
     "output_type": "display_data"
    },
    {
     "data": {
      "text/html": [
       "<html>\\(\\displaystyle \\verb|#######################|\\)</html>"
      ],
      "text/latex": [
       "$\\displaystyle \\verb|#######################|$"
      ],
      "text/plain": [
       "'#######################'"
      ]
     },
     "metadata": {},
     "output_type": "display_data"
    },
    {
     "data": {
      "text/html": [
       "<html>\\(\\displaystyle \\left( \\epsilon + \\overline{\\epsilon} \\right)  l \\wedge n + \\left( -\\alpha - \\overline{\\beta} + \\overline{\\tau} \\right)  l \\wedge m + \\left( -\\beta + \\tau - \\overline{\\alpha} \\right)  l \\wedge \\mathit{mbar} + \\overline{\\kappa}  n \\wedge m + \\kappa  n \\wedge \\mathit{mbar} + \\left( -\\rho + \\overline{\\rho} \\right)  m \\wedge \\mathit{mbar} +  \\mathit{dl}\\)</html>"
      ],
      "text/latex": [
       "$\\displaystyle \\left( \\epsilon + \\overline{\\epsilon} \\right)  l \\wedge n + \\left( -\\alpha - \\overline{\\beta} + \\overline{\\tau} \\right)  l \\wedge m + \\left( -\\beta + \\tau - \\overline{\\alpha} \\right)  l \\wedge \\mathit{mbar} + \\overline{\\kappa}  n \\wedge m + \\kappa  n \\wedge \\mathit{mbar} + \\left( -\\rho + \\overline{\\rho} \\right)  m \\wedge \\mathit{mbar} +  \\mathit{dl}$"
      ],
      "text/plain": [
       "(epsilon + conjugate(epsilon))*l*n + (-alpha - conjugate(beta) + conjugate(tau))*l*m + (-beta + tau - conjugate(alpha))*l*mbar + conjugate(kappa)*n*m + kappa*n*mbar + (-rho + conjugate(rho))*m*mbar + dl"
      ]
     },
     "metadata": {},
     "output_type": "display_data"
    },
    {
     "data": {
      "text/html": [
       "<html>\\(\\displaystyle \\verb|#######################|\\)</html>"
      ],
      "text/latex": [
       "$\\displaystyle \\verb|#######################|$"
      ],
      "text/plain": [
       "'#######################'"
      ]
     },
     "metadata": {},
     "output_type": "display_data"
    },
    {
     "data": {
      "text/html": [
       "<html>\\(\\displaystyle \\left( \\tau + \\overline{\\pi} \\right)  l \\wedge n + \\left( -\\gamma + \\overline{\\gamma} - \\overline{\\mu} \\right)  l \\wedge m - \\overline{{\\lambda}}  l \\wedge \\mathit{mbar} + \\left( -\\epsilon + \\rho + \\overline{\\epsilon} \\right)  n \\wedge m + \\sigma  n \\wedge \\mathit{mbar} + \\left( -\\beta + \\overline{\\alpha} \\right)  m \\wedge \\mathit{mbar} +  \\mathit{dm}\\)</html>"
      ],
      "text/latex": [
       "$\\displaystyle \\left( \\tau + \\overline{\\pi} \\right)  l \\wedge n + \\left( -\\gamma + \\overline{\\gamma} - \\overline{\\mu} \\right)  l \\wedge m - \\overline{{\\lambda}}  l \\wedge \\mathit{mbar} + \\left( -\\epsilon + \\rho + \\overline{\\epsilon} \\right)  n \\wedge m + \\sigma  n \\wedge \\mathit{mbar} + \\left( -\\beta + \\overline{\\alpha} \\right)  m \\wedge \\mathit{mbar} +  \\mathit{dm}$"
      ],
      "text/plain": [
       "(tau + conjugate(pi))*l*n + (-gamma + conjugate(gamma) - conjugate(mu))*l*m - conjugate(lambdaa)*l*mbar + (-epsilon + rho + conjugate(epsilon))*n*m + sigma*n*mbar + (-beta + conjugate(alpha))*m*mbar + dm"
      ]
     },
     "metadata": {},
     "output_type": "display_data"
    },
    {
     "data": {
      "text/html": [
       "<html>\\(\\displaystyle \\verb|#######################|\\)</html>"
      ],
      "text/latex": [
       "$\\displaystyle \\verb|#######################|$"
      ],
      "text/plain": [
       "'#######################'"
      ]
     },
     "metadata": {},
     "output_type": "display_data"
    },
    {
     "data": {
      "text/html": [
       "<html>\\(\\displaystyle \\left( \\pi + \\overline{\\tau} \\right)  l \\wedge n - {\\lambda}  l \\wedge m + \\left( \\gamma - \\mu - \\overline{\\gamma} \\right)  l \\wedge \\mathit{mbar} + \\overline{\\sigma}  n \\wedge m + \\left( \\epsilon - \\overline{\\epsilon} + \\overline{\\rho} \\right)  n \\wedge \\mathit{mbar} + \\left( -\\alpha + \\overline{\\beta} \\right)  m \\wedge \\mathit{mbar} +  \\mathit{dmbar}\\)</html>"
      ],
      "text/latex": [
       "$\\displaystyle \\left( \\pi + \\overline{\\tau} \\right)  l \\wedge n - {\\lambda}  l \\wedge m + \\left( \\gamma - \\mu - \\overline{\\gamma} \\right)  l \\wedge \\mathit{mbar} + \\overline{\\sigma}  n \\wedge m + \\left( \\epsilon - \\overline{\\epsilon} + \\overline{\\rho} \\right)  n \\wedge \\mathit{mbar} + \\left( -\\alpha + \\overline{\\beta} \\right)  m \\wedge \\mathit{mbar} +  \\mathit{dmbar}$"
      ],
      "text/plain": [
       "(pi + conjugate(tau))*l*n - lambdaa*l*m + (gamma - mu - conjugate(gamma))*l*mbar + conjugate(sigma)*n*m + (epsilon - conjugate(epsilon) + conjugate(rho))*n*mbar + (-alpha + conjugate(beta))*m*mbar + dmbar"
      ]
     },
     "metadata": {},
     "output_type": "display_data"
    },
    {
     "data": {
      "text/html": [
       "<html>\\(\\displaystyle \\verb|#######################|\\)</html>"
      ],
      "text/latex": [
       "$\\displaystyle \\verb|#######################|$"
      ],
      "text/plain": [
       "'#######################'"
      ]
     },
     "metadata": {},
     "output_type": "display_data"
    },
    {
     "data": {
      "text/html": [
       "<html>\\(\\displaystyle \\left( \\gamma + \\overline{\\gamma} \\right)  l \\wedge n - \\nu  l \\wedge m - \\overline{\\nu}  l \\wedge \\mathit{mbar} + \\left( \\alpha - \\pi + \\overline{\\beta} \\right)  n \\wedge m + \\left( \\beta + \\overline{\\alpha} - \\overline{\\pi} \\right)  n \\wedge \\mathit{mbar} + \\left( -\\mu + \\overline{\\mu} \\right)  m \\wedge \\mathit{mbar} +  \\mathit{dn}\\)</html>"
      ],
      "text/latex": [
       "$\\displaystyle \\left( \\gamma + \\overline{\\gamma} \\right)  l \\wedge n - \\nu  l \\wedge m - \\overline{\\nu}  l \\wedge \\mathit{mbar} + \\left( \\alpha - \\pi + \\overline{\\beta} \\right)  n \\wedge m + \\left( \\beta + \\overline{\\alpha} - \\overline{\\pi} \\right)  n \\wedge \\mathit{mbar} + \\left( -\\mu + \\overline{\\mu} \\right)  m \\wedge \\mathit{mbar} +  \\mathit{dn}$"
      ],
      "text/plain": [
       "(gamma + conjugate(gamma))*l*n - nu*l*m - conjugate(nu)*l*mbar + (alpha - pi + conjugate(beta))*n*m + (beta + conjugate(alpha) - conjugate(pi))*n*mbar + (-mu + conjugate(mu))*m*mbar + dn"
      ]
     },
     "metadata": {},
     "output_type": "display_data"
    },
    {
     "data": {
      "text/html": [
       "<html>\\(\\displaystyle \\verb|#######################|\\)</html>"
      ],
      "text/latex": [
       "$\\displaystyle \\verb|#######################|$"
      ],
      "text/plain": [
       "'#######################'"
      ]
     },
     "metadata": {},
     "output_type": "display_data"
    },
    {
     "data": {
      "text/html": [
       "<html>\\(\\displaystyle \\verb|-------------------------------------------------------------------------|\\)</html>"
      ],
      "text/latex": [
       "$\\displaystyle \\verb|-------------------------------------------------------------------------|$"
      ],
      "text/plain": [
       "'-------------------------------------------------------------------------'"
      ]
     },
     "metadata": {},
     "output_type": "display_data"
    },
    {
     "data": {
      "text/html": [
       "<html>\\(\\displaystyle \\verb|Curvature:|\\)</html>"
      ],
      "text/latex": [
       "$\\displaystyle \\verb|Curvature:|$"
      ],
      "text/plain": [
       "'Curvature:'"
      ]
     },
     "metadata": {},
     "output_type": "display_data"
    },
    {
     "data": {
      "text/html": [
       "<html>\\(\\displaystyle \\verb|*****|\\)</html>"
      ],
      "text/latex": [
       "$\\displaystyle \\verb|*****|$"
      ],
      "text/plain": [
       "'*****'"
      ]
     },
     "metadata": {},
     "output_type": "display_data"
    },
    {
     "data": {
      "text/html": [
       "<html>\\(\\displaystyle \\epsilon {\\left(\\gamma + \\overline{\\gamma}\\right)} + {\\left(\\epsilon + \\overline{\\epsilon}\\right)} \\gamma + \\kappa \\nu - \\beta {\\left(\\pi + \\overline{\\tau}\\right)} - \\alpha {\\left(\\tau + \\overline{\\pi}\\right)} - \\pi \\tau + \\Lambda - \\Phi_{11} - \\Psi_{2} + D\\left(\\gamma\\right) - \\Delta\\left(\\epsilon\\right)\\)</html>"
      ],
      "text/latex": [
       "$\\displaystyle \\epsilon {\\left(\\gamma + \\overline{\\gamma}\\right)} + {\\left(\\epsilon + \\overline{\\epsilon}\\right)} \\gamma + \\kappa \\nu - \\beta {\\left(\\pi + \\overline{\\tau}\\right)} - \\alpha {\\left(\\tau + \\overline{\\pi}\\right)} - \\pi \\tau + \\Lambda - \\Phi_{11} - \\Psi_{2} + D\\left(\\gamma\\right) - \\Delta\\left(\\epsilon\\right)$"
      ],
      "text/plain": [
       "epsilon*(gamma + conjugate(gamma)) + (epsilon + conjugate(epsilon))*gamma + kappa*nu - beta*(pi + conjugate(tau)) - alpha*(tau + conjugate(pi)) - pi*tau + Lambda - Phi11 - Psi2 + Dl(gamma) - Dn(epsilon)"
      ]
     },
     "metadata": {},
     "output_type": "display_data"
    },
    {
     "data": {
      "text/html": [
       "<html>\\(\\displaystyle \\alpha {\\left(\\gamma - \\overline{\\gamma} + \\overline{\\mu}\\right)} - {\\left(\\alpha + \\overline{\\beta} - \\overline{\\tau}\\right)} \\gamma + \\beta {\\lambda} - \\epsilon \\nu - \\nu \\rho + {\\lambda} \\tau + \\Psi_{3} - \\bar{\\delta}\\left(\\gamma\\right) + \\Delta\\left(\\alpha\\right)\\)</html>"
      ],
      "text/latex": [
       "$\\displaystyle \\alpha {\\left(\\gamma - \\overline{\\gamma} + \\overline{\\mu}\\right)} - {\\left(\\alpha + \\overline{\\beta} - \\overline{\\tau}\\right)} \\gamma + \\beta {\\lambda} - \\epsilon \\nu - \\nu \\rho + {\\lambda} \\tau + \\Psi_{3} - \\bar{\\delta}\\left(\\gamma\\right) + \\Delta\\left(\\alpha\\right)$"
      ],
      "text/plain": [
       "alpha*(gamma - conjugate(gamma) + conjugate(mu)) - (alpha + conjugate(beta) - conjugate(tau))*gamma + beta*lambdaa - epsilon*nu - nu*rho + lambdaa*tau + Psi3 - Dmbar(gamma) + Dn(alpha)"
      ]
     },
     "metadata": {},
     "output_type": "display_data"
    },
    {
     "data": {
      "text/html": [
       "<html>\\(\\displaystyle -\\beta {\\left(\\gamma - \\mu - \\overline{\\gamma}\\right)} - {\\left(\\beta - \\tau + \\overline{\\alpha}\\right)} \\gamma - \\nu \\sigma + \\mu \\tau + \\alpha \\overline{{\\lambda}} - \\epsilon \\overline{\\nu} + \\Phi_{12} - \\delta\\left(\\gamma\\right) + \\Delta\\left(\\beta\\right)\\)</html>"
      ],
      "text/latex": [
       "$\\displaystyle -\\beta {\\left(\\gamma - \\mu - \\overline{\\gamma}\\right)} - {\\left(\\beta - \\tau + \\overline{\\alpha}\\right)} \\gamma - \\nu \\sigma + \\mu \\tau + \\alpha \\overline{{\\lambda}} - \\epsilon \\overline{\\nu} + \\Phi_{12} - \\delta\\left(\\gamma\\right) + \\Delta\\left(\\beta\\right)$"
      ],
      "text/plain": [
       "-beta*(gamma - mu - conjugate(gamma)) - (beta - tau + conjugate(alpha))*gamma - nu*sigma + mu*tau + alpha*conjugate(lambdaa) - epsilon*conjugate(nu) + Phi12 - Dm(gamma) + Dn(beta)"
      ]
     },
     "metadata": {},
     "output_type": "display_data"
    },
    {
     "data": {
      "text/html": [
       "<html>\\(\\displaystyle \\alpha {\\left(\\epsilon - \\rho - \\overline{\\epsilon}\\right)} + {\\left(\\alpha - \\pi + \\overline{\\beta}\\right)} \\epsilon + \\kappa {\\lambda} - \\pi \\rho + \\gamma \\overline{\\kappa} - \\beta \\overline{\\sigma} - \\Phi_{10} + D\\left(\\alpha\\right) - \\bar{\\delta}\\left(\\epsilon\\right)\\)</html>"
      ],
      "text/latex": [
       "$\\displaystyle \\alpha {\\left(\\epsilon - \\rho - \\overline{\\epsilon}\\right)} + {\\left(\\alpha - \\pi + \\overline{\\beta}\\right)} \\epsilon + \\kappa {\\lambda} - \\pi \\rho + \\gamma \\overline{\\kappa} - \\beta \\overline{\\sigma} - \\Phi_{10} + D\\left(\\alpha\\right) - \\bar{\\delta}\\left(\\epsilon\\right)$"
      ],
      "text/plain": [
       "alpha*(epsilon - rho - conjugate(epsilon)) + (alpha - pi + conjugate(beta))*epsilon + kappa*lambdaa - pi*rho + gamma*conjugate(kappa) - beta*conjugate(sigma) - Phi10 + Dl(alpha) - Dmbar(epsilon)"
      ]
     },
     "metadata": {},
     "output_type": "display_data"
    },
    {
     "data": {
      "text/html": [
       "<html>\\(\\displaystyle -\\beta {\\left(\\epsilon - \\overline{\\epsilon} + \\overline{\\rho}\\right)} + {\\left(\\beta + \\overline{\\alpha} - \\overline{\\pi}\\right)} \\epsilon + \\gamma \\kappa + \\kappa \\mu - \\alpha \\sigma - \\pi \\sigma - \\Psi_{1} + D\\left(\\beta\\right) - \\delta\\left(\\epsilon\\right)\\)</html>"
      ],
      "text/latex": [
       "$\\displaystyle -\\beta {\\left(\\epsilon - \\overline{\\epsilon} + \\overline{\\rho}\\right)} + {\\left(\\beta + \\overline{\\alpha} - \\overline{\\pi}\\right)} \\epsilon + \\gamma \\kappa + \\kappa \\mu - \\alpha \\sigma - \\pi \\sigma - \\Psi_{1} + D\\left(\\beta\\right) - \\delta\\left(\\epsilon\\right)$"
      ],
      "text/plain": [
       "-beta*(epsilon - conjugate(epsilon) + conjugate(rho)) + (beta + conjugate(alpha) - conjugate(pi))*epsilon + gamma*kappa + kappa*mu - alpha*sigma - pi*sigma - Psi1 + Dl(beta) - Dm(epsilon)"
      ]
     },
     "metadata": {},
     "output_type": "display_data"
    },
    {
     "data": {
      "text/html": [
       "<html>\\(\\displaystyle \\alpha {\\left(\\beta - \\overline{\\alpha}\\right)} + {\\left(\\alpha - \\overline{\\beta}\\right)} \\beta - \\epsilon {\\left(\\mu - \\overline{\\mu}\\right)} - \\gamma {\\left(\\rho - \\overline{\\rho}\\right)} - \\mu \\rho + {\\lambda} \\sigma - \\Lambda - \\Phi_{11} + \\Psi_{2} + \\delta\\left(\\alpha\\right) - \\bar{\\delta}\\left(\\beta\\right)\\)</html>"
      ],
      "text/latex": [
       "$\\displaystyle \\alpha {\\left(\\beta - \\overline{\\alpha}\\right)} + {\\left(\\alpha - \\overline{\\beta}\\right)} \\beta - \\epsilon {\\left(\\mu - \\overline{\\mu}\\right)} - \\gamma {\\left(\\rho - \\overline{\\rho}\\right)} - \\mu \\rho + {\\lambda} \\sigma - \\Lambda - \\Phi_{11} + \\Psi_{2} + \\delta\\left(\\alpha\\right) - \\bar{\\delta}\\left(\\beta\\right)$"
      ],
      "text/plain": [
       "alpha*(beta - conjugate(alpha)) + (alpha - conjugate(beta))*beta - epsilon*(mu - conjugate(mu)) - gamma*(rho - conjugate(rho)) - mu*rho + lambdaa*sigma - Lambda - Phi11 + Psi2 + Dm(alpha) - Dmbar(beta)"
      ]
     },
     "metadata": {},
     "output_type": "display_data"
    },
    {
     "data": {
      "text/html": [
       "<html>\\(\\displaystyle \\verb|*****|\\)</html>"
      ],
      "text/latex": [
       "$\\displaystyle \\verb|*****|$"
      ],
      "text/plain": [
       "'*****'"
      ]
     },
     "metadata": {},
     "output_type": "display_data"
    },
    {
     "data": {
      "text/html": [
       "<html>\\(\\displaystyle -{\\left(\\gamma + \\overline{\\gamma}\\right)} \\kappa - 2 \\, \\gamma \\kappa + {\\left(\\pi + \\overline{\\tau}\\right)} \\sigma + \\rho {\\left(\\tau + \\overline{\\pi}\\right)} - {\\left(\\epsilon + \\overline{\\epsilon}\\right)} \\tau + 2 \\, \\epsilon \\tau + \\Phi_{01} + \\Psi_{1} - D\\left(\\tau\\right) + \\Delta\\left(\\kappa\\right)\\)</html>"
      ],
      "text/latex": [
       "$\\displaystyle -{\\left(\\gamma + \\overline{\\gamma}\\right)} \\kappa - 2 \\, \\gamma \\kappa + {\\left(\\pi + \\overline{\\tau}\\right)} \\sigma + \\rho {\\left(\\tau + \\overline{\\pi}\\right)} - {\\left(\\epsilon + \\overline{\\epsilon}\\right)} \\tau + 2 \\, \\epsilon \\tau + \\Phi_{01} + \\Psi_{1} - D\\left(\\tau\\right) + \\Delta\\left(\\kappa\\right)$"
      ],
      "text/plain": [
       "-(gamma + conjugate(gamma))*kappa - 2*gamma*kappa + (pi + conjugate(tau))*sigma + rho*(tau + conjugate(pi)) - (epsilon + conjugate(epsilon))*tau + 2*epsilon*tau + Phi01 + Psi1 - Dl(tau) + Dn(kappa)"
      ]
     },
     "metadata": {},
     "output_type": "display_data"
    },
    {
     "data": {
      "text/html": [
       "<html>\\(\\displaystyle \\kappa \\nu - {\\left(\\gamma - \\overline{\\gamma} + \\overline{\\mu}\\right)} \\rho + 2 \\, \\gamma \\rho - {\\lambda} \\sigma + {\\left(\\alpha + \\overline{\\beta} - \\overline{\\tau}\\right)} \\tau - 2 \\, \\alpha \\tau - 2 \\, \\Lambda - \\Psi_{2} + \\bar{\\delta}\\left(\\tau\\right) - \\Delta\\left(\\rho\\right)\\)</html>"
      ],
      "text/latex": [
       "$\\displaystyle \\kappa \\nu - {\\left(\\gamma - \\overline{\\gamma} + \\overline{\\mu}\\right)} \\rho + 2 \\, \\gamma \\rho - {\\lambda} \\sigma + {\\left(\\alpha + \\overline{\\beta} - \\overline{\\tau}\\right)} \\tau - 2 \\, \\alpha \\tau - 2 \\, \\Lambda - \\Psi_{2} + \\bar{\\delta}\\left(\\tau\\right) - \\Delta\\left(\\rho\\right)$"
      ],
      "text/plain": [
       "kappa*nu - (gamma - conjugate(gamma) + conjugate(mu))*rho + 2*gamma*rho - lambdaa*sigma + (alpha + conjugate(beta) - conjugate(tau))*tau - 2*alpha*tau - 2*Lambda - Psi2 + Dmbar(tau) - Dn(rho)"
      ]
     },
     "metadata": {},
     "output_type": "display_data"
    },
    {
     "data": {
      "text/html": [
       "<html>\\(\\displaystyle {\\left(\\gamma - \\mu - \\overline{\\gamma}\\right)} \\sigma + 2 \\, \\gamma \\sigma + {\\left(\\beta - \\tau + \\overline{\\alpha}\\right)} \\tau - 2 \\, \\beta \\tau - \\rho \\overline{{\\lambda}} + \\kappa \\overline{\\nu} - \\Phi_{02} + \\delta\\left(\\tau\\right) - \\Delta\\left(\\sigma\\right)\\)</html>"
      ],
      "text/latex": [
       "$\\displaystyle {\\left(\\gamma - \\mu - \\overline{\\gamma}\\right)} \\sigma + 2 \\, \\gamma \\sigma + {\\left(\\beta - \\tau + \\overline{\\alpha}\\right)} \\tau - 2 \\, \\beta \\tau - \\rho \\overline{{\\lambda}} + \\kappa \\overline{\\nu} - \\Phi_{02} + \\delta\\left(\\tau\\right) - \\Delta\\left(\\sigma\\right)$"
      ],
      "text/plain": [
       "(gamma - mu - conjugate(gamma))*sigma + 2*gamma*sigma + (beta - tau + conjugate(alpha))*tau - 2*beta*tau - rho*conjugate(lambdaa) + kappa*conjugate(nu) - Phi02 + Dm(tau) - Dn(sigma)"
      ]
     },
     "metadata": {},
     "output_type": "display_data"
    },
    {
     "data": {
      "text/html": [
       "<html>\\(\\displaystyle -{\\left(\\alpha - \\pi + \\overline{\\beta}\\right)} \\kappa - 2 \\, \\alpha \\kappa - {\\left(\\epsilon - \\rho - \\overline{\\epsilon}\\right)} \\rho + 2 \\, \\epsilon \\rho - \\tau \\overline{\\kappa} + \\sigma \\overline{\\sigma} + \\Phi_{00} - D\\left(\\rho\\right) + \\bar{\\delta}\\left(\\kappa\\right)\\)</html>"
      ],
      "text/latex": [
       "$\\displaystyle -{\\left(\\alpha - \\pi + \\overline{\\beta}\\right)} \\kappa - 2 \\, \\alpha \\kappa - {\\left(\\epsilon - \\rho - \\overline{\\epsilon}\\right)} \\rho + 2 \\, \\epsilon \\rho - \\tau \\overline{\\kappa} + \\sigma \\overline{\\sigma} + \\Phi_{00} - D\\left(\\rho\\right) + \\bar{\\delta}\\left(\\kappa\\right)$"
      ],
      "text/plain": [
       "-(alpha - pi + conjugate(beta))*kappa - 2*alpha*kappa - (epsilon - rho - conjugate(epsilon))*rho + 2*epsilon*rho - tau*conjugate(kappa) + sigma*conjugate(sigma) + Phi00 - Dl(rho) + Dmbar(kappa)"
      ]
     },
     "metadata": {},
     "output_type": "display_data"
    },
    {
     "data": {
      "text/html": [
       "<html>\\(\\displaystyle -{\\left(\\beta + \\overline{\\alpha} - \\overline{\\pi}\\right)} \\kappa - 2 \\, \\beta \\kappa + {\\left(\\epsilon - \\overline{\\epsilon} + \\overline{\\rho}\\right)} \\sigma + 2 \\, \\epsilon \\sigma + \\rho \\sigma - \\kappa \\tau + \\Psi_{0} - D\\left(\\sigma\\right) + \\delta\\left(\\kappa\\right)\\)</html>"
      ],
      "text/latex": [
       "$\\displaystyle -{\\left(\\beta + \\overline{\\alpha} - \\overline{\\pi}\\right)} \\kappa - 2 \\, \\beta \\kappa + {\\left(\\epsilon - \\overline{\\epsilon} + \\overline{\\rho}\\right)} \\sigma + 2 \\, \\epsilon \\sigma + \\rho \\sigma - \\kappa \\tau + \\Psi_{0} - D\\left(\\sigma\\right) + \\delta\\left(\\kappa\\right)$"
      ],
      "text/plain": [
       "-(beta + conjugate(alpha) - conjugate(pi))*kappa - 2*beta*kappa + (epsilon - conjugate(epsilon) + conjugate(rho))*sigma + 2*epsilon*sigma + rho*sigma - kappa*tau + Psi0 - Dl(sigma) + Dm(kappa)"
      ]
     },
     "metadata": {},
     "output_type": "display_data"
    },
    {
     "data": {
      "text/html": [
       "<html>\\(\\displaystyle \\kappa {\\left(\\mu - \\overline{\\mu}\\right)} - {\\left(\\beta - \\overline{\\alpha}\\right)} \\rho + 2 \\, \\beta \\rho - {\\left(\\alpha - \\overline{\\beta}\\right)} \\sigma - 2 \\, \\alpha \\sigma + {\\left(\\rho - \\overline{\\rho}\\right)} \\tau + \\Phi_{01} - \\Psi_{1} - \\delta\\left(\\rho\\right) + \\bar{\\delta}\\left(\\sigma\\right)\\)</html>"
      ],
      "text/latex": [
       "$\\displaystyle \\kappa {\\left(\\mu - \\overline{\\mu}\\right)} - {\\left(\\beta - \\overline{\\alpha}\\right)} \\rho + 2 \\, \\beta \\rho - {\\left(\\alpha - \\overline{\\beta}\\right)} \\sigma - 2 \\, \\alpha \\sigma + {\\left(\\rho - \\overline{\\rho}\\right)} \\tau + \\Phi_{01} - \\Psi_{1} - \\delta\\left(\\rho\\right) + \\bar{\\delta}\\left(\\sigma\\right)$"
      ],
      "text/plain": [
       "kappa*(mu - conjugate(mu)) - (beta - conjugate(alpha))*rho + 2*beta*rho - (alpha - conjugate(beta))*sigma - 2*alpha*sigma + (rho - conjugate(rho))*tau + Phi01 - Psi1 - Dm(rho) + Dmbar(sigma)"
      ]
     },
     "metadata": {},
     "output_type": "display_data"
    },
    {
     "data": {
      "text/html": [
       "<html>\\(\\displaystyle \\verb|*****|\\)</html>"
      ],
      "text/latex": [
       "$\\displaystyle \\verb|*****|$"
      ],
      "text/plain": [
       "'*****'"
      ]
     },
     "metadata": {},
     "output_type": "display_data"
    },
    {
     "data": {
      "text/html": [
       "<html>\\(\\displaystyle {\\left(\\epsilon + \\overline{\\epsilon}\\right)} \\nu + 2 \\, \\epsilon \\nu - \\mu {\\left(\\pi + \\overline{\\tau}\\right)} + {\\left(\\gamma + \\overline{\\gamma}\\right)} \\pi - 2 \\, \\gamma \\pi - {\\lambda} {\\left(\\tau + \\overline{\\pi}\\right)} - \\Phi_{21} - \\Psi_{3} + D\\left(\\nu\\right) - \\Delta\\left(\\pi\\right)\\)</html>"
      ],
      "text/latex": [
       "$\\displaystyle {\\left(\\epsilon + \\overline{\\epsilon}\\right)} \\nu + 2 \\, \\epsilon \\nu - \\mu {\\left(\\pi + \\overline{\\tau}\\right)} + {\\left(\\gamma + \\overline{\\gamma}\\right)} \\pi - 2 \\, \\gamma \\pi - {\\lambda} {\\left(\\tau + \\overline{\\pi}\\right)} - \\Phi_{21} - \\Psi_{3} + D\\left(\\nu\\right) - \\Delta\\left(\\pi\\right)$"
      ],
      "text/plain": [
       "(epsilon + conjugate(epsilon))*nu + 2*epsilon*nu - mu*(pi + conjugate(tau)) + (gamma + conjugate(gamma))*pi - 2*gamma*pi - lambdaa*(tau + conjugate(pi)) - Phi21 - Psi3 + Dl(nu) - Dn(pi)"
      ]
     },
     "metadata": {},
     "output_type": "display_data"
    },
    {
     "data": {
      "text/html": [
       "<html>\\(\\displaystyle {\\left(\\gamma - \\overline{\\gamma} + \\overline{\\mu}\\right)} {\\lambda} + 2 \\, \\gamma {\\lambda} + {\\lambda} \\mu - {\\left(\\alpha + \\overline{\\beta} - \\overline{\\tau}\\right)} \\nu - 2 \\, \\alpha \\nu - \\nu \\pi + \\Psi_{4} - \\bar{\\delta}\\left(\\nu\\right) + \\Delta\\left({\\lambda}\\right)\\)</html>"
      ],
      "text/latex": [
       "$\\displaystyle {\\left(\\gamma - \\overline{\\gamma} + \\overline{\\mu}\\right)} {\\lambda} + 2 \\, \\gamma {\\lambda} + {\\lambda} \\mu - {\\left(\\alpha + \\overline{\\beta} - \\overline{\\tau}\\right)} \\nu - 2 \\, \\alpha \\nu - \\nu \\pi + \\Psi_{4} - \\bar{\\delta}\\left(\\nu\\right) + \\Delta\\left({\\lambda}\\right)$"
      ],
      "text/plain": [
       "(gamma - conjugate(gamma) + conjugate(mu))*lambdaa + 2*gamma*lambdaa + lambdaa*mu - (alpha + conjugate(beta) - conjugate(tau))*nu - 2*alpha*nu - nu*pi + Psi4 - Dmbar(nu) + Dn(lambdaa)"
      ]
     },
     "metadata": {},
     "output_type": "display_data"
    },
    {
     "data": {
      "text/html": [
       "<html>\\(\\displaystyle -{\\left(\\gamma - \\mu - \\overline{\\gamma}\\right)} \\mu + 2 \\, \\gamma \\mu - {\\left(\\beta - \\tau + \\overline{\\alpha}\\right)} \\nu - 2 \\, \\beta \\nu + {\\lambda} \\overline{{\\lambda}} - \\pi \\overline{\\nu} + \\Phi_{22} - \\delta\\left(\\nu\\right) + \\Delta\\left(\\mu\\right)\\)</html>"
      ],
      "text/latex": [
       "$\\displaystyle -{\\left(\\gamma - \\mu - \\overline{\\gamma}\\right)} \\mu + 2 \\, \\gamma \\mu - {\\left(\\beta - \\tau + \\overline{\\alpha}\\right)} \\nu - 2 \\, \\beta \\nu + {\\lambda} \\overline{{\\lambda}} - \\pi \\overline{\\nu} + \\Phi_{22} - \\delta\\left(\\nu\\right) + \\Delta\\left(\\mu\\right)$"
      ],
      "text/plain": [
       "-(gamma - mu - conjugate(gamma))*mu + 2*gamma*mu - (beta - tau + conjugate(alpha))*nu - 2*beta*nu + lambdaa*conjugate(lambdaa) - pi*conjugate(nu) + Phi22 - Dm(nu) + Dn(mu)"
      ]
     },
     "metadata": {},
     "output_type": "display_data"
    },
    {
     "data": {
      "text/html": [
       "<html>\\(\\displaystyle {\\left(\\epsilon - \\rho - \\overline{\\epsilon}\\right)} {\\lambda} + 2 \\, \\epsilon {\\lambda} + {\\left(\\alpha - \\pi + \\overline{\\beta}\\right)} \\pi - 2 \\, \\alpha \\pi + \\nu \\overline{\\kappa} - \\mu \\overline{\\sigma} - \\Phi_{20} + D\\left({\\lambda}\\right) - \\bar{\\delta}\\left(\\pi\\right)\\)</html>"
      ],
      "text/latex": [
       "$\\displaystyle {\\left(\\epsilon - \\rho - \\overline{\\epsilon}\\right)} {\\lambda} + 2 \\, \\epsilon {\\lambda} + {\\left(\\alpha - \\pi + \\overline{\\beta}\\right)} \\pi - 2 \\, \\alpha \\pi + \\nu \\overline{\\kappa} - \\mu \\overline{\\sigma} - \\Phi_{20} + D\\left({\\lambda}\\right) - \\bar{\\delta}\\left(\\pi\\right)$"
      ],
      "text/plain": [
       "(epsilon - rho - conjugate(epsilon))*lambdaa + 2*epsilon*lambdaa + (alpha - pi + conjugate(beta))*pi - 2*alpha*pi + nu*conjugate(kappa) - mu*conjugate(sigma) - Phi20 + Dl(lambdaa) - Dmbar(pi)"
      ]
     },
     "metadata": {},
     "output_type": "display_data"
    },
    {
     "data": {
      "text/html": [
       "<html>\\(\\displaystyle -{\\left(\\epsilon - \\overline{\\epsilon} + \\overline{\\rho}\\right)} \\mu + 2 \\, \\epsilon \\mu + \\kappa \\nu + {\\left(\\beta + \\overline{\\alpha} - \\overline{\\pi}\\right)} \\pi - 2 \\, \\beta \\pi - {\\lambda} \\sigma - 2 \\, \\Lambda - \\Psi_{2} + D\\left(\\mu\\right) - \\delta\\left(\\pi\\right)\\)</html>"
      ],
      "text/latex": [
       "$\\displaystyle -{\\left(\\epsilon - \\overline{\\epsilon} + \\overline{\\rho}\\right)} \\mu + 2 \\, \\epsilon \\mu + \\kappa \\nu + {\\left(\\beta + \\overline{\\alpha} - \\overline{\\pi}\\right)} \\pi - 2 \\, \\beta \\pi - {\\lambda} \\sigma - 2 \\, \\Lambda - \\Psi_{2} + D\\left(\\mu\\right) - \\delta\\left(\\pi\\right)$"
      ],
      "text/plain": [
       "-(epsilon - conjugate(epsilon) + conjugate(rho))*mu + 2*epsilon*mu + kappa*nu + (beta + conjugate(alpha) - conjugate(pi))*pi - 2*beta*pi - lambdaa*sigma - 2*Lambda - Psi2 + Dl(mu) - Dm(pi)"
      ]
     },
     "metadata": {},
     "output_type": "display_data"
    },
    {
     "data": {
      "text/html": [
       "<html>\\(\\displaystyle {\\left(\\beta - \\overline{\\alpha}\\right)} {\\lambda} + 2 \\, \\beta {\\lambda} + {\\left(\\alpha - \\overline{\\beta}\\right)} \\mu - 2 \\, \\alpha \\mu - {\\left(\\mu - \\overline{\\mu}\\right)} \\pi - \\nu {\\left(\\rho - \\overline{\\rho}\\right)} - \\Phi_{21} + \\Psi_{3} + \\delta\\left({\\lambda}\\right) - \\bar{\\delta}\\left(\\mu\\right)\\)</html>"
      ],
      "text/latex": [
       "$\\displaystyle {\\left(\\beta - \\overline{\\alpha}\\right)} {\\lambda} + 2 \\, \\beta {\\lambda} + {\\left(\\alpha - \\overline{\\beta}\\right)} \\mu - 2 \\, \\alpha \\mu - {\\left(\\mu - \\overline{\\mu}\\right)} \\pi - \\nu {\\left(\\rho - \\overline{\\rho}\\right)} - \\Phi_{21} + \\Psi_{3} + \\delta\\left({\\lambda}\\right) - \\bar{\\delta}\\left(\\mu\\right)$"
      ],
      "text/plain": [
       "(beta - conjugate(alpha))*lambdaa + 2*beta*lambdaa + (alpha - conjugate(beta))*mu - 2*alpha*mu - (mu - conjugate(mu))*pi - nu*(rho - conjugate(rho)) - Phi21 + Psi3 + Dm(lambdaa) - Dmbar(mu)"
      ]
     },
     "metadata": {},
     "output_type": "display_data"
    },
    {
     "data": {
      "text/html": [
       "<html>\\(\\displaystyle \\verb|*****|\\)</html>"
      ],
      "text/latex": [
       "$\\displaystyle \\verb|*****|$"
      ],
      "text/plain": [
       "'*****'"
      ]
     },
     "metadata": {},
     "output_type": "display_data"
    },
    {
     "data": {
      "text/html": [
       "<html>\\(\\displaystyle -\\epsilon {\\left(\\gamma + \\overline{\\gamma}\\right)} - {\\left(\\epsilon + \\overline{\\epsilon}\\right)} \\gamma - \\kappa \\nu + \\beta {\\left(\\pi + \\overline{\\tau}\\right)} + \\alpha {\\left(\\tau + \\overline{\\pi}\\right)} + \\pi \\tau - \\Lambda + \\Phi_{11} + \\Psi_{2} - D\\left(\\gamma\\right) + \\Delta\\left(\\epsilon\\right)\\)</html>"
      ],
      "text/latex": [
       "$\\displaystyle -\\epsilon {\\left(\\gamma + \\overline{\\gamma}\\right)} - {\\left(\\epsilon + \\overline{\\epsilon}\\right)} \\gamma - \\kappa \\nu + \\beta {\\left(\\pi + \\overline{\\tau}\\right)} + \\alpha {\\left(\\tau + \\overline{\\pi}\\right)} + \\pi \\tau - \\Lambda + \\Phi_{11} + \\Psi_{2} - D\\left(\\gamma\\right) + \\Delta\\left(\\epsilon\\right)$"
      ],
      "text/plain": [
       "-epsilon*(gamma + conjugate(gamma)) - (epsilon + conjugate(epsilon))*gamma - kappa*nu + beta*(pi + conjugate(tau)) + alpha*(tau + conjugate(pi)) + pi*tau - Lambda + Phi11 + Psi2 - Dl(gamma) + Dn(epsilon)"
      ]
     },
     "metadata": {},
     "output_type": "display_data"
    },
    {
     "data": {
      "text/html": [
       "<html>\\(\\displaystyle -\\alpha {\\left(\\gamma - \\overline{\\gamma} + \\overline{\\mu}\\right)} + {\\left(\\alpha + \\overline{\\beta} - \\overline{\\tau}\\right)} \\gamma - \\beta {\\lambda} + \\epsilon \\nu + \\nu \\rho - {\\lambda} \\tau - \\Psi_{3} + \\bar{\\delta}\\left(\\gamma\\right) - \\Delta\\left(\\alpha\\right)\\)</html>"
      ],
      "text/latex": [
       "$\\displaystyle -\\alpha {\\left(\\gamma - \\overline{\\gamma} + \\overline{\\mu}\\right)} + {\\left(\\alpha + \\overline{\\beta} - \\overline{\\tau}\\right)} \\gamma - \\beta {\\lambda} + \\epsilon \\nu + \\nu \\rho - {\\lambda} \\tau - \\Psi_{3} + \\bar{\\delta}\\left(\\gamma\\right) - \\Delta\\left(\\alpha\\right)$"
      ],
      "text/plain": [
       "-alpha*(gamma - conjugate(gamma) + conjugate(mu)) + (alpha + conjugate(beta) - conjugate(tau))*gamma - beta*lambdaa + epsilon*nu + nu*rho - lambdaa*tau - Psi3 + Dmbar(gamma) - Dn(alpha)"
      ]
     },
     "metadata": {},
     "output_type": "display_data"
    },
    {
     "data": {
      "text/html": [
       "<html>\\(\\displaystyle \\beta {\\left(\\gamma - \\mu - \\overline{\\gamma}\\right)} + {\\left(\\beta - \\tau + \\overline{\\alpha}\\right)} \\gamma + \\nu \\sigma - \\mu \\tau - \\alpha \\overline{{\\lambda}} + \\epsilon \\overline{\\nu} - \\Phi_{12} + \\delta\\left(\\gamma\\right) - \\Delta\\left(\\beta\\right)\\)</html>"
      ],
      "text/latex": [
       "$\\displaystyle \\beta {\\left(\\gamma - \\mu - \\overline{\\gamma}\\right)} + {\\left(\\beta - \\tau + \\overline{\\alpha}\\right)} \\gamma + \\nu \\sigma - \\mu \\tau - \\alpha \\overline{{\\lambda}} + \\epsilon \\overline{\\nu} - \\Phi_{12} + \\delta\\left(\\gamma\\right) - \\Delta\\left(\\beta\\right)$"
      ],
      "text/plain": [
       "beta*(gamma - mu - conjugate(gamma)) + (beta - tau + conjugate(alpha))*gamma + nu*sigma - mu*tau - alpha*conjugate(lambdaa) + epsilon*conjugate(nu) - Phi12 + Dm(gamma) - Dn(beta)"
      ]
     },
     "metadata": {},
     "output_type": "display_data"
    },
    {
     "data": {
      "text/html": [
       "<html>\\(\\displaystyle -\\alpha {\\left(\\epsilon - \\rho - \\overline{\\epsilon}\\right)} - {\\left(\\alpha - \\pi + \\overline{\\beta}\\right)} \\epsilon - \\kappa {\\lambda} + \\pi \\rho - \\gamma \\overline{\\kappa} + \\beta \\overline{\\sigma} + \\Phi_{10} - D\\left(\\alpha\\right) + \\bar{\\delta}\\left(\\epsilon\\right)\\)</html>"
      ],
      "text/latex": [
       "$\\displaystyle -\\alpha {\\left(\\epsilon - \\rho - \\overline{\\epsilon}\\right)} - {\\left(\\alpha - \\pi + \\overline{\\beta}\\right)} \\epsilon - \\kappa {\\lambda} + \\pi \\rho - \\gamma \\overline{\\kappa} + \\beta \\overline{\\sigma} + \\Phi_{10} - D\\left(\\alpha\\right) + \\bar{\\delta}\\left(\\epsilon\\right)$"
      ],
      "text/plain": [
       "-alpha*(epsilon - rho - conjugate(epsilon)) - (alpha - pi + conjugate(beta))*epsilon - kappa*lambdaa + pi*rho - gamma*conjugate(kappa) + beta*conjugate(sigma) + Phi10 - Dl(alpha) + Dmbar(epsilon)"
      ]
     },
     "metadata": {},
     "output_type": "display_data"
    },
    {
     "data": {
      "text/html": [
       "<html>\\(\\displaystyle \\beta {\\left(\\epsilon - \\overline{\\epsilon} + \\overline{\\rho}\\right)} - {\\left(\\beta + \\overline{\\alpha} - \\overline{\\pi}\\right)} \\epsilon - \\gamma \\kappa - \\kappa \\mu + \\alpha \\sigma + \\pi \\sigma + \\Psi_{1} - D\\left(\\beta\\right) + \\delta\\left(\\epsilon\\right)\\)</html>"
      ],
      "text/latex": [
       "$\\displaystyle \\beta {\\left(\\epsilon - \\overline{\\epsilon} + \\overline{\\rho}\\right)} - {\\left(\\beta + \\overline{\\alpha} - \\overline{\\pi}\\right)} \\epsilon - \\gamma \\kappa - \\kappa \\mu + \\alpha \\sigma + \\pi \\sigma + \\Psi_{1} - D\\left(\\beta\\right) + \\delta\\left(\\epsilon\\right)$"
      ],
      "text/plain": [
       "beta*(epsilon - conjugate(epsilon) + conjugate(rho)) - (beta + conjugate(alpha) - conjugate(pi))*epsilon - gamma*kappa - kappa*mu + alpha*sigma + pi*sigma + Psi1 - Dl(beta) + Dm(epsilon)"
      ]
     },
     "metadata": {},
     "output_type": "display_data"
    },
    {
     "data": {
      "text/html": [
       "<html>\\(\\displaystyle -\\alpha {\\left(\\beta - \\overline{\\alpha}\\right)} - {\\left(\\alpha - \\overline{\\beta}\\right)} \\beta + \\epsilon {\\left(\\mu - \\overline{\\mu}\\right)} + \\gamma {\\left(\\rho - \\overline{\\rho}\\right)} + \\mu \\rho - {\\lambda} \\sigma + \\Lambda + \\Phi_{11} - \\Psi_{2} - \\delta\\left(\\alpha\\right) + \\bar{\\delta}\\left(\\beta\\right)\\)</html>"
      ],
      "text/latex": [
       "$\\displaystyle -\\alpha {\\left(\\beta - \\overline{\\alpha}\\right)} - {\\left(\\alpha - \\overline{\\beta}\\right)} \\beta + \\epsilon {\\left(\\mu - \\overline{\\mu}\\right)} + \\gamma {\\left(\\rho - \\overline{\\rho}\\right)} + \\mu \\rho - {\\lambda} \\sigma + \\Lambda + \\Phi_{11} - \\Psi_{2} - \\delta\\left(\\alpha\\right) + \\bar{\\delta}\\left(\\beta\\right)$"
      ],
      "text/plain": [
       "-alpha*(beta - conjugate(alpha)) - (alpha - conjugate(beta))*beta + epsilon*(mu - conjugate(mu)) + gamma*(rho - conjugate(rho)) + mu*rho - lambdaa*sigma + Lambda + Phi11 - Psi2 - Dm(alpha) + Dmbar(beta)"
      ]
     },
     "metadata": {},
     "output_type": "display_data"
    },
    {
     "data": {
      "text/html": [
       "<html>\\(\\displaystyle \\verb|*****|\\)</html>"
      ],
      "text/latex": [
       "$\\displaystyle \\verb|*****|$"
      ],
      "text/plain": [
       "'*****'"
      ]
     },
     "metadata": {},
     "output_type": "display_data"
    },
    {
     "data": {
      "text/html": [
       "<html>\\(\\displaystyle \\verb|-------------------------------------------------------------------------|\\)</html>"
      ],
      "text/latex": [
       "$\\displaystyle \\verb|-------------------------------------------------------------------------|$"
      ],
      "text/plain": [
       "'-------------------------------------------------------------------------'"
      ]
     },
     "metadata": {},
     "output_type": "display_data"
    },
    {
     "data": {
      "text/html": [
       "<html>\\(\\displaystyle \\verb|Bianchi:|\\)</html>"
      ],
      "text/latex": [
       "$\\displaystyle \\verb|Bianchi:|$"
      ],
      "text/plain": [
       "'Bianchi:'"
      ]
     },
     "metadata": {},
     "output_type": "display_data"
    },
    {
     "data": {
      "text/html": [
       "<html>\\(\\displaystyle \\verb|*****|\\)</html>"
      ],
      "text/latex": [
       "$\\displaystyle \\verb|*****|$"
      ],
      "text/plain": [
       "'*****'"
      ]
     },
     "metadata": {},
     "output_type": "display_data"
    },
    {
     "data": {
      "text/html": [
       "<html>\\(\\displaystyle \\Psi_{1} {\\left(2 \\, \\gamma - \\mu\\right)} - \\Phi_{22} \\kappa - {\\left(\\Phi_{01} + \\Psi_{1}\\right)} \\mu + \\Psi_{0} \\nu + \\Phi_{02} \\pi + {\\left(\\Phi_{21} + \\Psi_{3}\\right)} \\sigma + \\Psi_{3} \\sigma + {\\left(\\Lambda + \\Phi_{11} - \\Psi_{2}\\right)} {\\left(\\tau + \\overline{\\pi}\\right)} + {\\left(\\Lambda - \\Phi_{11} - \\Psi_{2}\\right)} {\\left(\\tau - \\overline{\\pi}\\right)} - {\\left(2 \\, \\Lambda + \\Psi_{2}\\right)} \\tau - \\Phi_{12} {\\left(2 \\, \\overline{\\epsilon} - \\overline{\\rho}\\right)} - \\Phi_{10} \\overline{{\\lambda}} - D\\left(\\Phi_{12}\\right) - \\delta\\left(\\Lambda\\right) + \\delta\\left(\\Phi_{11}\\right) + \\delta\\left(\\Psi_{2}\\right) - \\Delta\\left(\\Psi_{1}\\right)\\)</html>"
      ],
      "text/latex": [
       "$\\displaystyle \\Psi_{1} {\\left(2 \\, \\gamma - \\mu\\right)} - \\Phi_{22} \\kappa - {\\left(\\Phi_{01} + \\Psi_{1}\\right)} \\mu + \\Psi_{0} \\nu + \\Phi_{02} \\pi + {\\left(\\Phi_{21} + \\Psi_{3}\\right)} \\sigma + \\Psi_{3} \\sigma + {\\left(\\Lambda + \\Phi_{11} - \\Psi_{2}\\right)} {\\left(\\tau + \\overline{\\pi}\\right)} + {\\left(\\Lambda - \\Phi_{11} - \\Psi_{2}\\right)} {\\left(\\tau - \\overline{\\pi}\\right)} - {\\left(2 \\, \\Lambda + \\Psi_{2}\\right)} \\tau - \\Phi_{12} {\\left(2 \\, \\overline{\\epsilon} - \\overline{\\rho}\\right)} - \\Phi_{10} \\overline{{\\lambda}} - D\\left(\\Phi_{12}\\right) - \\delta\\left(\\Lambda\\right) + \\delta\\left(\\Phi_{11}\\right) + \\delta\\left(\\Psi_{2}\\right) - \\Delta\\left(\\Psi_{1}\\right)$"
      ],
      "text/plain": [
       "Psi1*(2*gamma - mu) - Phi22*kappa - (Phi01 + Psi1)*mu + Psi0*nu + Phi02*pi + (Phi21 + Psi3)*sigma + Psi3*sigma + (Lambda + Phi11 - Psi2)*(tau + conjugate(pi)) + (Lambda - Phi11 - Psi2)*(tau - conjugate(pi)) - (2*Lambda + Psi2)*tau - Phi12*(2*conjugate(epsilon) - conjugate(rho)) - Phi10*conjugate(lambdaa) - Dl(Phi12) - Dm(Lambda) + Dm(Phi11) + Dm(Psi2) - Dn(Psi1)"
      ]
     },
     "metadata": {},
     "output_type": "display_data"
    },
    {
     "data": {
      "text/html": [
       "<html>\\(\\displaystyle -\\Psi_{3} {\\left(2 \\, \\epsilon - \\rho\\right)} - \\Psi_{4} \\kappa - {\\left(\\Phi_{01} + \\Psi_{1}\\right)} {\\lambda} - \\Psi_{1} {\\lambda} + \\Phi_{00} \\nu - {\\left(\\Lambda + \\Phi_{11} - \\Psi_{2}\\right)} {\\left(\\pi + \\overline{\\tau}\\right)} - {\\left(\\Lambda - \\Phi_{11} - \\Psi_{2}\\right)} {\\left(\\pi - \\overline{\\tau}\\right)} + {\\left(2 \\, \\Lambda + \\Psi_{2}\\right)} \\pi + {\\left(\\Phi_{21} + \\Psi_{3}\\right)} \\rho - \\Phi_{20} \\tau + \\Phi_{10} {\\left(2 \\, \\overline{\\gamma} - \\overline{\\mu}\\right)} + \\Phi_{12} \\overline{\\sigma} - D\\left(\\Psi_{3}\\right) - \\bar{\\delta}\\left(\\Lambda\\right) + \\bar{\\delta}\\left(\\Phi_{11}\\right) + \\bar{\\delta}\\left(\\Psi_{2}\\right) - \\Delta\\left(\\Phi_{10}\\right)\\)</html>"
      ],
      "text/latex": [
       "$\\displaystyle -\\Psi_{3} {\\left(2 \\, \\epsilon - \\rho\\right)} - \\Psi_{4} \\kappa - {\\left(\\Phi_{01} + \\Psi_{1}\\right)} {\\lambda} - \\Psi_{1} {\\lambda} + \\Phi_{00} \\nu - {\\left(\\Lambda + \\Phi_{11} - \\Psi_{2}\\right)} {\\left(\\pi + \\overline{\\tau}\\right)} - {\\left(\\Lambda - \\Phi_{11} - \\Psi_{2}\\right)} {\\left(\\pi - \\overline{\\tau}\\right)} + {\\left(2 \\, \\Lambda + \\Psi_{2}\\right)} \\pi + {\\left(\\Phi_{21} + \\Psi_{3}\\right)} \\rho - \\Phi_{20} \\tau + \\Phi_{10} {\\left(2 \\, \\overline{\\gamma} - \\overline{\\mu}\\right)} + \\Phi_{12} \\overline{\\sigma} - D\\left(\\Psi_{3}\\right) - \\bar{\\delta}\\left(\\Lambda\\right) + \\bar{\\delta}\\left(\\Phi_{11}\\right) + \\bar{\\delta}\\left(\\Psi_{2}\\right) - \\Delta\\left(\\Phi_{10}\\right)$"
      ],
      "text/plain": [
       "-Psi3*(2*epsilon - rho) - Psi4*kappa - (Phi01 + Psi1)*lambdaa - Psi1*lambdaa + Phi00*nu - (Lambda + Phi11 - Psi2)*(pi + conjugate(tau)) - (Lambda - Phi11 - Psi2)*(pi - conjugate(tau)) + (2*Lambda + Psi2)*pi + (Phi21 + Psi3)*rho - Phi20*tau + Phi10*(2*conjugate(gamma) - conjugate(mu)) + Phi12*conjugate(sigma) - Dl(Psi3) - Dmbar(Lambda) + Dmbar(Phi11) + Dmbar(Psi2) - Dn(Phi10)"
      ]
     },
     "metadata": {},
     "output_type": "display_data"
    },
    {
     "data": {
      "text/html": [
       "<html>\\(\\displaystyle -\\Psi_{3} {\\left(2 \\, \\beta - \\tau\\right)} - \\Phi_{02} {\\lambda} - {\\left(\\Lambda + \\Phi_{11} - \\Psi_{2}\\right)} {\\left(\\mu + \\overline{\\mu}\\right)} - {\\left(\\Lambda - \\Phi_{11} - \\Psi_{2}\\right)} {\\left(\\mu - \\overline{\\mu}\\right)} + {\\left(2 \\, \\Lambda + \\Psi_{2}\\right)} \\mu + {\\left(\\Phi_{01} - \\Psi_{1}\\right)} \\nu - \\Psi_{1} \\nu + \\Phi_{22} \\rho - \\Psi_{4} \\sigma - {\\left(\\Phi_{21} - \\Psi_{3}\\right)} \\tau + \\Phi_{12} {\\left(2 \\, \\overline{\\beta} - \\overline{\\tau}\\right)} + \\Phi_{10} \\overline{\\nu} - \\delta\\left(\\Psi_{3}\\right) + \\bar{\\delta}\\left(\\Phi_{12}\\right) - \\Delta\\left(\\Lambda\\right) - \\Delta\\left(\\Phi_{11}\\right) + \\Delta\\left(\\Psi_{2}\\right)\\)</html>"
      ],
      "text/latex": [
       "$\\displaystyle -\\Psi_{3} {\\left(2 \\, \\beta - \\tau\\right)} - \\Phi_{02} {\\lambda} - {\\left(\\Lambda + \\Phi_{11} - \\Psi_{2}\\right)} {\\left(\\mu + \\overline{\\mu}\\right)} - {\\left(\\Lambda - \\Phi_{11} - \\Psi_{2}\\right)} {\\left(\\mu - \\overline{\\mu}\\right)} + {\\left(2 \\, \\Lambda + \\Psi_{2}\\right)} \\mu + {\\left(\\Phi_{01} - \\Psi_{1}\\right)} \\nu - \\Psi_{1} \\nu + \\Phi_{22} \\rho - \\Psi_{4} \\sigma - {\\left(\\Phi_{21} - \\Psi_{3}\\right)} \\tau + \\Phi_{12} {\\left(2 \\, \\overline{\\beta} - \\overline{\\tau}\\right)} + \\Phi_{10} \\overline{\\nu} - \\delta\\left(\\Psi_{3}\\right) + \\bar{\\delta}\\left(\\Phi_{12}\\right) - \\Delta\\left(\\Lambda\\right) - \\Delta\\left(\\Phi_{11}\\right) + \\Delta\\left(\\Psi_{2}\\right)$"
      ],
      "text/plain": [
       "-Psi3*(2*beta - tau) - Phi02*lambdaa - (Lambda + Phi11 - Psi2)*(mu + conjugate(mu)) - (Lambda - Phi11 - Psi2)*(mu - conjugate(mu)) + (2*Lambda + Psi2)*mu + (Phi01 - Psi1)*nu - Psi1*nu + Phi22*rho - Psi4*sigma - (Phi21 - Psi3)*tau + Phi12*(2*conjugate(beta) - conjugate(tau)) + Phi10*conjugate(nu) - Dm(Psi3) + Dmbar(Phi12) - Dn(Lambda) - Dn(Phi11) + Dn(Psi2)"
      ]
     },
     "metadata": {},
     "output_type": "display_data"
    },
    {
     "data": {
      "text/html": [
       "<html>\\(\\displaystyle \\Psi_{1} {\\left(2 \\, \\alpha - \\pi\\right)} - {\\left(\\Phi_{21} - \\Psi_{3}\\right)} \\kappa + \\Psi_{3} \\kappa + \\Psi_{0} {\\lambda} - \\Phi_{00} \\mu + {\\left(\\Phi_{01} - \\Psi_{1}\\right)} \\pi + {\\left(\\Lambda + \\Phi_{11} - \\Psi_{2}\\right)} {\\left(\\rho + \\overline{\\rho}\\right)} + {\\left(\\Lambda - \\Phi_{11} - \\Psi_{2}\\right)} {\\left(\\rho - \\overline{\\rho}\\right)} - {\\left(2 \\, \\Lambda + \\Psi_{2}\\right)} \\rho + \\Phi_{20} \\sigma - \\Phi_{10} {\\left(2 \\, \\overline{\\alpha} - \\overline{\\pi}\\right)} - \\Phi_{12} \\overline{\\kappa} - D\\left(\\Lambda\\right) - D\\left(\\Phi_{11}\\right) + D\\left(\\Psi_{2}\\right) + \\delta\\left(\\Phi_{10}\\right) - \\bar{\\delta}\\left(\\Psi_{1}\\right)\\)</html>"
      ],
      "text/latex": [
       "$\\displaystyle \\Psi_{1} {\\left(2 \\, \\alpha - \\pi\\right)} - {\\left(\\Phi_{21} - \\Psi_{3}\\right)} \\kappa + \\Psi_{3} \\kappa + \\Psi_{0} {\\lambda} - \\Phi_{00} \\mu + {\\left(\\Phi_{01} - \\Psi_{1}\\right)} \\pi + {\\left(\\Lambda + \\Phi_{11} - \\Psi_{2}\\right)} {\\left(\\rho + \\overline{\\rho}\\right)} + {\\left(\\Lambda - \\Phi_{11} - \\Psi_{2}\\right)} {\\left(\\rho - \\overline{\\rho}\\right)} - {\\left(2 \\, \\Lambda + \\Psi_{2}\\right)} \\rho + \\Phi_{20} \\sigma - \\Phi_{10} {\\left(2 \\, \\overline{\\alpha} - \\overline{\\pi}\\right)} - \\Phi_{12} \\overline{\\kappa} - D\\left(\\Lambda\\right) - D\\left(\\Phi_{11}\\right) + D\\left(\\Psi_{2}\\right) + \\delta\\left(\\Phi_{10}\\right) - \\bar{\\delta}\\left(\\Psi_{1}\\right)$"
      ],
      "text/plain": [
       "Psi1*(2*alpha - pi) - (Phi21 - Psi3)*kappa + Psi3*kappa + Psi0*lambdaa - Phi00*mu + (Phi01 - Psi1)*pi + (Lambda + Phi11 - Psi2)*(rho + conjugate(rho)) + (Lambda - Phi11 - Psi2)*(rho - conjugate(rho)) - (2*Lambda + Psi2)*rho + Phi20*sigma - Phi10*(2*conjugate(alpha) - conjugate(pi)) - Phi12*conjugate(kappa) - Dl(Lambda) - Dl(Phi11) + Dl(Psi2) + Dm(Phi10) - Dmbar(Psi1)"
      ]
     },
     "metadata": {},
     "output_type": "display_data"
    },
    {
     "data": {
      "text/html": [
       "<html>\\(\\displaystyle \\verb|*****|\\)</html>"
      ],
      "text/latex": [
       "$\\displaystyle \\verb|*****|$"
      ],
      "text/plain": [
       "'*****'"
      ]
     },
     "metadata": {},
     "output_type": "display_data"
    },
    {
     "data": {
      "text/html": [
       "<html>\\(\\displaystyle 2 \\, {\\left(\\Phi_{01} + \\Psi_{1}\\right)} \\beta - 2 \\, \\Phi_{02} \\epsilon - \\Psi_{0} {\\left(2 \\, \\gamma - \\mu\\right)} - 2 \\, \\Psi_{0} \\gamma + 2 \\, \\Phi_{12} \\kappa - {\\left(2 \\, \\Lambda + \\Psi_{2}\\right)} \\sigma + 2 \\, {\\left(\\Lambda - \\Phi_{11} - \\Psi_{2}\\right)} \\sigma - {\\left(\\Phi_{01} - \\Psi_{1}\\right)} {\\left(\\tau + \\overline{\\pi}\\right)} + {\\left(\\Phi_{01} + \\Psi_{1}\\right)} {\\left(\\tau - \\overline{\\pi}\\right)} + 2 \\, \\Psi_{1} \\tau + \\Phi_{02} {\\left(2 \\, \\overline{\\epsilon} - \\overline{\\rho}\\right)} + \\Phi_{00} \\overline{{\\lambda}} + D\\left(\\Phi_{02}\\right) - \\delta\\left(\\Phi_{01}\\right) - \\delta\\left(\\Psi_{1}\\right) + \\Delta\\left(\\Psi_{0}\\right)\\)</html>"
      ],
      "text/latex": [
       "$\\displaystyle 2 \\, {\\left(\\Phi_{01} + \\Psi_{1}\\right)} \\beta - 2 \\, \\Phi_{02} \\epsilon - \\Psi_{0} {\\left(2 \\, \\gamma - \\mu\\right)} - 2 \\, \\Psi_{0} \\gamma + 2 \\, \\Phi_{12} \\kappa - {\\left(2 \\, \\Lambda + \\Psi_{2}\\right)} \\sigma + 2 \\, {\\left(\\Lambda - \\Phi_{11} - \\Psi_{2}\\right)} \\sigma - {\\left(\\Phi_{01} - \\Psi_{1}\\right)} {\\left(\\tau + \\overline{\\pi}\\right)} + {\\left(\\Phi_{01} + \\Psi_{1}\\right)} {\\left(\\tau - \\overline{\\pi}\\right)} + 2 \\, \\Psi_{1} \\tau + \\Phi_{02} {\\left(2 \\, \\overline{\\epsilon} - \\overline{\\rho}\\right)} + \\Phi_{00} \\overline{{\\lambda}} + D\\left(\\Phi_{02}\\right) - \\delta\\left(\\Phi_{01}\\right) - \\delta\\left(\\Psi_{1}\\right) + \\Delta\\left(\\Psi_{0}\\right)$"
      ],
      "text/plain": [
       "2*(Phi01 + Psi1)*beta - 2*Phi02*epsilon - Psi0*(2*gamma - mu) - 2*Psi0*gamma + 2*Phi12*kappa - (2*Lambda + Psi2)*sigma + 2*(Lambda - Phi11 - Psi2)*sigma - (Phi01 - Psi1)*(tau + conjugate(pi)) + (Phi01 + Psi1)*(tau - conjugate(pi)) + 2*Psi1*tau + Phi02*(2*conjugate(epsilon) - conjugate(rho)) + Phi00*conjugate(lambdaa) + Dl(Phi02) - Dm(Phi01) - Dm(Psi1) + Dn(Psi0)"
      ]
     },
     "metadata": {},
     "output_type": "display_data"
    },
    {
     "data": {
      "text/html": [
       "<html>\\(\\displaystyle 2 \\, {\\left(\\Phi_{01} + \\Psi_{1}\\right)} \\alpha + {\\left(2 \\, \\Lambda + \\Psi_{2}\\right)} {\\left(2 \\, \\epsilon - \\rho\\right)} - 2 \\, {\\left(2 \\, \\Lambda + \\Psi_{2}\\right)} \\epsilon - 2 \\, \\Phi_{00} \\gamma + 2 \\, \\Psi_{3} \\kappa + \\Psi_{0} {\\lambda} + {\\left(\\Phi_{01} - \\Psi_{1}\\right)} {\\left(\\pi + \\overline{\\tau}\\right)} - {\\left(\\Phi_{01} + \\Psi_{1}\\right)} {\\left(\\pi - \\overline{\\tau}\\right)} + 2 \\, {\\left(\\Lambda - \\Phi_{11} - \\Psi_{2}\\right)} \\rho + 2 \\, \\Phi_{10} \\tau - \\Phi_{00} {\\left(2 \\, \\overline{\\gamma} - \\overline{\\mu}\\right)} - \\Phi_{02} \\overline{\\sigma} + 2 \\, D\\left(\\Lambda\\right) + D\\left(\\Psi_{2}\\right) - \\bar{\\delta}\\left(\\Phi_{01}\\right) - \\bar{\\delta}\\left(\\Psi_{1}\\right) + \\Delta\\left(\\Phi_{00}\\right)\\)</html>"
      ],
      "text/latex": [
       "$\\displaystyle 2 \\, {\\left(\\Phi_{01} + \\Psi_{1}\\right)} \\alpha + {\\left(2 \\, \\Lambda + \\Psi_{2}\\right)} {\\left(2 \\, \\epsilon - \\rho\\right)} - 2 \\, {\\left(2 \\, \\Lambda + \\Psi_{2}\\right)} \\epsilon - 2 \\, \\Phi_{00} \\gamma + 2 \\, \\Psi_{3} \\kappa + \\Psi_{0} {\\lambda} + {\\left(\\Phi_{01} - \\Psi_{1}\\right)} {\\left(\\pi + \\overline{\\tau}\\right)} - {\\left(\\Phi_{01} + \\Psi_{1}\\right)} {\\left(\\pi - \\overline{\\tau}\\right)} + 2 \\, {\\left(\\Lambda - \\Phi_{11} - \\Psi_{2}\\right)} \\rho + 2 \\, \\Phi_{10} \\tau - \\Phi_{00} {\\left(2 \\, \\overline{\\gamma} - \\overline{\\mu}\\right)} - \\Phi_{02} \\overline{\\sigma} + 2 \\, D\\left(\\Lambda\\right) + D\\left(\\Psi_{2}\\right) - \\bar{\\delta}\\left(\\Phi_{01}\\right) - \\bar{\\delta}\\left(\\Psi_{1}\\right) + \\Delta\\left(\\Phi_{00}\\right)$"
      ],
      "text/plain": [
       "2*(Phi01 + Psi1)*alpha + (2*Lambda + Psi2)*(2*epsilon - rho) - 2*(2*Lambda + Psi2)*epsilon - 2*Phi00*gamma + 2*Psi3*kappa + Psi0*lambdaa + (Phi01 - Psi1)*(pi + conjugate(tau)) - (Phi01 + Psi1)*(pi - conjugate(tau)) + 2*(Lambda - Phi11 - Psi2)*rho + 2*Phi10*tau - Phi00*(2*conjugate(gamma) - conjugate(mu)) - Phi02*conjugate(sigma) + 2*Dl(Lambda) + Dl(Psi2) - Dmbar(Phi01) - Dmbar(Psi1) + Dn(Phi00)"
      ]
     },
     "metadata": {},
     "output_type": "display_data"
    },
    {
     "data": {
      "text/html": [
       "<html>\\(\\displaystyle 2 \\, \\Phi_{02} \\alpha + {\\left(2 \\, \\Lambda + \\Psi_{2}\\right)} {\\left(2 \\, \\beta - \\tau\\right)} - 2 \\, {\\left(2 \\, \\Lambda + \\Psi_{2}\\right)} \\beta - 2 \\, {\\left(\\Phi_{01} - \\Psi_{1}\\right)} \\gamma + {\\left(\\Phi_{01} - \\Psi_{1}\\right)} {\\left(\\mu + \\overline{\\mu}\\right)} - {\\left(\\Phi_{01} + \\Psi_{1}\\right)} {\\left(\\mu - \\overline{\\mu}\\right)} + \\Psi_{0} \\nu - 2 \\, \\Phi_{12} \\rho + 2 \\, \\Psi_{3} \\sigma + 2 \\, {\\left(\\Lambda + \\Phi_{11} - \\Psi_{2}\\right)} \\tau - \\Phi_{02} {\\left(2 \\, \\overline{\\beta} - \\overline{\\tau}\\right)} - \\Phi_{00} \\overline{\\nu} + 2 \\, \\delta\\left(\\Lambda\\right) + \\delta\\left(\\Psi_{2}\\right) - \\bar{\\delta}\\left(\\Phi_{02}\\right) + \\Delta\\left(\\Phi_{01}\\right) - \\Delta\\left(\\Psi_{1}\\right)\\)</html>"
      ],
      "text/latex": [
       "$\\displaystyle 2 \\, \\Phi_{02} \\alpha + {\\left(2 \\, \\Lambda + \\Psi_{2}\\right)} {\\left(2 \\, \\beta - \\tau\\right)} - 2 \\, {\\left(2 \\, \\Lambda + \\Psi_{2}\\right)} \\beta - 2 \\, {\\left(\\Phi_{01} - \\Psi_{1}\\right)} \\gamma + {\\left(\\Phi_{01} - \\Psi_{1}\\right)} {\\left(\\mu + \\overline{\\mu}\\right)} - {\\left(\\Phi_{01} + \\Psi_{1}\\right)} {\\left(\\mu - \\overline{\\mu}\\right)} + \\Psi_{0} \\nu - 2 \\, \\Phi_{12} \\rho + 2 \\, \\Psi_{3} \\sigma + 2 \\, {\\left(\\Lambda + \\Phi_{11} - \\Psi_{2}\\right)} \\tau - \\Phi_{02} {\\left(2 \\, \\overline{\\beta} - \\overline{\\tau}\\right)} - \\Phi_{00} \\overline{\\nu} + 2 \\, \\delta\\left(\\Lambda\\right) + \\delta\\left(\\Psi_{2}\\right) - \\bar{\\delta}\\left(\\Phi_{02}\\right) + \\Delta\\left(\\Phi_{01}\\right) - \\Delta\\left(\\Psi_{1}\\right)$"
      ],
      "text/plain": [
       "2*Phi02*alpha + (2*Lambda + Psi2)*(2*beta - tau) - 2*(2*Lambda + Psi2)*beta - 2*(Phi01 - Psi1)*gamma + (Phi01 - Psi1)*(mu + conjugate(mu)) - (Phi01 + Psi1)*(mu - conjugate(mu)) + Psi0*nu - 2*Phi12*rho + 2*Psi3*sigma + 2*(Lambda + Phi11 - Psi2)*tau - Phi02*(2*conjugate(beta) - conjugate(tau)) - Phi00*conjugate(nu) + 2*Dm(Lambda) + Dm(Psi2) - Dmbar(Phi02) + Dn(Phi01) - Dn(Psi1)"
      ]
     },
     "metadata": {},
     "output_type": "display_data"
    },
    {
     "data": {
      "text/html": [
       "<html>\\(\\displaystyle -\\Psi_{0} {\\left(2 \\, \\alpha - \\pi\\right)} - 2 \\, \\Psi_{0} \\alpha + 2 \\, \\Phi_{00} \\beta - 2 \\, {\\left(\\Phi_{01} - \\Psi_{1}\\right)} \\epsilon - {\\left(2 \\, \\Lambda + \\Psi_{2}\\right)} \\kappa + 2 \\, {\\left(\\Lambda + \\Phi_{11} - \\Psi_{2}\\right)} \\kappa - {\\left(\\Phi_{01} - \\Psi_{1}\\right)} {\\left(\\rho + \\overline{\\rho}\\right)} + {\\left(\\Phi_{01} + \\Psi_{1}\\right)} {\\left(\\rho - \\overline{\\rho}\\right)} + 2 \\, \\Psi_{1} \\rho - 2 \\, \\Phi_{10} \\sigma + \\Phi_{00} {\\left(2 \\, \\overline{\\alpha} - \\overline{\\pi}\\right)} + \\Phi_{02} \\overline{\\kappa} + D\\left(\\Phi_{01}\\right) - D\\left(\\Psi_{1}\\right) - \\delta\\left(\\Phi_{00}\\right) + \\bar{\\delta}\\left(\\Psi_{0}\\right)\\)</html>"
      ],
      "text/latex": [
       "$\\displaystyle -\\Psi_{0} {\\left(2 \\, \\alpha - \\pi\\right)} - 2 \\, \\Psi_{0} \\alpha + 2 \\, \\Phi_{00} \\beta - 2 \\, {\\left(\\Phi_{01} - \\Psi_{1}\\right)} \\epsilon - {\\left(2 \\, \\Lambda + \\Psi_{2}\\right)} \\kappa + 2 \\, {\\left(\\Lambda + \\Phi_{11} - \\Psi_{2}\\right)} \\kappa - {\\left(\\Phi_{01} - \\Psi_{1}\\right)} {\\left(\\rho + \\overline{\\rho}\\right)} + {\\left(\\Phi_{01} + \\Psi_{1}\\right)} {\\left(\\rho - \\overline{\\rho}\\right)} + 2 \\, \\Psi_{1} \\rho - 2 \\, \\Phi_{10} \\sigma + \\Phi_{00} {\\left(2 \\, \\overline{\\alpha} - \\overline{\\pi}\\right)} + \\Phi_{02} \\overline{\\kappa} + D\\left(\\Phi_{01}\\right) - D\\left(\\Psi_{1}\\right) - \\delta\\left(\\Phi_{00}\\right) + \\bar{\\delta}\\left(\\Psi_{0}\\right)$"
      ],
      "text/plain": [
       "-Psi0*(2*alpha - pi) - 2*Psi0*alpha + 2*Phi00*beta - 2*(Phi01 - Psi1)*epsilon - (2*Lambda + Psi2)*kappa + 2*(Lambda + Phi11 - Psi2)*kappa - (Phi01 - Psi1)*(rho + conjugate(rho)) + (Phi01 + Psi1)*(rho - conjugate(rho)) + 2*Psi1*rho - 2*Phi10*sigma + Phi00*(2*conjugate(alpha) - conjugate(pi)) + Phi02*conjugate(kappa) + Dl(Phi01) - Dl(Psi1) - Dm(Phi00) + Dmbar(Psi0)"
      ]
     },
     "metadata": {},
     "output_type": "display_data"
    },
    {
     "data": {
      "text/html": [
       "<html>\\(\\displaystyle \\verb|*****|\\)</html>"
      ],
      "text/latex": [
       "$\\displaystyle \\verb|*****|$"
      ],
      "text/plain": [
       "'*****'"
      ]
     },
     "metadata": {},
     "output_type": "display_data"
    },
    {
     "data": {
      "text/html": [
       "<html>\\(\\displaystyle 2 \\, {\\left(\\Phi_{21} + \\Psi_{3}\\right)} \\beta - 2 \\, \\Phi_{22} \\epsilon + {\\left(2 \\, \\Lambda + \\Psi_{2}\\right)} {\\left(2 \\, \\gamma - \\mu\\right)} - 2 \\, {\\left(2 \\, \\Lambda + \\Psi_{2}\\right)} \\gamma + 2 \\, {\\left(\\Lambda - \\Phi_{11} - \\Psi_{2}\\right)} \\mu + 2 \\, \\Psi_{1} \\nu + 2 \\, \\Phi_{12} \\pi + \\Psi_{4} \\sigma + {\\left(\\Phi_{21} - \\Psi_{3}\\right)} {\\left(\\tau + \\overline{\\pi}\\right)} - {\\left(\\Phi_{21} + \\Psi_{3}\\right)} {\\left(\\tau - \\overline{\\pi}\\right)} - \\Phi_{22} {\\left(2 \\, \\overline{\\epsilon} - \\overline{\\rho}\\right)} - \\Phi_{20} \\overline{{\\lambda}} - D\\left(\\Phi_{22}\\right) + \\delta\\left(\\Phi_{21}\\right) + \\delta\\left(\\Psi_{3}\\right) - 2 \\, \\Delta\\left(\\Lambda\\right) - \\Delta\\left(\\Psi_{2}\\right)\\)</html>"
      ],
      "text/latex": [
       "$\\displaystyle 2 \\, {\\left(\\Phi_{21} + \\Psi_{3}\\right)} \\beta - 2 \\, \\Phi_{22} \\epsilon + {\\left(2 \\, \\Lambda + \\Psi_{2}\\right)} {\\left(2 \\, \\gamma - \\mu\\right)} - 2 \\, {\\left(2 \\, \\Lambda + \\Psi_{2}\\right)} \\gamma + 2 \\, {\\left(\\Lambda - \\Phi_{11} - \\Psi_{2}\\right)} \\mu + 2 \\, \\Psi_{1} \\nu + 2 \\, \\Phi_{12} \\pi + \\Psi_{4} \\sigma + {\\left(\\Phi_{21} - \\Psi_{3}\\right)} {\\left(\\tau + \\overline{\\pi}\\right)} - {\\left(\\Phi_{21} + \\Psi_{3}\\right)} {\\left(\\tau - \\overline{\\pi}\\right)} - \\Phi_{22} {\\left(2 \\, \\overline{\\epsilon} - \\overline{\\rho}\\right)} - \\Phi_{20} \\overline{{\\lambda}} - D\\left(\\Phi_{22}\\right) + \\delta\\left(\\Phi_{21}\\right) + \\delta\\left(\\Psi_{3}\\right) - 2 \\, \\Delta\\left(\\Lambda\\right) - \\Delta\\left(\\Psi_{2}\\right)$"
      ],
      "text/plain": [
       "2*(Phi21 + Psi3)*beta - 2*Phi22*epsilon + (2*Lambda + Psi2)*(2*gamma - mu) - 2*(2*Lambda + Psi2)*gamma + 2*(Lambda - Phi11 - Psi2)*mu + 2*Psi1*nu + 2*Phi12*pi + Psi4*sigma + (Phi21 - Psi3)*(tau + conjugate(pi)) - (Phi21 + Psi3)*(tau - conjugate(pi)) - Phi22*(2*conjugate(epsilon) - conjugate(rho)) - Phi20*conjugate(lambdaa) - Dl(Phi22) + Dm(Phi21) + Dm(Psi3) - 2*Dn(Lambda) - Dn(Psi2)"
      ]
     },
     "metadata": {},
     "output_type": "display_data"
    },
    {
     "data": {
      "text/html": [
       "<html>\\(\\displaystyle 2 \\, {\\left(\\Phi_{21} + \\Psi_{3}\\right)} \\alpha - \\Psi_{4} {\\left(2 \\, \\epsilon - \\rho\\right)} - 2 \\, \\Psi_{4} \\epsilon - 2 \\, \\Phi_{20} \\gamma - {\\left(2 \\, \\Lambda + \\Psi_{2}\\right)} {\\lambda} + 2 \\, {\\left(\\Lambda - \\Phi_{11} - \\Psi_{2}\\right)} {\\lambda} + 2 \\, \\Phi_{10} \\nu - {\\left(\\Phi_{21} - \\Psi_{3}\\right)} {\\left(\\pi + \\overline{\\tau}\\right)} + {\\left(\\Phi_{21} + \\Psi_{3}\\right)} {\\left(\\pi - \\overline{\\tau}\\right)} + 2 \\, \\Psi_{3} \\pi + \\Phi_{20} {\\left(2 \\, \\overline{\\gamma} - \\overline{\\mu}\\right)} + \\Phi_{22} \\overline{\\sigma} - D\\left(\\Psi_{4}\\right) + \\bar{\\delta}\\left(\\Phi_{21}\\right) + \\bar{\\delta}\\left(\\Psi_{3}\\right) - \\Delta\\left(\\Phi_{20}\\right)\\)</html>"
      ],
      "text/latex": [
       "$\\displaystyle 2 \\, {\\left(\\Phi_{21} + \\Psi_{3}\\right)} \\alpha - \\Psi_{4} {\\left(2 \\, \\epsilon - \\rho\\right)} - 2 \\, \\Psi_{4} \\epsilon - 2 \\, \\Phi_{20} \\gamma - {\\left(2 \\, \\Lambda + \\Psi_{2}\\right)} {\\lambda} + 2 \\, {\\left(\\Lambda - \\Phi_{11} - \\Psi_{2}\\right)} {\\lambda} + 2 \\, \\Phi_{10} \\nu - {\\left(\\Phi_{21} - \\Psi_{3}\\right)} {\\left(\\pi + \\overline{\\tau}\\right)} + {\\left(\\Phi_{21} + \\Psi_{3}\\right)} {\\left(\\pi - \\overline{\\tau}\\right)} + 2 \\, \\Psi_{3} \\pi + \\Phi_{20} {\\left(2 \\, \\overline{\\gamma} - \\overline{\\mu}\\right)} + \\Phi_{22} \\overline{\\sigma} - D\\left(\\Psi_{4}\\right) + \\bar{\\delta}\\left(\\Phi_{21}\\right) + \\bar{\\delta}\\left(\\Psi_{3}\\right) - \\Delta\\left(\\Phi_{20}\\right)$"
      ],
      "text/plain": [
       "2*(Phi21 + Psi3)*alpha - Psi4*(2*epsilon - rho) - 2*Psi4*epsilon - 2*Phi20*gamma - (2*Lambda + Psi2)*lambdaa + 2*(Lambda - Phi11 - Psi2)*lambdaa + 2*Phi10*nu - (Phi21 - Psi3)*(pi + conjugate(tau)) + (Phi21 + Psi3)*(pi - conjugate(tau)) + 2*Psi3*pi + Phi20*(2*conjugate(gamma) - conjugate(mu)) + Phi22*conjugate(sigma) - Dl(Psi4) + Dmbar(Phi21) + Dmbar(Psi3) - Dn(Phi20)"
      ]
     },
     "metadata": {},
     "output_type": "display_data"
    },
    {
     "data": {
      "text/html": [
       "<html>\\(\\displaystyle 2 \\, \\Phi_{22} \\alpha - \\Psi_{4} {\\left(2 \\, \\beta - \\tau\\right)} - 2 \\, \\Psi_{4} \\beta - 2 \\, {\\left(\\Phi_{21} - \\Psi_{3}\\right)} \\gamma - 2 \\, \\Phi_{12} {\\lambda} - {\\left(\\Phi_{21} - \\Psi_{3}\\right)} {\\left(\\mu + \\overline{\\mu}\\right)} + {\\left(\\Phi_{21} + \\Psi_{3}\\right)} {\\left(\\mu - \\overline{\\mu}\\right)} + 2 \\, \\Psi_{3} \\mu - {\\left(2 \\, \\Lambda + \\Psi_{2}\\right)} \\nu + 2 \\, {\\left(\\Lambda + \\Phi_{11} - \\Psi_{2}\\right)} \\nu + \\Phi_{22} {\\left(2 \\, \\overline{\\beta} - \\overline{\\tau}\\right)} + \\Phi_{20} \\overline{\\nu} - \\delta\\left(\\Psi_{4}\\right) + \\bar{\\delta}\\left(\\Phi_{22}\\right) - \\Delta\\left(\\Phi_{21}\\right) + \\Delta\\left(\\Psi_{3}\\right)\\)</html>"
      ],
      "text/latex": [
       "$\\displaystyle 2 \\, \\Phi_{22} \\alpha - \\Psi_{4} {\\left(2 \\, \\beta - \\tau\\right)} - 2 \\, \\Psi_{4} \\beta - 2 \\, {\\left(\\Phi_{21} - \\Psi_{3}\\right)} \\gamma - 2 \\, \\Phi_{12} {\\lambda} - {\\left(\\Phi_{21} - \\Psi_{3}\\right)} {\\left(\\mu + \\overline{\\mu}\\right)} + {\\left(\\Phi_{21} + \\Psi_{3}\\right)} {\\left(\\mu - \\overline{\\mu}\\right)} + 2 \\, \\Psi_{3} \\mu - {\\left(2 \\, \\Lambda + \\Psi_{2}\\right)} \\nu + 2 \\, {\\left(\\Lambda + \\Phi_{11} - \\Psi_{2}\\right)} \\nu + \\Phi_{22} {\\left(2 \\, \\overline{\\beta} - \\overline{\\tau}\\right)} + \\Phi_{20} \\overline{\\nu} - \\delta\\left(\\Psi_{4}\\right) + \\bar{\\delta}\\left(\\Phi_{22}\\right) - \\Delta\\left(\\Phi_{21}\\right) + \\Delta\\left(\\Psi_{3}\\right)$"
      ],
      "text/plain": [
       "2*Phi22*alpha - Psi4*(2*beta - tau) - 2*Psi4*beta - 2*(Phi21 - Psi3)*gamma - 2*Phi12*lambdaa - (Phi21 - Psi3)*(mu + conjugate(mu)) + (Phi21 + Psi3)*(mu - conjugate(mu)) + 2*Psi3*mu - (2*Lambda + Psi2)*nu + 2*(Lambda + Phi11 - Psi2)*nu + Phi22*(2*conjugate(beta) - conjugate(tau)) + Phi20*conjugate(nu) - Dm(Psi4) + Dmbar(Phi22) - Dn(Phi21) + Dn(Psi3)"
      ]
     },
     "metadata": {},
     "output_type": "display_data"
    },
    {
     "data": {
      "text/html": [
       "<html>\\(\\displaystyle {\\left(2 \\, \\Lambda + \\Psi_{2}\\right)} {\\left(2 \\, \\alpha - \\pi\\right)} - 2 \\, {\\left(2 \\, \\Lambda + \\Psi_{2}\\right)} \\alpha + 2 \\, \\Phi_{20} \\beta - 2 \\, {\\left(\\Phi_{21} - \\Psi_{3}\\right)} \\epsilon + \\Psi_{4} \\kappa + 2 \\, \\Psi_{1} {\\lambda} - 2 \\, \\Phi_{10} \\mu + 2 \\, {\\left(\\Lambda + \\Phi_{11} - \\Psi_{2}\\right)} \\pi + {\\left(\\Phi_{21} - \\Psi_{3}\\right)} {\\left(\\rho + \\overline{\\rho}\\right)} - {\\left(\\Phi_{21} + \\Psi_{3}\\right)} {\\left(\\rho - \\overline{\\rho}\\right)} - \\Phi_{20} {\\left(2 \\, \\overline{\\alpha} - \\overline{\\pi}\\right)} - \\Phi_{22} \\overline{\\kappa} - D\\left(\\Phi_{21}\\right) + D\\left(\\Psi_{3}\\right) + \\delta\\left(\\Phi_{20}\\right) - 2 \\, \\bar{\\delta}\\left(\\Lambda\\right) - \\bar{\\delta}\\left(\\Psi_{2}\\right)\\)</html>"
      ],
      "text/latex": [
       "$\\displaystyle {\\left(2 \\, \\Lambda + \\Psi_{2}\\right)} {\\left(2 \\, \\alpha - \\pi\\right)} - 2 \\, {\\left(2 \\, \\Lambda + \\Psi_{2}\\right)} \\alpha + 2 \\, \\Phi_{20} \\beta - 2 \\, {\\left(\\Phi_{21} - \\Psi_{3}\\right)} \\epsilon + \\Psi_{4} \\kappa + 2 \\, \\Psi_{1} {\\lambda} - 2 \\, \\Phi_{10} \\mu + 2 \\, {\\left(\\Lambda + \\Phi_{11} - \\Psi_{2}\\right)} \\pi + {\\left(\\Phi_{21} - \\Psi_{3}\\right)} {\\left(\\rho + \\overline{\\rho}\\right)} - {\\left(\\Phi_{21} + \\Psi_{3}\\right)} {\\left(\\rho - \\overline{\\rho}\\right)} - \\Phi_{20} {\\left(2 \\, \\overline{\\alpha} - \\overline{\\pi}\\right)} - \\Phi_{22} \\overline{\\kappa} - D\\left(\\Phi_{21}\\right) + D\\left(\\Psi_{3}\\right) + \\delta\\left(\\Phi_{20}\\right) - 2 \\, \\bar{\\delta}\\left(\\Lambda\\right) - \\bar{\\delta}\\left(\\Psi_{2}\\right)$"
      ],
      "text/plain": [
       "(2*Lambda + Psi2)*(2*alpha - pi) - 2*(2*Lambda + Psi2)*alpha + 2*Phi20*beta - 2*(Phi21 - Psi3)*epsilon + Psi4*kappa + 2*Psi1*lambdaa - 2*Phi10*mu + 2*(Lambda + Phi11 - Psi2)*pi + (Phi21 - Psi3)*(rho + conjugate(rho)) - (Phi21 + Psi3)*(rho - conjugate(rho)) - Phi20*(2*conjugate(alpha) - conjugate(pi)) - Phi22*conjugate(kappa) - Dl(Phi21) + Dl(Psi3) + Dm(Phi20) - 2*Dmbar(Lambda) - Dmbar(Psi2)"
      ]
     },
     "metadata": {},
     "output_type": "display_data"
    },
    {
     "data": {
      "text/html": [
       "<html>\\(\\displaystyle \\verb|*****|\\)</html>"
      ],
      "text/latex": [
       "$\\displaystyle \\verb|*****|$"
      ],
      "text/plain": [
       "'*****'"
      ]
     },
     "metadata": {},
     "output_type": "display_data"
    },
    {
     "data": {
      "text/html": [
       "<html>\\(\\displaystyle -\\Psi_{1} {\\left(2 \\, \\gamma - \\mu\\right)} + \\Phi_{22} \\kappa + {\\left(\\Phi_{01} + \\Psi_{1}\\right)} \\mu - \\Psi_{0} \\nu - \\Phi_{02} \\pi - {\\left(\\Phi_{21} + \\Psi_{3}\\right)} \\sigma - \\Psi_{3} \\sigma - {\\left(\\Lambda + \\Phi_{11} - \\Psi_{2}\\right)} {\\left(\\tau + \\overline{\\pi}\\right)} - {\\left(\\Lambda - \\Phi_{11} - \\Psi_{2}\\right)} {\\left(\\tau - \\overline{\\pi}\\right)} + {\\left(2 \\, \\Lambda + \\Psi_{2}\\right)} \\tau + \\Phi_{12} {\\left(2 \\, \\overline{\\epsilon} - \\overline{\\rho}\\right)} + \\Phi_{10} \\overline{{\\lambda}} + D\\left(\\Phi_{12}\\right) + \\delta\\left(\\Lambda\\right) - \\delta\\left(\\Phi_{11}\\right) - \\delta\\left(\\Psi_{2}\\right) + \\Delta\\left(\\Psi_{1}\\right)\\)</html>"
      ],
      "text/latex": [
       "$\\displaystyle -\\Psi_{1} {\\left(2 \\, \\gamma - \\mu\\right)} + \\Phi_{22} \\kappa + {\\left(\\Phi_{01} + \\Psi_{1}\\right)} \\mu - \\Psi_{0} \\nu - \\Phi_{02} \\pi - {\\left(\\Phi_{21} + \\Psi_{3}\\right)} \\sigma - \\Psi_{3} \\sigma - {\\left(\\Lambda + \\Phi_{11} - \\Psi_{2}\\right)} {\\left(\\tau + \\overline{\\pi}\\right)} - {\\left(\\Lambda - \\Phi_{11} - \\Psi_{2}\\right)} {\\left(\\tau - \\overline{\\pi}\\right)} + {\\left(2 \\, \\Lambda + \\Psi_{2}\\right)} \\tau + \\Phi_{12} {\\left(2 \\, \\overline{\\epsilon} - \\overline{\\rho}\\right)} + \\Phi_{10} \\overline{{\\lambda}} + D\\left(\\Phi_{12}\\right) + \\delta\\left(\\Lambda\\right) - \\delta\\left(\\Phi_{11}\\right) - \\delta\\left(\\Psi_{2}\\right) + \\Delta\\left(\\Psi_{1}\\right)$"
      ],
      "text/plain": [
       "-Psi1*(2*gamma - mu) + Phi22*kappa + (Phi01 + Psi1)*mu - Psi0*nu - Phi02*pi - (Phi21 + Psi3)*sigma - Psi3*sigma - (Lambda + Phi11 - Psi2)*(tau + conjugate(pi)) - (Lambda - Phi11 - Psi2)*(tau - conjugate(pi)) + (2*Lambda + Psi2)*tau + Phi12*(2*conjugate(epsilon) - conjugate(rho)) + Phi10*conjugate(lambdaa) + Dl(Phi12) + Dm(Lambda) - Dm(Phi11) - Dm(Psi2) + Dn(Psi1)"
      ]
     },
     "metadata": {},
     "output_type": "display_data"
    },
    {
     "data": {
      "text/html": [
       "<html>\\(\\displaystyle \\Psi_{3} {\\left(2 \\, \\epsilon - \\rho\\right)} + \\Psi_{4} \\kappa + {\\left(\\Phi_{01} + \\Psi_{1}\\right)} {\\lambda} + \\Psi_{1} {\\lambda} - \\Phi_{00} \\nu + {\\left(\\Lambda + \\Phi_{11} - \\Psi_{2}\\right)} {\\left(\\pi + \\overline{\\tau}\\right)} + {\\left(\\Lambda - \\Phi_{11} - \\Psi_{2}\\right)} {\\left(\\pi - \\overline{\\tau}\\right)} - {\\left(2 \\, \\Lambda + \\Psi_{2}\\right)} \\pi - {\\left(\\Phi_{21} + \\Psi_{3}\\right)} \\rho + \\Phi_{20} \\tau - \\Phi_{10} {\\left(2 \\, \\overline{\\gamma} - \\overline{\\mu}\\right)} - \\Phi_{12} \\overline{\\sigma} + D\\left(\\Psi_{3}\\right) + \\bar{\\delta}\\left(\\Lambda\\right) - \\bar{\\delta}\\left(\\Phi_{11}\\right) - \\bar{\\delta}\\left(\\Psi_{2}\\right) + \\Delta\\left(\\Phi_{10}\\right)\\)</html>"
      ],
      "text/latex": [
       "$\\displaystyle \\Psi_{3} {\\left(2 \\, \\epsilon - \\rho\\right)} + \\Psi_{4} \\kappa + {\\left(\\Phi_{01} + \\Psi_{1}\\right)} {\\lambda} + \\Psi_{1} {\\lambda} - \\Phi_{00} \\nu + {\\left(\\Lambda + \\Phi_{11} - \\Psi_{2}\\right)} {\\left(\\pi + \\overline{\\tau}\\right)} + {\\left(\\Lambda - \\Phi_{11} - \\Psi_{2}\\right)} {\\left(\\pi - \\overline{\\tau}\\right)} - {\\left(2 \\, \\Lambda + \\Psi_{2}\\right)} \\pi - {\\left(\\Phi_{21} + \\Psi_{3}\\right)} \\rho + \\Phi_{20} \\tau - \\Phi_{10} {\\left(2 \\, \\overline{\\gamma} - \\overline{\\mu}\\right)} - \\Phi_{12} \\overline{\\sigma} + D\\left(\\Psi_{3}\\right) + \\bar{\\delta}\\left(\\Lambda\\right) - \\bar{\\delta}\\left(\\Phi_{11}\\right) - \\bar{\\delta}\\left(\\Psi_{2}\\right) + \\Delta\\left(\\Phi_{10}\\right)$"
      ],
      "text/plain": [
       "Psi3*(2*epsilon - rho) + Psi4*kappa + (Phi01 + Psi1)*lambdaa + Psi1*lambdaa - Phi00*nu + (Lambda + Phi11 - Psi2)*(pi + conjugate(tau)) + (Lambda - Phi11 - Psi2)*(pi - conjugate(tau)) - (2*Lambda + Psi2)*pi - (Phi21 + Psi3)*rho + Phi20*tau - Phi10*(2*conjugate(gamma) - conjugate(mu)) - Phi12*conjugate(sigma) + Dl(Psi3) + Dmbar(Lambda) - Dmbar(Phi11) - Dmbar(Psi2) + Dn(Phi10)"
      ]
     },
     "metadata": {},
     "output_type": "display_data"
    },
    {
     "data": {
      "text/html": [
       "<html>\\(\\displaystyle \\Psi_{3} {\\left(2 \\, \\beta - \\tau\\right)} + \\Phi_{02} {\\lambda} + {\\left(\\Lambda + \\Phi_{11} - \\Psi_{2}\\right)} {\\left(\\mu + \\overline{\\mu}\\right)} + {\\left(\\Lambda - \\Phi_{11} - \\Psi_{2}\\right)} {\\left(\\mu - \\overline{\\mu}\\right)} - {\\left(2 \\, \\Lambda + \\Psi_{2}\\right)} \\mu - {\\left(\\Phi_{01} - \\Psi_{1}\\right)} \\nu + \\Psi_{1} \\nu - \\Phi_{22} \\rho + \\Psi_{4} \\sigma + {\\left(\\Phi_{21} - \\Psi_{3}\\right)} \\tau - \\Phi_{12} {\\left(2 \\, \\overline{\\beta} - \\overline{\\tau}\\right)} - \\Phi_{10} \\overline{\\nu} + \\delta\\left(\\Psi_{3}\\right) - \\bar{\\delta}\\left(\\Phi_{12}\\right) + \\Delta\\left(\\Lambda\\right) + \\Delta\\left(\\Phi_{11}\\right) - \\Delta\\left(\\Psi_{2}\\right)\\)</html>"
      ],
      "text/latex": [
       "$\\displaystyle \\Psi_{3} {\\left(2 \\, \\beta - \\tau\\right)} + \\Phi_{02} {\\lambda} + {\\left(\\Lambda + \\Phi_{11} - \\Psi_{2}\\right)} {\\left(\\mu + \\overline{\\mu}\\right)} + {\\left(\\Lambda - \\Phi_{11} - \\Psi_{2}\\right)} {\\left(\\mu - \\overline{\\mu}\\right)} - {\\left(2 \\, \\Lambda + \\Psi_{2}\\right)} \\mu - {\\left(\\Phi_{01} - \\Psi_{1}\\right)} \\nu + \\Psi_{1} \\nu - \\Phi_{22} \\rho + \\Psi_{4} \\sigma + {\\left(\\Phi_{21} - \\Psi_{3}\\right)} \\tau - \\Phi_{12} {\\left(2 \\, \\overline{\\beta} - \\overline{\\tau}\\right)} - \\Phi_{10} \\overline{\\nu} + \\delta\\left(\\Psi_{3}\\right) - \\bar{\\delta}\\left(\\Phi_{12}\\right) + \\Delta\\left(\\Lambda\\right) + \\Delta\\left(\\Phi_{11}\\right) - \\Delta\\left(\\Psi_{2}\\right)$"
      ],
      "text/plain": [
       "Psi3*(2*beta - tau) + Phi02*lambdaa + (Lambda + Phi11 - Psi2)*(mu + conjugate(mu)) + (Lambda - Phi11 - Psi2)*(mu - conjugate(mu)) - (2*Lambda + Psi2)*mu - (Phi01 - Psi1)*nu + Psi1*nu - Phi22*rho + Psi4*sigma + (Phi21 - Psi3)*tau - Phi12*(2*conjugate(beta) - conjugate(tau)) - Phi10*conjugate(nu) + Dm(Psi3) - Dmbar(Phi12) + Dn(Lambda) + Dn(Phi11) - Dn(Psi2)"
      ]
     },
     "metadata": {},
     "output_type": "display_data"
    },
    {
     "data": {
      "text/html": [
       "<html>\\(\\displaystyle -\\Psi_{1} {\\left(2 \\, \\alpha - \\pi\\right)} + {\\left(\\Phi_{21} - \\Psi_{3}\\right)} \\kappa - \\Psi_{3} \\kappa - \\Psi_{0} {\\lambda} + \\Phi_{00} \\mu - {\\left(\\Phi_{01} - \\Psi_{1}\\right)} \\pi - {\\left(\\Lambda + \\Phi_{11} - \\Psi_{2}\\right)} {\\left(\\rho + \\overline{\\rho}\\right)} - {\\left(\\Lambda - \\Phi_{11} - \\Psi_{2}\\right)} {\\left(\\rho - \\overline{\\rho}\\right)} + {\\left(2 \\, \\Lambda + \\Psi_{2}\\right)} \\rho - \\Phi_{20} \\sigma + \\Phi_{10} {\\left(2 \\, \\overline{\\alpha} - \\overline{\\pi}\\right)} + \\Phi_{12} \\overline{\\kappa} + D\\left(\\Lambda\\right) + D\\left(\\Phi_{11}\\right) - D\\left(\\Psi_{2}\\right) - \\delta\\left(\\Phi_{10}\\right) + \\bar{\\delta}\\left(\\Psi_{1}\\right)\\)</html>"
      ],
      "text/latex": [
       "$\\displaystyle -\\Psi_{1} {\\left(2 \\, \\alpha - \\pi\\right)} + {\\left(\\Phi_{21} - \\Psi_{3}\\right)} \\kappa - \\Psi_{3} \\kappa - \\Psi_{0} {\\lambda} + \\Phi_{00} \\mu - {\\left(\\Phi_{01} - \\Psi_{1}\\right)} \\pi - {\\left(\\Lambda + \\Phi_{11} - \\Psi_{2}\\right)} {\\left(\\rho + \\overline{\\rho}\\right)} - {\\left(\\Lambda - \\Phi_{11} - \\Psi_{2}\\right)} {\\left(\\rho - \\overline{\\rho}\\right)} + {\\left(2 \\, \\Lambda + \\Psi_{2}\\right)} \\rho - \\Phi_{20} \\sigma + \\Phi_{10} {\\left(2 \\, \\overline{\\alpha} - \\overline{\\pi}\\right)} + \\Phi_{12} \\overline{\\kappa} + D\\left(\\Lambda\\right) + D\\left(\\Phi_{11}\\right) - D\\left(\\Psi_{2}\\right) - \\delta\\left(\\Phi_{10}\\right) + \\bar{\\delta}\\left(\\Psi_{1}\\right)$"
      ],
      "text/plain": [
       "-Psi1*(2*alpha - pi) + (Phi21 - Psi3)*kappa - Psi3*kappa - Psi0*lambdaa + Phi00*mu - (Phi01 - Psi1)*pi - (Lambda + Phi11 - Psi2)*(rho + conjugate(rho)) - (Lambda - Phi11 - Psi2)*(rho - conjugate(rho)) + (2*Lambda + Psi2)*rho - Phi20*sigma + Phi10*(2*conjugate(alpha) - conjugate(pi)) + Phi12*conjugate(kappa) + Dl(Lambda) + Dl(Phi11) - Dl(Psi2) - Dm(Phi10) + Dmbar(Psi1)"
      ]
     },
     "metadata": {},
     "output_type": "display_data"
    },
    {
     "data": {
      "text/html": [
       "<html>\\(\\displaystyle \\verb|*****|\\)</html>"
      ],
      "text/latex": [
       "$\\displaystyle \\verb|*****|$"
      ],
      "text/plain": [
       "'*****'"
      ]
     },
     "metadata": {},
     "output_type": "display_data"
    },
    {
     "data": {
      "text/html": [
       "<html>\\(\\displaystyle \\verb|NP1=0=| -{\\left(3 \\, \\alpha - \\pi + \\overline{\\beta}\\right)} \\kappa + {\\left(\\epsilon + \\overline{\\epsilon}\\right)} \\rho + \\rho^{2} - \\tau \\overline{\\kappa} + \\sigma \\overline{\\sigma} + \\Phi_{00} - D\\left(\\rho\\right) + \\bar{\\delta}\\left(\\kappa\\right)\\)</html>"
      ],
      "text/latex": [
       "$\\displaystyle \\verb|NP1=0=| -{\\left(3 \\, \\alpha - \\pi + \\overline{\\beta}\\right)} \\kappa + {\\left(\\epsilon + \\overline{\\epsilon}\\right)} \\rho + \\rho^{2} - \\tau \\overline{\\kappa} + \\sigma \\overline{\\sigma} + \\Phi_{00} - D\\left(\\rho\\right) + \\bar{\\delta}\\left(\\kappa\\right)$"
      ],
      "text/plain": [
       "'NP1=0=' -(3*alpha - pi + conjugate(beta))*kappa + (epsilon + conjugate(epsilon))*rho + rho^2 - tau*conjugate(kappa) + sigma*conjugate(sigma) + Phi00 - Dl(rho) + Dmbar(kappa)"
      ]
     },
     "metadata": {},
     "output_type": "display_data"
    },
    {
     "data": {
      "text/html": [
       "<html>\\(\\displaystyle \\verb|NP2=0=| -{\\left(3 \\, \\beta + \\tau + \\overline{\\alpha} - \\overline{\\pi}\\right)} \\kappa + {\\left(3 \\, \\epsilon + \\rho - \\overline{\\epsilon} + \\overline{\\rho}\\right)} \\sigma + \\Psi_{0} - D\\left(\\sigma\\right) + \\delta\\left(\\kappa\\right)\\)</html>"
      ],
      "text/latex": [
       "$\\displaystyle \\verb|NP2=0=| -{\\left(3 \\, \\beta + \\tau + \\overline{\\alpha} - \\overline{\\pi}\\right)} \\kappa + {\\left(3 \\, \\epsilon + \\rho - \\overline{\\epsilon} + \\overline{\\rho}\\right)} \\sigma + \\Psi_{0} - D\\left(\\sigma\\right) + \\delta\\left(\\kappa\\right)$"
      ],
      "text/plain": [
       "'NP2=0=' -(3*beta + tau + conjugate(alpha) - conjugate(pi))*kappa + (3*epsilon + rho - conjugate(epsilon) + conjugate(rho))*sigma + Psi0 - Dl(sigma) + Dm(kappa)"
      ]
     },
     "metadata": {},
     "output_type": "display_data"
    },
    {
     "data": {
      "text/html": [
       "<html>\\(\\displaystyle \\verb|NP3=0=| -{\\left(3 \\, \\gamma + \\overline{\\gamma}\\right)} \\kappa + {\\left(\\pi + \\overline{\\tau}\\right)} \\sigma + \\rho {\\left(\\tau + \\overline{\\pi}\\right)} + {\\left(\\epsilon - \\overline{\\epsilon}\\right)} \\tau + \\Phi_{01} + \\Psi_{1} - D\\left(\\tau\\right) + \\Delta\\left(\\kappa\\right)\\)</html>"
      ],
      "text/latex": [
       "$\\displaystyle \\verb|NP3=0=| -{\\left(3 \\, \\gamma + \\overline{\\gamma}\\right)} \\kappa + {\\left(\\pi + \\overline{\\tau}\\right)} \\sigma + \\rho {\\left(\\tau + \\overline{\\pi}\\right)} + {\\left(\\epsilon - \\overline{\\epsilon}\\right)} \\tau + \\Phi_{01} + \\Psi_{1} - D\\left(\\tau\\right) + \\Delta\\left(\\kappa\\right)$"
      ],
      "text/plain": [
       "'NP3=0=' -(3*gamma + conjugate(gamma))*kappa + (pi + conjugate(tau))*sigma + rho*(tau + conjugate(pi)) + (epsilon - conjugate(epsilon))*tau + Phi01 + Psi1 - Dl(tau) + Dn(kappa)"
      ]
     },
     "metadata": {},
     "output_type": "display_data"
    },
    {
     "data": {
      "text/html": [
       "<html>\\(\\displaystyle \\verb|NP4=0=| -\\alpha {\\left(2 \\, \\epsilon - \\rho - \\overline{\\epsilon}\\right)} - \\kappa {\\lambda} + {\\left(\\epsilon + \\rho\\right)} \\pi - \\epsilon \\overline{\\beta} - \\gamma \\overline{\\kappa} + \\beta \\overline{\\sigma} + \\Phi_{10} - D\\left(\\alpha\\right) + \\bar{\\delta}\\left(\\epsilon\\right)\\)</html>"
      ],
      "text/latex": [
       "$\\displaystyle \\verb|NP4=0=| -\\alpha {\\left(2 \\, \\epsilon - \\rho - \\overline{\\epsilon}\\right)} - \\kappa {\\lambda} + {\\left(\\epsilon + \\rho\\right)} \\pi - \\epsilon \\overline{\\beta} - \\gamma \\overline{\\kappa} + \\beta \\overline{\\sigma} + \\Phi_{10} - D\\left(\\alpha\\right) + \\bar{\\delta}\\left(\\epsilon\\right)$"
      ],
      "text/plain": [
       "'NP4=0=' -alpha*(2*epsilon - rho - conjugate(epsilon)) - kappa*lambdaa + (epsilon + rho)*pi - epsilon*conjugate(beta) - gamma*conjugate(kappa) + beta*conjugate(sigma) + Phi10 - Dl(alpha) + Dmbar(epsilon)"
      ]
     },
     "metadata": {},
     "output_type": "display_data"
    },
    {
     "data": {
      "text/html": [
       "<html>\\(\\displaystyle \\verb|NP5=0=| -{\\left(\\gamma + \\mu\\right)} \\kappa + {\\left(\\alpha + \\pi\\right)} \\sigma - \\epsilon {\\left(\\overline{\\alpha} - \\overline{\\pi}\\right)} - \\beta {\\left(\\overline{\\epsilon} - \\overline{\\rho}\\right)} + \\Psi_{1} - D\\left(\\beta\\right) + \\delta\\left(\\epsilon\\right)\\)</html>"
      ],
      "text/latex": [
       "$\\displaystyle \\verb|NP5=0=| -{\\left(\\gamma + \\mu\\right)} \\kappa + {\\left(\\alpha + \\pi\\right)} \\sigma - \\epsilon {\\left(\\overline{\\alpha} - \\overline{\\pi}\\right)} - \\beta {\\left(\\overline{\\epsilon} - \\overline{\\rho}\\right)} + \\Psi_{1} - D\\left(\\beta\\right) + \\delta\\left(\\epsilon\\right)$"
      ],
      "text/plain": [
       "'NP5=0=' -(gamma + mu)*kappa + (alpha + pi)*sigma - epsilon*(conjugate(alpha) - conjugate(pi)) - beta*(conjugate(epsilon) - conjugate(rho)) + Psi1 - Dl(beta) + Dm(epsilon)"
      ]
     },
     "metadata": {},
     "output_type": "display_data"
    },
    {
     "data": {
      "text/html": [
       "<html>\\(\\displaystyle \\verb|NP6=0=| -\\epsilon {\\left(\\gamma + \\overline{\\gamma}\\right)} - {\\left(\\epsilon + \\overline{\\epsilon}\\right)} \\gamma - \\kappa \\nu + \\beta {\\left(\\pi + \\overline{\\tau}\\right)} + \\alpha {\\left(\\tau + \\overline{\\pi}\\right)} + \\pi \\tau - \\Lambda + \\Phi_{11} + \\Psi_{2} - D\\left(\\gamma\\right) + \\Delta\\left(\\epsilon\\right)\\)</html>"
      ],
      "text/latex": [
       "$\\displaystyle \\verb|NP6=0=| -\\epsilon {\\left(\\gamma + \\overline{\\gamma}\\right)} - {\\left(\\epsilon + \\overline{\\epsilon}\\right)} \\gamma - \\kappa \\nu + \\beta {\\left(\\pi + \\overline{\\tau}\\right)} + \\alpha {\\left(\\tau + \\overline{\\pi}\\right)} + \\pi \\tau - \\Lambda + \\Phi_{11} + \\Psi_{2} - D\\left(\\gamma\\right) + \\Delta\\left(\\epsilon\\right)$"
      ],
      "text/plain": [
       "'NP6=0=' -epsilon*(gamma + conjugate(gamma)) - (epsilon + conjugate(epsilon))*gamma - kappa*nu + beta*(pi + conjugate(tau)) + alpha*(tau + conjugate(pi)) + pi*tau - Lambda + Phi11 + Psi2 - Dl(gamma) + Dn(epsilon)"
      ]
     },
     "metadata": {},
     "output_type": "display_data"
    },
    {
     "data": {
      "text/html": [
       "<html>\\(\\displaystyle \\verb|NP7=0=| -{\\left(3 \\, \\epsilon - \\overline{\\epsilon}\\right)} {\\lambda} + {\\left(\\alpha - \\overline{\\beta}\\right)} \\pi + \\pi^{2} + {\\lambda} \\rho - \\nu \\overline{\\kappa} + \\mu \\overline{\\sigma} + \\Phi_{20} - D\\left({\\lambda}\\right) + \\bar{\\delta}\\left(\\pi\\right)\\)</html>"
      ],
      "text/latex": [
       "$\\displaystyle \\verb|NP7=0=| -{\\left(3 \\, \\epsilon - \\overline{\\epsilon}\\right)} {\\lambda} + {\\left(\\alpha - \\overline{\\beta}\\right)} \\pi + \\pi^{2} + {\\lambda} \\rho - \\nu \\overline{\\kappa} + \\mu \\overline{\\sigma} + \\Phi_{20} - D\\left({\\lambda}\\right) + \\bar{\\delta}\\left(\\pi\\right)$"
      ],
      "text/plain": [
       "'NP7=0=' -(3*epsilon - conjugate(epsilon))*lambdaa + (alpha - conjugate(beta))*pi + pi^2 + lambdaa*rho - nu*conjugate(kappa) + mu*conjugate(sigma) + Phi20 - Dl(lambdaa) + Dmbar(pi)"
      ]
     },
     "metadata": {},
     "output_type": "display_data"
    },
    {
     "data": {
      "text/html": [
       "<html>\\(\\displaystyle \\verb|NP8=0=| -{\\left(\\epsilon + \\overline{\\epsilon}\\right)} \\mu - \\kappa \\nu + {\\left(\\beta - \\overline{\\alpha}\\right)} \\pi + {\\lambda} \\sigma + \\pi \\overline{\\pi} + \\mu \\overline{\\rho} + 2 \\, \\Lambda + \\Psi_{2} - D\\left(\\mu\\right) + \\delta\\left(\\pi\\right)\\)</html>"
      ],
      "text/latex": [
       "$\\displaystyle \\verb|NP8=0=| -{\\left(\\epsilon + \\overline{\\epsilon}\\right)} \\mu - \\kappa \\nu + {\\left(\\beta - \\overline{\\alpha}\\right)} \\pi + {\\lambda} \\sigma + \\pi \\overline{\\pi} + \\mu \\overline{\\rho} + 2 \\, \\Lambda + \\Psi_{2} - D\\left(\\mu\\right) + \\delta\\left(\\pi\\right)$"
      ],
      "text/plain": [
       "'NP8=0=' -(epsilon + conjugate(epsilon))*mu - kappa*nu + (beta - conjugate(alpha))*pi + lambdaa*sigma + pi*conjugate(pi) + mu*conjugate(rho) + 2*Lambda + Psi2 - Dl(mu) + Dm(pi)"
      ]
     },
     "metadata": {},
     "output_type": "display_data"
    },
    {
     "data": {
      "text/html": [
       "<html>\\(\\displaystyle \\verb|NP9=0=| -{\\left(3 \\, \\epsilon + \\overline{\\epsilon}\\right)} \\nu + \\mu {\\left(\\pi + \\overline{\\tau}\\right)} + {\\left(\\gamma - \\overline{\\gamma}\\right)} \\pi + {\\lambda} {\\left(\\tau + \\overline{\\pi}\\right)} + \\Phi_{21} + \\Psi_{3} - D\\left(\\nu\\right) + \\Delta\\left(\\pi\\right)\\)</html>"
      ],
      "text/latex": [
       "$\\displaystyle \\verb|NP9=0=| -{\\left(3 \\, \\epsilon + \\overline{\\epsilon}\\right)} \\nu + \\mu {\\left(\\pi + \\overline{\\tau}\\right)} + {\\left(\\gamma - \\overline{\\gamma}\\right)} \\pi + {\\lambda} {\\left(\\tau + \\overline{\\pi}\\right)} + \\Phi_{21} + \\Psi_{3} - D\\left(\\nu\\right) + \\Delta\\left(\\pi\\right)$"
      ],
      "text/plain": [
       "'NP9=0=' -(3*epsilon + conjugate(epsilon))*nu + mu*(pi + conjugate(tau)) + (gamma - conjugate(gamma))*pi + lambdaa*(tau + conjugate(pi)) + Phi21 + Psi3 - Dl(nu) + Dn(pi)"
      ]
     },
     "metadata": {},
     "output_type": "display_data"
    },
    {
     "data": {
      "text/html": [
       "<html>\\(\\displaystyle \\verb|NP10=0=| -{\\left(3 \\, \\gamma - \\overline{\\gamma}\\right)} {\\lambda} - {\\lambda} {\\left(\\mu + \\overline{\\mu}\\right)} + {\\left(3 \\, \\alpha + \\pi + \\overline{\\beta} - \\overline{\\tau}\\right)} \\nu - \\Psi_{4} + \\bar{\\delta}\\left(\\nu\\right) - \\Delta\\left({\\lambda}\\right)\\)</html>"
      ],
      "text/latex": [
       "$\\displaystyle \\verb|NP10=0=| -{\\left(3 \\, \\gamma - \\overline{\\gamma}\\right)} {\\lambda} - {\\lambda} {\\left(\\mu + \\overline{\\mu}\\right)} + {\\left(3 \\, \\alpha + \\pi + \\overline{\\beta} - \\overline{\\tau}\\right)} \\nu - \\Psi_{4} + \\bar{\\delta}\\left(\\nu\\right) - \\Delta\\left({\\lambda}\\right)$"
      ],
      "text/plain": [
       "'NP10=0=' -(3*gamma - conjugate(gamma))*lambdaa - lambdaa*(mu + conjugate(mu)) + (3*alpha + pi + conjugate(beta) - conjugate(tau))*nu - Psi4 + Dmbar(nu) - Dn(lambdaa)"
      ]
     },
     "metadata": {},
     "output_type": "display_data"
    },
    {
     "data": {
      "text/html": [
       "<html>\\(\\displaystyle \\verb|NP11=0=| \\kappa {\\left(\\mu - \\overline{\\mu}\\right)} + {\\left(\\beta + \\overline{\\alpha}\\right)} \\rho - {\\left(3 \\, \\alpha - \\overline{\\beta}\\right)} \\sigma + {\\left(\\rho - \\overline{\\rho}\\right)} \\tau + \\Phi_{01} - \\Psi_{1} - \\delta\\left(\\rho\\right) + \\bar{\\delta}\\left(\\sigma\\right)\\)</html>"
      ],
      "text/latex": [
       "$\\displaystyle \\verb|NP11=0=| \\kappa {\\left(\\mu - \\overline{\\mu}\\right)} + {\\left(\\beta + \\overline{\\alpha}\\right)} \\rho - {\\left(3 \\, \\alpha - \\overline{\\beta}\\right)} \\sigma + {\\left(\\rho - \\overline{\\rho}\\right)} \\tau + \\Phi_{01} - \\Psi_{1} - \\delta\\left(\\rho\\right) + \\bar{\\delta}\\left(\\sigma\\right)$"
      ],
      "text/plain": [
       "'NP11=0=' kappa*(mu - conjugate(mu)) + (beta + conjugate(alpha))*rho - (3*alpha - conjugate(beta))*sigma + (rho - conjugate(rho))*tau + Phi01 - Psi1 - Dm(rho) + Dmbar(sigma)"
      ]
     },
     "metadata": {},
     "output_type": "display_data"
    },
    {
     "data": {
      "text/html": [
       "<html>\\(\\displaystyle \\verb|NP12=0=| -2 \\, \\alpha \\beta + \\epsilon {\\left(\\mu - \\overline{\\mu}\\right)} + \\gamma {\\left(\\rho - \\overline{\\rho}\\right)} + \\mu \\rho - {\\lambda} \\sigma + \\alpha \\overline{\\alpha} + \\beta \\overline{\\beta} + \\Lambda + \\Phi_{11} - \\Psi_{2} - \\delta\\left(\\alpha\\right) + \\bar{\\delta}\\left(\\beta\\right)\\)</html>"
      ],
      "text/latex": [
       "$\\displaystyle \\verb|NP12=0=| -2 \\, \\alpha \\beta + \\epsilon {\\left(\\mu - \\overline{\\mu}\\right)} + \\gamma {\\left(\\rho - \\overline{\\rho}\\right)} + \\mu \\rho - {\\lambda} \\sigma + \\alpha \\overline{\\alpha} + \\beta \\overline{\\beta} + \\Lambda + \\Phi_{11} - \\Psi_{2} - \\delta\\left(\\alpha\\right) + \\bar{\\delta}\\left(\\beta\\right)$"
      ],
      "text/plain": [
       "'NP12=0=' -2*alpha*beta + epsilon*(mu - conjugate(mu)) + gamma*(rho - conjugate(rho)) + mu*rho - lambdaa*sigma + alpha*conjugate(alpha) + beta*conjugate(beta) + Lambda + Phi11 - Psi2 - Dm(alpha) + Dmbar(beta)"
      ]
     },
     "metadata": {},
     "output_type": "display_data"
    },
    {
     "data": {
      "text/html": [
       "<html>\\(\\displaystyle \\verb|NP13=0=| -{\\left(3 \\, \\beta - \\overline{\\alpha}\\right)} {\\lambda} + {\\left(\\alpha + \\overline{\\beta}\\right)} \\mu + {\\left(\\mu - \\overline{\\mu}\\right)} \\pi + \\nu {\\left(\\rho - \\overline{\\rho}\\right)} + \\Phi_{21} - \\Psi_{3} - \\delta\\left({\\lambda}\\right) + \\bar{\\delta}\\left(\\mu\\right)\\)</html>"
      ],
      "text/latex": [
       "$\\displaystyle \\verb|NP13=0=| -{\\left(3 \\, \\beta - \\overline{\\alpha}\\right)} {\\lambda} + {\\left(\\alpha + \\overline{\\beta}\\right)} \\mu + {\\left(\\mu - \\overline{\\mu}\\right)} \\pi + \\nu {\\left(\\rho - \\overline{\\rho}\\right)} + \\Phi_{21} - \\Psi_{3} - \\delta\\left({\\lambda}\\right) + \\bar{\\delta}\\left(\\mu\\right)$"
      ],
      "text/plain": [
       "'NP13=0=' -(3*beta - conjugate(alpha))*lambdaa + (alpha + conjugate(beta))*mu + (mu - conjugate(mu))*pi + nu*(rho - conjugate(rho)) + Phi21 - Psi3 - Dm(lambdaa) + Dmbar(mu)"
      ]
     },
     "metadata": {},
     "output_type": "display_data"
    },
    {
     "data": {
      "text/html": [
       "<html>\\(\\displaystyle \\verb|NP14=0=| {\\left(\\gamma + \\overline{\\gamma}\\right)} \\mu + \\mu^{2} - {\\left(3 \\, \\beta - \\tau + \\overline{\\alpha}\\right)} \\nu + {\\lambda} \\overline{{\\lambda}} - \\pi \\overline{\\nu} + \\Phi_{22} - \\delta\\left(\\nu\\right) + \\Delta\\left(\\mu\\right)\\)</html>"
      ],
      "text/latex": [
       "$\\displaystyle \\verb|NP14=0=| {\\left(\\gamma + \\overline{\\gamma}\\right)} \\mu + \\mu^{2} - {\\left(3 \\, \\beta - \\tau + \\overline{\\alpha}\\right)} \\nu + {\\lambda} \\overline{{\\lambda}} - \\pi \\overline{\\nu} + \\Phi_{22} - \\delta\\left(\\nu\\right) + \\Delta\\left(\\mu\\right)$"
      ],
      "text/plain": [
       "'NP14=0=' (gamma + conjugate(gamma))*mu + mu^2 - (3*beta - tau + conjugate(alpha))*nu + lambdaa*conjugate(lambdaa) - pi*conjugate(nu) + Phi22 - Dm(nu) + Dn(mu)"
      ]
     },
     "metadata": {},
     "output_type": "display_data"
    },
    {
     "data": {
      "text/html": [
       "<html>\\(\\displaystyle \\verb|NP15=0=| -\\beta {\\left(\\gamma - \\mu - \\overline{\\gamma}\\right)} - {\\left(\\beta - \\tau + \\overline{\\alpha}\\right)} \\gamma - \\nu \\sigma + \\mu \\tau + \\alpha \\overline{{\\lambda}} - \\epsilon \\overline{\\nu} + \\Phi_{12} - \\delta\\left(\\gamma\\right) + \\Delta\\left(\\beta\\right)\\)</html>"
      ],
      "text/latex": [
       "$\\displaystyle \\verb|NP15=0=| -\\beta {\\left(\\gamma - \\mu - \\overline{\\gamma}\\right)} - {\\left(\\beta - \\tau + \\overline{\\alpha}\\right)} \\gamma - \\nu \\sigma + \\mu \\tau + \\alpha \\overline{{\\lambda}} - \\epsilon \\overline{\\nu} + \\Phi_{12} - \\delta\\left(\\gamma\\right) + \\Delta\\left(\\beta\\right)$"
      ],
      "text/plain": [
       "'NP15=0=' -beta*(gamma - mu - conjugate(gamma)) - (beta - tau + conjugate(alpha))*gamma - nu*sigma + mu*tau + alpha*conjugate(lambdaa) - epsilon*conjugate(nu) + Phi12 - Dm(gamma) + Dn(beta)"
      ]
     },
     "metadata": {},
     "output_type": "display_data"
    },
    {
     "data": {
      "text/html": [
       "<html>\\(\\displaystyle \\verb|NP16=0=| -{\\left(3 \\, \\gamma - \\overline{\\gamma}\\right)} \\sigma + \\mu \\sigma + {\\left(\\beta + \\tau - \\overline{\\alpha}\\right)} \\tau + \\rho \\overline{{\\lambda}} - \\kappa \\overline{\\nu} + \\Phi_{02} - \\delta\\left(\\tau\\right) + \\Delta\\left(\\sigma\\right)\\)</html>"
      ],
      "text/latex": [
       "$\\displaystyle \\verb|NP16=0=| -{\\left(3 \\, \\gamma - \\overline{\\gamma}\\right)} \\sigma + \\mu \\sigma + {\\left(\\beta + \\tau - \\overline{\\alpha}\\right)} \\tau + \\rho \\overline{{\\lambda}} - \\kappa \\overline{\\nu} + \\Phi_{02} - \\delta\\left(\\tau\\right) + \\Delta\\left(\\sigma\\right)$"
      ],
      "text/plain": [
       "'NP16=0=' -(3*gamma - conjugate(gamma))*sigma + mu*sigma + (beta + tau - conjugate(alpha))*tau + rho*conjugate(lambdaa) - kappa*conjugate(nu) + Phi02 - Dm(tau) + Dn(sigma)"
      ]
     },
     "metadata": {},
     "output_type": "display_data"
    },
    {
     "data": {
      "text/html": [
       "<html>\\(\\displaystyle \\verb|NP17=0=| \\kappa \\nu + {\\left(\\gamma + \\overline{\\gamma}\\right)} \\rho - {\\lambda} \\sigma - {\\left(\\alpha - \\overline{\\beta} + \\overline{\\tau}\\right)} \\tau - \\rho \\overline{\\mu} - 2 \\, \\Lambda - \\Psi_{2} + \\bar{\\delta}\\left(\\tau\\right) - \\Delta\\left(\\rho\\right)\\)</html>"
      ],
      "text/latex": [
       "$\\displaystyle \\verb|NP17=0=| \\kappa \\nu + {\\left(\\gamma + \\overline{\\gamma}\\right)} \\rho - {\\lambda} \\sigma - {\\left(\\alpha - \\overline{\\beta} + \\overline{\\tau}\\right)} \\tau - \\rho \\overline{\\mu} - 2 \\, \\Lambda - \\Psi_{2} + \\bar{\\delta}\\left(\\tau\\right) - \\Delta\\left(\\rho\\right)$"
      ],
      "text/plain": [
       "'NP17=0=' kappa*nu + (gamma + conjugate(gamma))*rho - lambdaa*sigma - (alpha - conjugate(beta) + conjugate(tau))*tau - rho*conjugate(mu) - 2*Lambda - Psi2 + Dmbar(tau) - Dn(rho)"
      ]
     },
     "metadata": {},
     "output_type": "display_data"
    },
    {
     "data": {
      "text/html": [
       "<html>\\(\\displaystyle \\verb|NP18=0=| -{\\left(\\beta + \\tau\\right)} {\\lambda} + {\\left(\\epsilon + \\rho\\right)} \\nu + \\gamma {\\left(\\overline{\\beta} - \\overline{\\tau}\\right)} + \\alpha {\\left(\\overline{\\gamma} - \\overline{\\mu}\\right)} - \\Psi_{3} + \\bar{\\delta}\\left(\\gamma\\right) - \\Delta\\left(\\alpha\\right)\\)</html>"
      ],
      "text/latex": [
       "$\\displaystyle \\verb|NP18=0=| -{\\left(\\beta + \\tau\\right)} {\\lambda} + {\\left(\\epsilon + \\rho\\right)} \\nu + \\gamma {\\left(\\overline{\\beta} - \\overline{\\tau}\\right)} + \\alpha {\\left(\\overline{\\gamma} - \\overline{\\mu}\\right)} - \\Psi_{3} + \\bar{\\delta}\\left(\\gamma\\right) - \\Delta\\left(\\alpha\\right)$"
      ],
      "text/plain": [
       "'NP18=0=' -(beta + tau)*lambdaa + (epsilon + rho)*nu + gamma*(conjugate(beta) - conjugate(tau)) + alpha*(conjugate(gamma) - conjugate(mu)) - Psi3 + Dmbar(gamma) - Dn(alpha)"
      ]
     },
     "metadata": {},
     "output_type": "display_data"
    },
    {
     "name": "stdout",
     "output_type": "stream",
     "text": [
      "NP equations are ready to use as NP1(=0), NP2(=0), ..., NP18(=0).\n"
     ]
    },
    {
     "data": {
      "text/html": [
       "<html>\\(\\displaystyle \\verb|BI1=0=| \\Psi_{0} {\\left(4 \\, \\alpha - \\pi\\right)} - \\Phi_{00} {\\left(2 \\, \\beta + 2 \\, \\overline{\\alpha} - \\overline{\\pi}\\right)} - 2 \\, \\Psi_{1} {\\left(\\epsilon + 2 \\, \\rho\\right)} + 2 \\, \\Phi_{01} {\\left(\\epsilon + \\overline{\\rho}\\right)} - 2 \\, \\Phi_{11} \\kappa + 3 \\, \\Psi_{2} \\kappa + 2 \\, \\Phi_{10} \\sigma - \\Phi_{02} \\overline{\\kappa} - D\\left(\\Phi_{01}\\right) + D\\left(\\Psi_{1}\\right) + \\delta\\left(\\Phi_{00}\\right) - \\bar{\\delta}\\left(\\Psi_{0}\\right)\\)</html>"
      ],
      "text/latex": [
       "$\\displaystyle \\verb|BI1=0=| \\Psi_{0} {\\left(4 \\, \\alpha - \\pi\\right)} - \\Phi_{00} {\\left(2 \\, \\beta + 2 \\, \\overline{\\alpha} - \\overline{\\pi}\\right)} - 2 \\, \\Psi_{1} {\\left(\\epsilon + 2 \\, \\rho\\right)} + 2 \\, \\Phi_{01} {\\left(\\epsilon + \\overline{\\rho}\\right)} - 2 \\, \\Phi_{11} \\kappa + 3 \\, \\Psi_{2} \\kappa + 2 \\, \\Phi_{10} \\sigma - \\Phi_{02} \\overline{\\kappa} - D\\left(\\Phi_{01}\\right) + D\\left(\\Psi_{1}\\right) + \\delta\\left(\\Phi_{00}\\right) - \\bar{\\delta}\\left(\\Psi_{0}\\right)$"
      ],
      "text/plain": [
       "'BI1=0=' Psi0*(4*alpha - pi) - Phi00*(2*beta + 2*conjugate(alpha) - conjugate(pi)) - 2*Psi1*(epsilon + 2*rho) + 2*Phi01*(epsilon + conjugate(rho)) - 2*Phi11*kappa + 3*Psi2*kappa + 2*Phi10*sigma - Phi02*conjugate(kappa) - Dl(Phi01) + Dl(Psi1) + Dm(Phi00) - Dmbar(Psi0)"
      ]
     },
     "metadata": {},
     "output_type": "display_data"
    },
    {
     "data": {
      "text/html": [
       "<html>\\(\\displaystyle \\verb|BI2=0=| -2 \\, \\Psi_{1} {\\left(\\beta + 2 \\, \\tau\\right)} - 2 \\, \\Phi_{01} {\\left(\\beta - \\overline{\\pi}\\right)} + \\Phi_{02} {\\left(2 \\, \\epsilon - 2 \\, \\overline{\\epsilon} + \\overline{\\rho}\\right)} + \\Psi_{0} {\\left(4 \\, \\gamma - \\mu\\right)} - 2 \\, \\Phi_{12} \\kappa + 2 \\, \\Phi_{11} \\sigma + 3 \\, \\Psi_{2} \\sigma - \\Phi_{00} \\overline{{\\lambda}} - D\\left(\\Phi_{02}\\right) + \\delta\\left(\\Phi_{01}\\right) + \\delta\\left(\\Psi_{1}\\right) - \\Delta\\left(\\Psi_{0}\\right)\\)</html>"
      ],
      "text/latex": [
       "$\\displaystyle \\verb|BI2=0=| -2 \\, \\Psi_{1} {\\left(\\beta + 2 \\, \\tau\\right)} - 2 \\, \\Phi_{01} {\\left(\\beta - \\overline{\\pi}\\right)} + \\Phi_{02} {\\left(2 \\, \\epsilon - 2 \\, \\overline{\\epsilon} + \\overline{\\rho}\\right)} + \\Psi_{0} {\\left(4 \\, \\gamma - \\mu\\right)} - 2 \\, \\Phi_{12} \\kappa + 2 \\, \\Phi_{11} \\sigma + 3 \\, \\Psi_{2} \\sigma - \\Phi_{00} \\overline{{\\lambda}} - D\\left(\\Phi_{02}\\right) + \\delta\\left(\\Phi_{01}\\right) + \\delta\\left(\\Psi_{1}\\right) - \\Delta\\left(\\Psi_{0}\\right)$"
      ],
      "text/plain": [
       "'BI2=0=' -2*Psi1*(beta + 2*tau) - 2*Phi01*(beta - conjugate(pi)) + Phi02*(2*epsilon - 2*conjugate(epsilon) + conjugate(rho)) + Psi0*(4*gamma - mu) - 2*Phi12*kappa + 2*Phi11*sigma + 3*Psi2*sigma - Phi00*conjugate(lambdaa) - Dl(Phi02) + Dm(Phi01) + Dm(Psi1) - Dn(Psi0)"
      ]
     },
     "metadata": {},
     "output_type": "display_data"
    },
    {
     "data": {
      "text/html": [
       "<html>\\(\\displaystyle \\verb|BI3=0=| -2 \\, \\Psi_{3} {\\left(\\alpha + 2 \\, \\pi\\right)} - 2 \\, \\Phi_{21} {\\left(\\alpha - \\overline{\\tau}\\right)} + \\Psi_{4} {\\left(4 \\, \\epsilon - \\rho\\right)} + \\Phi_{20} {\\left(2 \\, \\gamma - 2 \\, \\overline{\\gamma} + \\overline{\\mu}\\right)} + 2 \\, \\Phi_{11} {\\lambda} + 3 \\, \\Psi_{2} {\\lambda} - 2 \\, \\Phi_{10} \\nu - \\Phi_{22} \\overline{\\sigma} + D\\left(\\Psi_{4}\\right) - \\bar{\\delta}\\left(\\Phi_{21}\\right) - \\bar{\\delta}\\left(\\Psi_{3}\\right) + \\Delta\\left(\\Phi_{20}\\right)\\)</html>"
      ],
      "text/latex": [
       "$\\displaystyle \\verb|BI3=0=| -2 \\, \\Psi_{3} {\\left(\\alpha + 2 \\, \\pi\\right)} - 2 \\, \\Phi_{21} {\\left(\\alpha - \\overline{\\tau}\\right)} + \\Psi_{4} {\\left(4 \\, \\epsilon - \\rho\\right)} + \\Phi_{20} {\\left(2 \\, \\gamma - 2 \\, \\overline{\\gamma} + \\overline{\\mu}\\right)} + 2 \\, \\Phi_{11} {\\lambda} + 3 \\, \\Psi_{2} {\\lambda} - 2 \\, \\Phi_{10} \\nu - \\Phi_{22} \\overline{\\sigma} + D\\left(\\Psi_{4}\\right) - \\bar{\\delta}\\left(\\Phi_{21}\\right) - \\bar{\\delta}\\left(\\Psi_{3}\\right) + \\Delta\\left(\\Phi_{20}\\right)$"
      ],
      "text/plain": [
       "'BI3=0=' -2*Psi3*(alpha + 2*pi) - 2*Phi21*(alpha - conjugate(tau)) + Psi4*(4*epsilon - rho) + Phi20*(2*gamma - 2*conjugate(gamma) + conjugate(mu)) + 2*Phi11*lambdaa + 3*Psi2*lambdaa - 2*Phi10*nu - Phi22*conjugate(sigma) + Dl(Psi4) - Dmbar(Phi21) - Dmbar(Psi3) + Dn(Phi20)"
      ]
     },
     "metadata": {},
     "output_type": "display_data"
    },
    {
     "data": {
      "text/html": [
       "<html>\\(\\displaystyle \\verb|BI4=0=| -\\Phi_{22} {\\left(2 \\, \\alpha + 2 \\, \\overline{\\beta} - \\overline{\\tau}\\right)} + \\Psi_{4} {\\left(4 \\, \\beta - \\tau\\right)} - 2 \\, \\Psi_{3} {\\left(\\gamma + 2 \\, \\mu\\right)} + 2 \\, \\Phi_{21} {\\left(\\gamma + \\overline{\\mu}\\right)} + 2 \\, \\Phi_{12} {\\lambda} - 2 \\, \\Phi_{11} \\nu + 3 \\, \\Psi_{2} \\nu - \\Phi_{20} \\overline{\\nu} + \\delta\\left(\\Psi_{4}\\right) - \\bar{\\delta}\\left(\\Phi_{22}\\right) + \\Delta\\left(\\Phi_{21}\\right) - \\Delta\\left(\\Psi_{3}\\right)\\)</html>"
      ],
      "text/latex": [
       "$\\displaystyle \\verb|BI4=0=| -\\Phi_{22} {\\left(2 \\, \\alpha + 2 \\, \\overline{\\beta} - \\overline{\\tau}\\right)} + \\Psi_{4} {\\left(4 \\, \\beta - \\tau\\right)} - 2 \\, \\Psi_{3} {\\left(\\gamma + 2 \\, \\mu\\right)} + 2 \\, \\Phi_{21} {\\left(\\gamma + \\overline{\\mu}\\right)} + 2 \\, \\Phi_{12} {\\lambda} - 2 \\, \\Phi_{11} \\nu + 3 \\, \\Psi_{2} \\nu - \\Phi_{20} \\overline{\\nu} + \\delta\\left(\\Psi_{4}\\right) - \\bar{\\delta}\\left(\\Phi_{22}\\right) + \\Delta\\left(\\Phi_{21}\\right) - \\Delta\\left(\\Psi_{3}\\right)$"
      ],
      "text/plain": [
       "'BI4=0=' -Phi22*(2*alpha + 2*conjugate(beta) - conjugate(tau)) + Psi4*(4*beta - tau) - 2*Psi3*(gamma + 2*mu) + 2*Phi21*(gamma + conjugate(mu)) + 2*Phi12*lambdaa - 2*Phi11*nu + 3*Psi2*nu - Phi20*conjugate(nu) + Dm(Psi4) - Dmbar(Phi22) + Dn(Phi21) - Dn(Psi3)"
      ]
     },
     "metadata": {},
     "output_type": "display_data"
    },
    {
     "data": {
      "text/html": [
       "<html>\\(\\displaystyle \\verb|BI5=0=| -2 \\, \\Psi_{1} {\\left(\\alpha - \\pi\\right)} - 2 \\, \\Phi_{01} {\\left(\\alpha + \\overline{\\tau}\\right)} + \\Phi_{00} {\\left(2 \\, \\gamma + 2 \\, \\overline{\\gamma} - \\overline{\\mu}\\right)} - 2 \\, \\Psi_{3} \\kappa - \\Psi_{0} {\\lambda} + 2 \\, \\Phi_{11} \\rho + 3 \\, \\Psi_{2} \\rho - 2 \\, \\Phi_{10} \\tau + \\Phi_{02} \\overline{\\sigma} - 2 \\, D\\left(\\Lambda\\right) - D\\left(\\Psi_{2}\\right) + \\bar{\\delta}\\left(\\Phi_{01}\\right) + \\bar{\\delta}\\left(\\Psi_{1}\\right) - \\Delta\\left(\\Phi_{00}\\right)\\)</html>"
      ],
      "text/latex": [
       "$\\displaystyle \\verb|BI5=0=| -2 \\, \\Psi_{1} {\\left(\\alpha - \\pi\\right)} - 2 \\, \\Phi_{01} {\\left(\\alpha + \\overline{\\tau}\\right)} + \\Phi_{00} {\\left(2 \\, \\gamma + 2 \\, \\overline{\\gamma} - \\overline{\\mu}\\right)} - 2 \\, \\Psi_{3} \\kappa - \\Psi_{0} {\\lambda} + 2 \\, \\Phi_{11} \\rho + 3 \\, \\Psi_{2} \\rho - 2 \\, \\Phi_{10} \\tau + \\Phi_{02} \\overline{\\sigma} - 2 \\, D\\left(\\Lambda\\right) - D\\left(\\Psi_{2}\\right) + \\bar{\\delta}\\left(\\Phi_{01}\\right) + \\bar{\\delta}\\left(\\Psi_{1}\\right) - \\Delta\\left(\\Phi_{00}\\right)$"
      ],
      "text/plain": [
       "'BI5=0=' -2*Psi1*(alpha - pi) - 2*Phi01*(alpha + conjugate(tau)) + Phi00*(2*gamma + 2*conjugate(gamma) - conjugate(mu)) - 2*Psi3*kappa - Psi0*lambdaa + 2*Phi11*rho + 3*Psi2*rho - 2*Phi10*tau + Phi02*conjugate(sigma) - 2*Dl(Lambda) - Dl(Psi2) + Dmbar(Phi01) + Dmbar(Psi1) - Dn(Phi00)"
      ]
     },
     "metadata": {},
     "output_type": "display_data"
    },
    {
     "data": {
      "text/html": [
       "<html>\\(\\displaystyle \\verb|BI6=0=| 2 \\, \\Psi_{3} {\\left(\\beta - \\tau\\right)} + 2 \\, \\Phi_{21} {\\left(\\beta + \\overline{\\pi}\\right)} - \\Phi_{22} {\\left(2 \\, \\epsilon + 2 \\, \\overline{\\epsilon} - \\overline{\\rho}\\right)} - 2 \\, \\Phi_{11} \\mu - 3 \\, \\Psi_{2} \\mu + 2 \\, \\Psi_{1} \\nu + 2 \\, \\Phi_{12} \\pi + \\Psi_{4} \\sigma - \\Phi_{20} \\overline{{\\lambda}} - D\\left(\\Phi_{22}\\right) + \\delta\\left(\\Phi_{21}\\right) + \\delta\\left(\\Psi_{3}\\right) - 2 \\, \\Delta\\left(\\Lambda\\right) - \\Delta\\left(\\Psi_{2}\\right)\\)</html>"
      ],
      "text/latex": [
       "$\\displaystyle \\verb|BI6=0=| 2 \\, \\Psi_{3} {\\left(\\beta - \\tau\\right)} + 2 \\, \\Phi_{21} {\\left(\\beta + \\overline{\\pi}\\right)} - \\Phi_{22} {\\left(2 \\, \\epsilon + 2 \\, \\overline{\\epsilon} - \\overline{\\rho}\\right)} - 2 \\, \\Phi_{11} \\mu - 3 \\, \\Psi_{2} \\mu + 2 \\, \\Psi_{1} \\nu + 2 \\, \\Phi_{12} \\pi + \\Psi_{4} \\sigma - \\Phi_{20} \\overline{{\\lambda}} - D\\left(\\Phi_{22}\\right) + \\delta\\left(\\Phi_{21}\\right) + \\delta\\left(\\Psi_{3}\\right) - 2 \\, \\Delta\\left(\\Lambda\\right) - \\Delta\\left(\\Psi_{2}\\right)$"
      ],
      "text/plain": [
       "'BI6=0=' 2*Psi3*(beta - tau) + 2*Phi21*(beta + conjugate(pi)) - Phi22*(2*epsilon + 2*conjugate(epsilon) - conjugate(rho)) - 2*Phi11*mu - 3*Psi2*mu + 2*Psi1*nu + 2*Phi12*pi + Psi4*sigma - Phi20*conjugate(lambdaa) - Dl(Phi22) + Dm(Phi21) + Dm(Psi3) - 2*Dn(Lambda) - Dn(Psi2)"
      ]
     },
     "metadata": {},
     "output_type": "display_data"
    },
    {
     "data": {
      "text/html": [
       "<html>\\(\\displaystyle \\verb|BI7=0=| -\\Phi_{20} {\\left(2 \\, \\beta - 2 \\, \\overline{\\alpha} + \\overline{\\pi}\\right)} - 2 \\, \\Psi_{3} {\\left(\\epsilon - \\rho\\right)} + 2 \\, \\Phi_{21} {\\left(\\epsilon - \\overline{\\rho}\\right)} - \\Psi_{4} \\kappa - 2 \\, \\Psi_{1} {\\lambda} + 2 \\, \\Phi_{10} \\mu - 2 \\, \\Phi_{11} \\pi + 3 \\, \\Psi_{2} \\pi + \\Phi_{22} \\overline{\\kappa} + D\\left(\\Phi_{21}\\right) - D\\left(\\Psi_{3}\\right) - \\delta\\left(\\Phi_{20}\\right) + 2 \\, \\bar{\\delta}\\left(\\Lambda\\right) + \\bar{\\delta}\\left(\\Psi_{2}\\right)\\)</html>"
      ],
      "text/latex": [
       "$\\displaystyle \\verb|BI7=0=| -\\Phi_{20} {\\left(2 \\, \\beta - 2 \\, \\overline{\\alpha} + \\overline{\\pi}\\right)} - 2 \\, \\Psi_{3} {\\left(\\epsilon - \\rho\\right)} + 2 \\, \\Phi_{21} {\\left(\\epsilon - \\overline{\\rho}\\right)} - \\Psi_{4} \\kappa - 2 \\, \\Psi_{1} {\\lambda} + 2 \\, \\Phi_{10} \\mu - 2 \\, \\Phi_{11} \\pi + 3 \\, \\Psi_{2} \\pi + \\Phi_{22} \\overline{\\kappa} + D\\left(\\Phi_{21}\\right) - D\\left(\\Psi_{3}\\right) - \\delta\\left(\\Phi_{20}\\right) + 2 \\, \\bar{\\delta}\\left(\\Lambda\\right) + \\bar{\\delta}\\left(\\Psi_{2}\\right)$"
      ],
      "text/plain": [
       "'BI7=0=' -Phi20*(2*beta - 2*conjugate(alpha) + conjugate(pi)) - 2*Psi3*(epsilon - rho) + 2*Phi21*(epsilon - conjugate(rho)) - Psi4*kappa - 2*Psi1*lambdaa + 2*Phi10*mu - 2*Phi11*pi + 3*Psi2*pi + Phi22*conjugate(kappa) + Dl(Phi21) - Dl(Psi3) - Dm(Phi20) + 2*Dmbar(Lambda) + Dmbar(Psi2)"
      ]
     },
     "metadata": {},
     "output_type": "display_data"
    },
    {
     "data": {
      "text/html": [
       "<html>\\(\\displaystyle \\verb|BI8=0=| \\Phi_{02} {\\left(2 \\, \\alpha - 2 \\, \\overline{\\beta} + \\overline{\\tau}\\right)} + 2 \\, \\Psi_{1} {\\left(\\gamma - \\mu\\right)} - 2 \\, \\Phi_{01} {\\left(\\gamma - \\overline{\\mu}\\right)} + \\Psi_{0} \\nu - 2 \\, \\Phi_{12} \\rho + 2 \\, \\Psi_{3} \\sigma + 2 \\, \\Phi_{11} \\tau - 3 \\, \\Psi_{2} \\tau - \\Phi_{00} \\overline{\\nu} + 2 \\, \\delta\\left(\\Lambda\\right) + \\delta\\left(\\Psi_{2}\\right) - \\bar{\\delta}\\left(\\Phi_{02}\\right) + \\Delta\\left(\\Phi_{01}\\right) - \\Delta\\left(\\Psi_{1}\\right)\\)</html>"
      ],
      "text/latex": [
       "$\\displaystyle \\verb|BI8=0=| \\Phi_{02} {\\left(2 \\, \\alpha - 2 \\, \\overline{\\beta} + \\overline{\\tau}\\right)} + 2 \\, \\Psi_{1} {\\left(\\gamma - \\mu\\right)} - 2 \\, \\Phi_{01} {\\left(\\gamma - \\overline{\\mu}\\right)} + \\Psi_{0} \\nu - 2 \\, \\Phi_{12} \\rho + 2 \\, \\Psi_{3} \\sigma + 2 \\, \\Phi_{11} \\tau - 3 \\, \\Psi_{2} \\tau - \\Phi_{00} \\overline{\\nu} + 2 \\, \\delta\\left(\\Lambda\\right) + \\delta\\left(\\Psi_{2}\\right) - \\bar{\\delta}\\left(\\Phi_{02}\\right) + \\Delta\\left(\\Phi_{01}\\right) - \\Delta\\left(\\Psi_{1}\\right)$"
      ],
      "text/plain": [
       "'BI8=0=' Phi02*(2*alpha - 2*conjugate(beta) + conjugate(tau)) + 2*Psi1*(gamma - mu) - 2*Phi01*(gamma - conjugate(mu)) + Psi0*nu - 2*Phi12*rho + 2*Psi3*sigma + 2*Phi11*tau - 3*Psi2*tau - Phi00*conjugate(nu) + 2*Dm(Lambda) + Dm(Psi2) - Dmbar(Phi02) + Dn(Phi01) - Dn(Psi1)"
      ]
     },
     "metadata": {},
     "output_type": "display_data"
    },
    {
     "data": {
      "text/html": [
       "<html>\\(\\displaystyle \\verb|BI9=0=| -\\Phi_{01} {\\left(2 \\, \\alpha - \\pi + 2 \\, \\overline{\\tau}\\right)} + \\Phi_{00} {\\left(2 \\, \\gamma - \\mu + 2 \\, \\overline{\\gamma} - \\overline{\\mu}\\right)} - \\Phi_{21} \\kappa + 2 \\, \\Phi_{11} {\\left(\\rho + \\overline{\\rho}\\right)} + \\Phi_{20} \\sigma - \\Phi_{10} {\\left(2 \\, \\tau + 2 \\, \\overline{\\alpha} - \\overline{\\pi}\\right)} - \\Phi_{12} \\overline{\\kappa} + \\Phi_{02} \\overline{\\sigma} - 3 \\, D\\left(\\Lambda\\right) - D\\left(\\Phi_{11}\\right) + \\delta\\left(\\Phi_{10}\\right) + \\bar{\\delta}\\left(\\Phi_{01}\\right) - \\Delta\\left(\\Phi_{00}\\right)\\)</html>"
      ],
      "text/latex": [
       "$\\displaystyle \\verb|BI9=0=| -\\Phi_{01} {\\left(2 \\, \\alpha - \\pi + 2 \\, \\overline{\\tau}\\right)} + \\Phi_{00} {\\left(2 \\, \\gamma - \\mu + 2 \\, \\overline{\\gamma} - \\overline{\\mu}\\right)} - \\Phi_{21} \\kappa + 2 \\, \\Phi_{11} {\\left(\\rho + \\overline{\\rho}\\right)} + \\Phi_{20} \\sigma - \\Phi_{10} {\\left(2 \\, \\tau + 2 \\, \\overline{\\alpha} - \\overline{\\pi}\\right)} - \\Phi_{12} \\overline{\\kappa} + \\Phi_{02} \\overline{\\sigma} - 3 \\, D\\left(\\Lambda\\right) - D\\left(\\Phi_{11}\\right) + \\delta\\left(\\Phi_{10}\\right) + \\bar{\\delta}\\left(\\Phi_{01}\\right) - \\Delta\\left(\\Phi_{00}\\right)$"
      ],
      "text/plain": [
       "'BI9=0=' -Phi01*(2*alpha - pi + 2*conjugate(tau)) + Phi00*(2*gamma - mu + 2*conjugate(gamma) - conjugate(mu)) - Phi21*kappa + 2*Phi11*(rho + conjugate(rho)) + Phi20*sigma - Phi10*(2*tau + 2*conjugate(alpha) - conjugate(pi)) - Phi12*conjugate(kappa) + Phi02*conjugate(sigma) - 3*Dl(Lambda) - Dl(Phi11) + Dm(Phi10) + Dmbar(Phi01) - Dn(Phi00)"
      ]
     },
     "metadata": {},
     "output_type": "display_data"
    },
    {
     "data": {
      "text/html": [
       "<html>\\(\\displaystyle \\verb|BI10=0=| -\\Phi_{02} {\\left(2 \\, \\alpha - \\pi - 2 \\, \\overline{\\beta} + \\overline{\\tau}\\right)} + \\Phi_{01} {\\left(2 \\, \\gamma - \\mu - 2 \\, \\overline{\\mu}\\right)} - \\Phi_{22} \\kappa + \\Phi_{12} {\\left(2 \\, \\rho - 2 \\, \\overline{\\epsilon} + \\overline{\\rho}\\right)} + \\Phi_{21} \\sigma - 2 \\, \\Phi_{11} {\\left(\\tau - \\overline{\\pi}\\right)} - \\Phi_{10} \\overline{{\\lambda}} + \\Phi_{00} \\overline{\\nu} - D\\left(\\Phi_{12}\\right) - 3 \\, \\delta\\left(\\Lambda\\right) + \\delta\\left(\\Phi_{11}\\right) + \\bar{\\delta}\\left(\\Phi_{02}\\right) - \\Delta\\left(\\Phi_{01}\\right)\\)</html>"
      ],
      "text/latex": [
       "$\\displaystyle \\verb|BI10=0=| -\\Phi_{02} {\\left(2 \\, \\alpha - \\pi - 2 \\, \\overline{\\beta} + \\overline{\\tau}\\right)} + \\Phi_{01} {\\left(2 \\, \\gamma - \\mu - 2 \\, \\overline{\\mu}\\right)} - \\Phi_{22} \\kappa + \\Phi_{12} {\\left(2 \\, \\rho - 2 \\, \\overline{\\epsilon} + \\overline{\\rho}\\right)} + \\Phi_{21} \\sigma - 2 \\, \\Phi_{11} {\\left(\\tau - \\overline{\\pi}\\right)} - \\Phi_{10} \\overline{{\\lambda}} + \\Phi_{00} \\overline{\\nu} - D\\left(\\Phi_{12}\\right) - 3 \\, \\delta\\left(\\Lambda\\right) + \\delta\\left(\\Phi_{11}\\right) + \\bar{\\delta}\\left(\\Phi_{02}\\right) - \\Delta\\left(\\Phi_{01}\\right)$"
      ],
      "text/plain": [
       "'BI10=0=' -Phi02*(2*alpha - pi - 2*conjugate(beta) + conjugate(tau)) + Phi01*(2*gamma - mu - 2*conjugate(mu)) - Phi22*kappa + Phi12*(2*rho - 2*conjugate(epsilon) + conjugate(rho)) + Phi21*sigma - 2*Phi11*(tau - conjugate(pi)) - Phi10*conjugate(lambdaa) + Phi00*conjugate(nu) - Dl(Phi12) - 3*Dm(Lambda) + Dm(Phi11) + Dmbar(Phi02) - Dn(Phi01)"
      ]
     },
     "metadata": {},
     "output_type": "display_data"
    },
    {
     "data": {
      "text/html": [
       "<html>\\(\\displaystyle \\verb|BI11=0=| \\Phi_{21} {\\left(2 \\, \\beta - \\tau + 2 \\, \\overline{\\pi}\\right)} - \\Phi_{22} {\\left(2 \\, \\epsilon - \\rho + 2 \\, \\overline{\\epsilon} - \\overline{\\rho}\\right)} - \\Phi_{02} {\\lambda} - 2 \\, \\Phi_{11} {\\left(\\mu + \\overline{\\mu}\\right)} + \\Phi_{01} \\nu + \\Phi_{12} {\\left(2 \\, \\pi + 2 \\, \\overline{\\beta} - \\overline{\\tau}\\right)} - \\Phi_{20} \\overline{{\\lambda}} + \\Phi_{10} \\overline{\\nu} - D\\left(\\Phi_{22}\\right) + \\delta\\left(\\Phi_{21}\\right) + \\bar{\\delta}\\left(\\Phi_{12}\\right) - 3 \\, \\Delta\\left(\\Lambda\\right) - \\Delta\\left(\\Phi_{11}\\right)\\)</html>"
      ],
      "text/latex": [
       "$\\displaystyle \\verb|BI11=0=| \\Phi_{21} {\\left(2 \\, \\beta - \\tau + 2 \\, \\overline{\\pi}\\right)} - \\Phi_{22} {\\left(2 \\, \\epsilon - \\rho + 2 \\, \\overline{\\epsilon} - \\overline{\\rho}\\right)} - \\Phi_{02} {\\lambda} - 2 \\, \\Phi_{11} {\\left(\\mu + \\overline{\\mu}\\right)} + \\Phi_{01} \\nu + \\Phi_{12} {\\left(2 \\, \\pi + 2 \\, \\overline{\\beta} - \\overline{\\tau}\\right)} - \\Phi_{20} \\overline{{\\lambda}} + \\Phi_{10} \\overline{\\nu} - D\\left(\\Phi_{22}\\right) + \\delta\\left(\\Phi_{21}\\right) + \\bar{\\delta}\\left(\\Phi_{12}\\right) - 3 \\, \\Delta\\left(\\Lambda\\right) - \\Delta\\left(\\Phi_{11}\\right)$"
      ],
      "text/plain": [
       "'BI11=0=' Phi21*(2*beta - tau + 2*conjugate(pi)) - Phi22*(2*epsilon - rho + 2*conjugate(epsilon) - conjugate(rho)) - Phi02*lambdaa - 2*Phi11*(mu + conjugate(mu)) + Phi01*nu + Phi12*(2*pi + 2*conjugate(beta) - conjugate(tau)) - Phi20*conjugate(lambdaa) + Phi10*conjugate(nu) - Dl(Phi22) + Dm(Phi21) + Dmbar(Phi12) - 3*Dn(Lambda) - Dn(Phi11)"
      ]
     },
     "metadata": {},
     "output_type": "display_data"
    },
    {
     "name": "stdout",
     "output_type": "stream",
     "text": [
      "Bianchi identities are ready to use as BI1(=0), BI2(=0), ..., BI11(=0).\n",
      "Checking the NP equations (NP-ceq):\n",
      "NP( 1 ) is found at ceq( 10 )\n",
      "NP( 2 ) is found at ceq( 11 )\n",
      "NP( 3 ) is found at ceq( 7 )\n",
      "NP( 4 ) is found at ceq( 22 )\n",
      "NP( 5 ) is found at ceq( 23 )\n",
      "NP( 6 ) is found at ceq( 19 )\n",
      "NP( 11 ) is found at ceq( 12 )\n",
      "NP( 12 ) is found at ceq( 24 )\n",
      "NP( 14 ) is found at ceq( 15 )\n",
      "NP( 15 ) is found at ceq( 3 )\n",
      "NP( 17 ) is found at ceq( 8 )\n",
      "NP( 18 ) is found at ceq( 20 )\n",
      "Checking the NP equations (NP+ceq):\n",
      "NP( 4 ) is found at ceq( 4 )\n",
      "NP( 5 ) is found at ceq( 5 )\n",
      "NP( 6 ) is found at ceq( 1 )\n",
      "NP( 7 ) is found at ceq( 16 )\n",
      "NP( 8 ) is found at ceq( 17 )\n",
      "NP( 9 ) is found at ceq( 13 )\n",
      "NP( 10 ) is found at ceq( 14 )\n",
      "NP( 12 ) is found at ceq( 6 )\n",
      "NP( 13 ) is found at ceq( 18 )\n",
      "NP( 15 ) is found at ceq( 21 )\n",
      "NP( 16 ) is found at ceq( 9 )\n",
      "NP( 18 ) is found at ceq( 2 )\n",
      "Checking the BI equations (BI-beq):\n",
      "BI( 6 ) is found at beq( 9 )\n",
      "BI( 8 ) is found at beq( 7 )\n",
      "Checking the BI equations (BI+beq):\n",
      "BI( 1 ) is found at beq( 8 )\n",
      "BI( 2 ) is found at beq( 5 )\n",
      "BI( 3 ) is found at beq( 10 )\n",
      "BI( 4 ) is found at beq( 11 )\n",
      "BI( 5 ) is found at beq( 6 )\n",
      "BI( 7 ) is found at beq( 12 )\n",
      "BI( 9 ) is found at beq( 4 6 )\n",
      "BI( 10 ) is found at beq( 1 7 )\n",
      "BI( 11 ) is found at beq( 3 9 )\n",
      "BI( 11 ) is found at beq( 9 3 )\n",
      "BI( 11 ) is found at beq( 9 15 )\n"
     ]
    }
   ],
   "source": [
    "reset()\n",
    "load(\"NPDerivatives.sage\")\n",
    "\n",
    "############################################################################################\n",
    "# Define matrix multiplication for form-valued matrices\n",
    "def matmul(A,B):\n",
    "    C1=A[0,0]*B[0,0]+A[0,1]*B[1,0]\n",
    "    C2=A[0,0]*B[0,1]+A[0,1]*B[1,1]\n",
    "    C3=A[1,0]*B[0,0]+A[1,1]*B[1,0]\n",
    "    C4=A[1,0]*B[0,1]+A[1,1]*B[1,1]\n",
    "    C=Matrix([[C1,C2],[C3,C4]])\n",
    "    return C\n",
    "\n",
    "############################################################################################\n",
    "# Define the exterior derivative of a scalar (0-form)\n",
    "def d_of_0form(x):\n",
    "    return Dn(x)*l+Dl(x)*n-Dm(x)*mbar-Dmbar(x)*m\n",
    "\n",
    "############################################################################################\n",
    "# Define the exterior derivative of a 1-form\n",
    "def d_of_1form(A):\n",
    "    # IMPORTANT: Your 1-form should be in order: \n",
    "    # c1*l+c2*n+c3*m+c4*mbar\n",
    "    if isinstance(A,sage.structure.element.Matrix):\n",
    "        C1=d_of_1form(A[0,0])\n",
    "        C2=d_of_1form(A[0,1])\n",
    "        C3=d_of_1form(A[1,0])\n",
    "        C4=d_of_1form(A[1,1])\n",
    "        C=Matrix([[C1,C2],[C3,C4]])\n",
    "        return C\n",
    "    else:\n",
    "        var('c1,c2,c3,c4',domain='complex')\n",
    "        ls=A.monomial_coefficients()\n",
    "        c1=list(ls.items())[0][1]\n",
    "        c2=list(ls.items())[1][1]\n",
    "        c3=list(ls.items())[2][1]\n",
    "        c4=list(ls.items())[3][1]\n",
    "        \n",
    "        return d_of_0form(c1)*l+c1*dl+d_of_0form(c2)*n+c2*dn+d_of_0form(c3)*m+c3*dm+d_of_0form(c4)*mbar+c4*dmbar\n",
    "\n",
    "############################################################################################\n",
    "def d_of_2form(A):\n",
    "    # IMPORTANT: Your 2-form should be in order: \n",
    "    # c1*l*n+c2*l*m+c3*l*mbar+c4*n*m+c5*n*mbar+c6*m*mbar\n",
    "    if isinstance(A,sage.structure.element.Matrix):\n",
    "        C1=d_of_2form(A[0,0])\n",
    "        C2=d_of_2form(A[0,1])\n",
    "        C3=d_of_2form(A[1,0])\n",
    "        C4=d_of_2form(A[1,1])\n",
    "        C=Matrix([[C1,C2],[C3,C4]])\n",
    "        return C\n",
    "    else:\n",
    "        var('c1,c2,c3,c4,c5,c6',domain='complex')\n",
    "        ls=A.monomial_coefficients()\n",
    "        c1=list(ls.items())[0][1]\n",
    "        c2=list(ls.items())[1][1]\n",
    "        c3=list(ls.items())[2][1]\n",
    "        c4=list(ls.items())[3][1]\n",
    "        c5=list(ls.items())[4][1]\n",
    "        c6=list(ls.items())[5][1]\n",
    "\n",
    "        term1=d_of_0form(c1)*l*n+d_of_0form(c2)*l*m+d_of_0form(c3)*l*mbar+d_of_0form(c4)*n*m+d_of_0form(c5)*n*mbar+d_of_0form(c6)*m*mbar\n",
    "        term2=c1*(dl*n-l*dn)+c2*(dl*m-l*dm)+c3*(dl*mbar-l*dmbar)+c4*(dn*m-n*dm)+c5*(dn*mbar-n*dmbar)+c6*(dm*mbar-m*dmbar)\n",
    "        return term1+term2\n",
    "\n",
    "############################################################################################\n",
    "# Define forms\n",
    "E.<l,n,m,mbar,dl,dn,dm,dmbar,Gamma0,Gamma1,Gamma2,dGamma0,dGamma1,dGamma2,Gamma0conj,Gamma1conj,Gamma2conj,R0,R1,R2,dR0,dR1,dR2> = ExteriorAlgebra(SR)\n",
    "############################################################################################\n",
    "# Define variables\n",
    "var('alpha,beta,epsilon,gamma,kappa,mu,nu,pi,rho,sigma,tau',domain='complex')\n",
    "var('lambdaa',latex_name=r\"\\lambda\",domain='complex')\n",
    "var('Phi00,Phi01,Phi02,Phi10,Phi11,Phi12,Phi20,Phi21,Phi22,Lambda',domain='complex')\n",
    "var('Psi0,Psi1,Psi2,Psi3,Psi4',domain='complex')\n",
    "############################################################################################\n",
    "# Define Gammas and their conjugates:\n",
    "Gamma0=gamma*l+epsilon*n-alpha*m-beta*mbar\n",
    "Gamma1=-tau*l-kappa*n+rho*m+sigma*mbar\n",
    "Gamma2=nu*l+pi*n-lambdaa*m-mu*mbar\n",
    "\n",
    "Gamma0conj=conjugate(gamma)*l+conjugate(epsilon)*n-conjugate(alpha)*mbar-conjugate(beta)*m\n",
    "Gamma1conj=-conjugate(tau)*l-conjugate(kappa)*n+conjugate(rho)*mbar+conjugate(sigma)*m\n",
    "Gamma2conj=conjugate(nu)*l+conjugate(pi)*n-conjugate(lambdaa)*mbar-conjugate(mu)*m\n",
    "############################################################################################\n",
    "#Define Rs\n",
    "R0=(-Psi2-Phi11+Lambda)*l*n+Psi3*l*m+Phi12*l*mbar-Phi10*n*m-Psi1*n*mbar+(Psi2-Phi11-Lambda)*m*mbar\n",
    "R1=(Psi1+Phi01)*l*n-(Psi2+2*Lambda)*l*m-Phi02*l*mbar+Phi00*n*m+Psi0*n*mbar+(-Psi1+Phi01)*m*mbar\n",
    "R2=-(Psi3+Phi21)*l*n+Psi4*l*m+Phi22*l*mbar-Phi20*n*m-(Psi2+2*Lambda)*n*mbar+(Psi3-Phi21)*m*mbar\n",
    "############################################################################################\n",
    "# Define the sigma, Gamma, R matrices\n",
    "sigmas=Matrix([[l,m],[mbar,n]])\n",
    "dsigmas=Matrix([[dl,dm],[dmbar,dn]])\n",
    "sigmasconj=Matrix([[l,mbar],[m,n]])\n",
    "\n",
    "gammas=Matrix([[Gamma0,Gamma1],[Gamma2,-Gamma0]])\n",
    "gammashermitianconj=Matrix([[Gamma0conj,Gamma2conj],[Gamma1conj,-Gamma0conj]])\n",
    "\n",
    "Rs=Matrix([[R0,R1],[R2,-R0]])\n",
    "############################################################################################\n",
    "# Calculate the equations\n",
    "# Connection\n",
    "show(\"Connection:\")\n",
    "\n",
    "NPmatrix1=dsigmas-matmul(gammas,sigmas)+matmul(sigmas,gammashermitianconj)\n",
    "\n",
    "show(\"#######################\")\n",
    "show(NPmatrix1[0,0])\n",
    "show(\"#######################\")\n",
    "show(NPmatrix1[0,1])\n",
    "show(\"#######################\")\n",
    "show(NPmatrix1[1,0])\n",
    "show(\"#######################\")\n",
    "show(NPmatrix1[1,1])\n",
    "show(\"#######################\")\n",
    "\n",
    "# Set dl as dl1, dn as dn1, etc. for substitutions into other equations\n",
    "dl1=-NPmatrix1[0,0]+dl\n",
    "dm1=-NPmatrix1[0,1]+dm\n",
    "dmbar1=-NPmatrix1[1,0]+dmbar\n",
    "dn1=-NPmatrix1[1,1]+dn\n",
    "\n",
    "############################################################################################\n",
    "show(\"-------------------------------------------------------------------------\")\n",
    "#Curvature\n",
    "show(\"Curvature:\")\n",
    "\n",
    "dl=dl1\n",
    "dn=dn1\n",
    "dm=dm1\n",
    "dmbar=dmbar1\n",
    "\n",
    "dgammas=d_of_1form(gammas)\n",
    "\n",
    "NPmatrix2=Rs-dgammas+matmul(gammas,gammas)\n",
    "\n",
    "show(\"*****\")\n",
    "show(list((NPmatrix2[0,0].monomial_coefficients()).items())[0][1])\n",
    "show(list((NPmatrix2[0,0].monomial_coefficients()).items())[1][1])\n",
    "show(list((NPmatrix2[0,0].monomial_coefficients()).items())[2][1])\n",
    "show(list((NPmatrix2[0,0].monomial_coefficients()).items())[3][1])\n",
    "show(list((NPmatrix2[0,0].monomial_coefficients()).items())[4][1])\n",
    "show(list((NPmatrix2[0,0].monomial_coefficients()).items())[5][1])\n",
    "show(\"*****\")\n",
    "show(list((NPmatrix2[0,1].monomial_coefficients()).items())[0][1])\n",
    "show(list((NPmatrix2[0,1].monomial_coefficients()).items())[1][1])\n",
    "show(list((NPmatrix2[0,1].monomial_coefficients()).items())[2][1])\n",
    "show(list((NPmatrix2[0,1].monomial_coefficients()).items())[3][1])\n",
    "show(list((NPmatrix2[0,1].monomial_coefficients()).items())[4][1])\n",
    "show(list((NPmatrix2[0,1].monomial_coefficients()).items())[5][1])\n",
    "show(\"*****\")\n",
    "show(list((NPmatrix2[1,0].monomial_coefficients()).items())[0][1])\n",
    "show(list((NPmatrix2[1,0].monomial_coefficients()).items())[1][1])\n",
    "show(list((NPmatrix2[1,0].monomial_coefficients()).items())[2][1])\n",
    "show(list((NPmatrix2[1,0].monomial_coefficients()).items())[3][1])\n",
    "show(list((NPmatrix2[1,0].monomial_coefficients()).items())[4][1])\n",
    "show(list((NPmatrix2[1,0].monomial_coefficients()).items())[5][1])\n",
    "show(\"*****\")\n",
    "show(list((NPmatrix2[1,1].monomial_coefficients()).items())[0][1])\n",
    "show(list((NPmatrix2[1,1].monomial_coefficients()).items())[1][1])\n",
    "show(list((NPmatrix2[1,1].monomial_coefficients()).items())[2][1])\n",
    "show(list((NPmatrix2[1,1].monomial_coefficients()).items())[3][1])\n",
    "show(list((NPmatrix2[1,1].monomial_coefficients()).items())[4][1])\n",
    "show(list((NPmatrix2[1,1].monomial_coefficients()).items())[5][1])\n",
    "show(\"*****\")\n",
    "\n",
    "# Set them as equations\n",
    "ceq1=list((NPmatrix2[0,0].monomial_coefficients()).items())[0][1]\n",
    "ceq2=list((NPmatrix2[0,0].monomial_coefficients()).items())[1][1]\n",
    "ceq3=list((NPmatrix2[0,0].monomial_coefficients()).items())[2][1]\n",
    "ceq4=list((NPmatrix2[0,0].monomial_coefficients()).items())[3][1]\n",
    "ceq5=list((NPmatrix2[0,0].monomial_coefficients()).items())[4][1]\n",
    "ceq6=list((NPmatrix2[0,0].monomial_coefficients()).items())[5][1]\n",
    "\n",
    "ceq7=list((NPmatrix2[0,1].monomial_coefficients()).items())[0][1]\n",
    "ceq8=list((NPmatrix2[0,1].monomial_coefficients()).items())[1][1]\n",
    "ceq9=list((NPmatrix2[0,1].monomial_coefficients()).items())[2][1]\n",
    "ceq10=list((NPmatrix2[0,1].monomial_coefficients()).items())[3][1]\n",
    "ceq11=list((NPmatrix2[0,1].monomial_coefficients()).items())[4][1]\n",
    "ceq12=list((NPmatrix2[0,1].monomial_coefficients()).items())[5][1]\n",
    "\n",
    "ceq13=list((NPmatrix2[1,0].monomial_coefficients()).items())[0][1]\n",
    "ceq14=list((NPmatrix2[1,0].monomial_coefficients()).items())[1][1]\n",
    "ceq15=list((NPmatrix2[1,0].monomial_coefficients()).items())[2][1]\n",
    "ceq16=list((NPmatrix2[1,0].monomial_coefficients()).items())[3][1]\n",
    "ceq17=list((NPmatrix2[1,0].monomial_coefficients()).items())[4][1]\n",
    "ceq18=list((NPmatrix2[1,0].monomial_coefficients()).items())[5][1]\n",
    "\n",
    "ceq19=list((NPmatrix2[1,1].monomial_coefficients()).items())[0][1]\n",
    "ceq20=list((NPmatrix2[1,1].monomial_coefficients()).items())[1][1]\n",
    "ceq21=list((NPmatrix2[1,1].monomial_coefficients()).items())[2][1]\n",
    "ceq22=list((NPmatrix2[1,1].monomial_coefficients()).items())[3][1]\n",
    "ceq23=list((NPmatrix2[1,1].monomial_coefficients()).items())[4][1]\n",
    "ceq24=list((NPmatrix2[1,1].monomial_coefficients()).items())[5][1]\n",
    "\n",
    "############################################################################################\n",
    "show(\"-------------------------------------------------------------------------\")\n",
    "# Bianchi\n",
    "show(\"Bianchi:\")\n",
    "\n",
    "dRs=d_of_2form(Rs)\n",
    "\n",
    "NPmatrix3=dRs+matmul(Rs,gammas)-matmul(gammas,Rs)\n",
    "\n",
    "show(\"*****\")\n",
    "show(list((NPmatrix3[0,0].monomial_coefficients()).items())[0][1])\n",
    "show(list((NPmatrix3[0,0].monomial_coefficients()).items())[1][1])\n",
    "show(list((NPmatrix3[0,0].monomial_coefficients()).items())[2][1])\n",
    "show(list((NPmatrix3[0,0].monomial_coefficients()).items())[3][1])\n",
    "show(\"*****\")\n",
    "show(list((NPmatrix3[0,1].monomial_coefficients()).items())[0][1])\n",
    "show(list((NPmatrix3[0,1].monomial_coefficients()).items())[1][1])\n",
    "show(list((NPmatrix3[0,1].monomial_coefficients()).items())[2][1])\n",
    "show(list((NPmatrix3[0,1].monomial_coefficients()).items())[3][1])\n",
    "show(\"*****\")\n",
    "show(list((NPmatrix3[1,0].monomial_coefficients()).items())[0][1])\n",
    "show(list((NPmatrix3[1,0].monomial_coefficients()).items())[1][1])\n",
    "show(list((NPmatrix3[1,0].monomial_coefficients()).items())[2][1])\n",
    "show(list((NPmatrix3[1,0].monomial_coefficients()).items())[3][1])\n",
    "show(\"*****\")\n",
    "show(list((NPmatrix3[1,1].monomial_coefficients()).items())[0][1])\n",
    "show(list((NPmatrix3[1,1].monomial_coefficients()).items())[1][1])\n",
    "show(list((NPmatrix3[1,1].monomial_coefficients()).items())[2][1])\n",
    "show(list((NPmatrix3[1,1].monomial_coefficients()).items())[3][1])\n",
    "show(\"*****\")\n",
    "\n",
    "# Set them as equations\n",
    "beq1=list((NPmatrix3[0,0].monomial_coefficients()).items())[0][1]\n",
    "beq2=list((NPmatrix3[0,0].monomial_coefficients()).items())[1][1]\n",
    "beq3=list((NPmatrix3[0,0].monomial_coefficients()).items())[2][1]\n",
    "beq4=list((NPmatrix3[0,0].monomial_coefficients()).items())[3][1]\n",
    "\n",
    "beq5=list((NPmatrix3[0,1].monomial_coefficients()).items())[0][1]\n",
    "beq6=list((NPmatrix3[0,1].monomial_coefficients()).items())[1][1]\n",
    "beq7=list((NPmatrix3[0,1].monomial_coefficients()).items())[2][1]\n",
    "beq8=list((NPmatrix3[0,1].monomial_coefficients()).items())[3][1]\n",
    "\n",
    "beq9=list((NPmatrix3[1,0].monomial_coefficients()).items())[0][1]\n",
    "beq10=list((NPmatrix3[1,0].monomial_coefficients()).items())[1][1]\n",
    "beq11=list((NPmatrix3[1,0].monomial_coefficients()).items())[2][1]\n",
    "beq12=list((NPmatrix3[1,0].monomial_coefficients()).items())[3][1]\n",
    "\n",
    "beq13=list((NPmatrix3[1,1].monomial_coefficients()).items())[0][1]\n",
    "beq14=list((NPmatrix3[1,1].monomial_coefficients()).items())[1][1]\n",
    "beq15=list((NPmatrix3[1,1].monomial_coefficients()).items())[2][1]\n",
    "beq16=list((NPmatrix3[1,1].monomial_coefficients()).items())[3][1]\n",
    "\n",
    "# The definitions of the NP equations and Bianchi identities\n",
    "NPeqs()\n",
    "Bianchi()\n",
    "\n",
    "# Check the equations\n",
    "NPs=[NP1,NP2,NP3,NP4,NP5,NP6,NP7,NP8,NP9,NP10,NP11,NP12,NP13,NP14,NP15,NP16,NP17,NP18]\n",
    "BIs=[BI1,BI2,BI3,BI4,BI5,BI6,BI7,BI8,BI9,BI10,BI11]\n",
    "ceqs=[ceq1,ceq2,ceq3,ceq4,ceq5,ceq6,ceq7,ceq8,ceq9,ceq10,ceq11,ceq12,ceq13,ceq14,ceq15,ceq16,ceq17,ceq18,ceq19,ceq20,ceq21,ceq22,ceq23,ceq24]\n",
    "beqs=[beq1,beq2,beq3,beq4,beq5,beq6,beq7,beq8,beq9,beq10,beq11,beq12,beq13,beq14,beq15,beq16]\n",
    "\n",
    "\n",
    "print(\"Checking the NP equations (NP-ceq):\")\n",
    "for i in range(len(NPs)):\n",
    "    for j in range(len(ceqs)):\n",
    "        if simplify(factor(expand(NPs[i]-ceqs[j])))==0:\n",
    "            print(\"NP(\",i+1,\") is found at ceq(\",j+1,\")\")\n",
    "\n",
    "print(\"Checking the NP equations (NP+ceq):\")\n",
    "for i in range(len(NPs)):\n",
    "    for j in range(len(ceqs)):\n",
    "        if simplify(factor(expand(NPs[i]+ceqs[j])))==0:\n",
    "            print(\"NP(\",i+1,\") is found at ceq(\",j+1,\")\")\n",
    "\n",
    "print(\"Checking the BI equations (BI-beq):\")\n",
    "for i in range(len(BIs)):\n",
    "    for j in range(len(beqs)):\n",
    "        if simplify(factor(expand(BIs[i]-beqs[j])))==0:\n",
    "            print(\"BI(\",i+1,\") is found at beq(\",j+1,\")\")\n",
    "            \n",
    "print(\"Checking the BI equations (BI+beq):\")\n",
    "for i in range(len(BIs)):\n",
    "    for j in range(len(beqs)):\n",
    "        if simplify(factor(expand(BIs[i]+beqs[j])))==0:\n",
    "            print(\"BI(\",i+1,\") is found at beq(\",j+1,\")\")\n",
    "\n",
    "for i in range(8,len(BIs)):\n",
    "    for j in range(len(beqs)):\n",
    "        for k in range(len(beqs)):\n",
    "            if simplify(factor(expand(BIs[i]-beqs[j]-beqs[k])))==0 or simplify(factor(expand(BIs[i]-beqs[j]+beqs[k])))==0:\n",
    "                print(\"BI(\",i+1,\") is found at beq(\",j+1,k+1,\")\")"
   ]
  },
  {
   "cell_type": "code",
   "execution_count": null,
   "id": "6aa56fb0-e2d3-499d-811b-5b69039542d3",
   "metadata": {},
   "outputs": [],
   "source": []
  }
 ],
 "metadata": {
  "kernelspec": {
   "display_name": "SageMath 10.6",
   "language": "sage",
   "name": "sagemath"
  },
  "language_info": {
   "codemirror_mode": {
    "name": "ipython",
    "version": 3
   },
   "file_extension": ".py",
   "mimetype": "text/x-python",
   "name": "python",
   "nbconvert_exporter": "python",
   "pygments_lexer": "ipython3",
   "version": "3.12.10"
  }
 },
 "nbformat": 4,
 "nbformat_minor": 5
}
