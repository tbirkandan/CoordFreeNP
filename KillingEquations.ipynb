{
 "cells": [
  {
   "cell_type": "code",
   "execution_count": 8,
   "id": "37f51ef6-ffbf-4a8a-a8c8-e0f8ba7a32de",
   "metadata": {},
   "outputs": [],
   "source": [
    "reset()\n",
    "load(\"NPDerivatives.sage\")\n",
    "\n",
    "#########################################\n",
    "# Non-Vacuum:\n",
    "Phi01=Phi10=Phi02=Phi20=Phi12=Phi21=0\n",
    "\n",
    "Phi11plus=Phi11+3*Lambda\n",
    "Phi11minus=Phi11-3*Lambda\n",
    "\n",
    "#########################################\n",
    "# Type D\n",
    "Psi0=Psi1=Psi3=Psi4=0\n",
    "\n",
    "Psi2tilde=Psi2+2*Lambda\n",
    "\n",
    "#########################################\n",
    "# Geodesic, shear-free:\n",
    "kappa=sigma=lambdaa=nu=0\n",
    "\n",
    "#########################################\n",
    "# Gauge:\n",
    "epsilon=0\n",
    "\n",
    "#########################################\n",
    "# Type I of Type D metrics:\n",
    "pi=tau=0\n",
    "beta=-conjugate(alpha)\n",
    "\n",
    "#########################################\n",
    "# Killing vector ksi=-a*(l^mu)-b*(n^mu)+c*(m^mu)+cbar*(mbar^mu)\n",
    "var('a,b',domain='real');\n",
    "var('c',domain='complex');"
   ]
  },
  {
   "cell_type": "code",
   "execution_count": 9,
   "id": "2ad147d1-8b72-41aa-a1eb-1d8d96a16b32",
   "metadata": {},
   "outputs": [],
   "source": [
    "# Killing equations:\n",
    "\n",
    "ke1=Dn(a)+a*(gamma+conjugate(gamma))+c*conjugate(nu)+conjugate(c)*nu\n",
    "\n",
    "ke2=Dl(a)+Dn(b)+a*(epsilon+conjugate(epsilon))-b*(gamma+conjugate(gamma))-tau*c-conjugate(tau)*conjugate(c)+conjugate(pi)*c+pi*conjugate(c)\n",
    "\n",
    "ke3=-Dmbar(a)+Dn(c)-a*conjugate(tau)-a*(conjugate(alpha)+beta)+b*nu+c*(gamma-conjugate(gamma))-conjugate(mu)*c-conjugate(c)*lambdaa\n",
    "\n",
    "ke4=opconj(ke3)\n",
    "\n",
    "ke5=Dl(b)-b*(epsilon+conjugate(epsilon))-kappa*c-conjugate(kappa)*conjugate(c)\n",
    "\n",
    "ke6=-Dmbar(b)+Dl(c)-conjugate(kappa)*a+pi*b+(conjugate(alpha)+beta)*b+c*(epsilon-conjugate(epsilon))+rho*c+conjugate(c)*conjugate(sigma)\n",
    "\n",
    "ke7=opconj(ke6)\n",
    "\n",
    "ke8=-Dmbar(c)+a*conjugate(sigma)-b*lambdaa+c*(conjugate(beta)-alpha)\n",
    "\n",
    "ke9=opconj(ke8)\n",
    "\n",
    "ke10=-Dm(c)-Dmbar(conjugate(c))+a*(rho+conjugate(rho))-b*(mu+conjugate(mu))+c*(conjugate(alpha)-beta)+conjugate(c)*(alpha-conjugate(beta))"
   ]
  },
  {
   "cell_type": "code",
   "execution_count": 10,
   "id": "caf0f866-9e26-4314-9a52-1e2ba85f1151",
   "metadata": {},
   "outputs": [
    {
     "data": {
      "text/html": [
       "<html>\\(\\displaystyle a {\\left(\\gamma + \\overline{\\gamma}\\right)} + \\Delta\\left(a\\right)\\)</html>"
      ],
      "text/latex": [
       "$\\displaystyle a {\\left(\\gamma + \\overline{\\gamma}\\right)} + \\Delta\\left(a\\right)$"
      ],
      "text/plain": [
       "a*(gamma + conjugate(gamma)) + Dn(a)"
      ]
     },
     "metadata": {},
     "output_type": "display_data"
    },
    {
     "data": {
      "text/html": [
       "<html>\\(\\displaystyle -b {\\left(\\gamma + \\overline{\\gamma}\\right)} + D\\left(a\\right) + \\Delta\\left(b\\right)\\)</html>"
      ],
      "text/latex": [
       "$\\displaystyle -b {\\left(\\gamma + \\overline{\\gamma}\\right)} + D\\left(a\\right) + \\Delta\\left(b\\right)$"
      ],
      "text/plain": [
       "-b*(gamma + conjugate(gamma)) + Dl(a) + Dn(b)"
      ]
     },
     "metadata": {},
     "output_type": "display_data"
    },
    {
     "data": {
      "text/html": [
       "<html>\\(\\displaystyle c {\\left(\\gamma - \\overline{\\gamma}\\right)} - c \\overline{\\mu} - \\bar{\\delta}\\left(a\\right) + \\Delta\\left(c\\right)\\)</html>"
      ],
      "text/latex": [
       "$\\displaystyle c {\\left(\\gamma - \\overline{\\gamma}\\right)} - c \\overline{\\mu} - \\bar{\\delta}\\left(a\\right) + \\Delta\\left(c\\right)$"
      ],
      "text/plain": [
       "c*(gamma - conjugate(gamma)) - c*conjugate(mu) - Dmbar(a) + Dn(c)"
      ]
     },
     "metadata": {},
     "output_type": "display_data"
    },
    {
     "data": {
      "text/html": [
       "<html>\\(\\displaystyle -{\\left(\\gamma - \\overline{\\gamma}\\right)} \\overline{c} - \\mu \\overline{c} - \\delta\\left(a\\right) + \\Delta\\left(\\overline{c}\\right)\\)</html>"
      ],
      "text/latex": [
       "$\\displaystyle -{\\left(\\gamma - \\overline{\\gamma}\\right)} \\overline{c} - \\mu \\overline{c} - \\delta\\left(a\\right) + \\Delta\\left(\\overline{c}\\right)$"
      ],
      "text/plain": [
       "-(gamma - conjugate(gamma))*conjugate(c) - mu*conjugate(c) - Dm(a) + Dn(conjugate(c))"
      ]
     },
     "metadata": {},
     "output_type": "display_data"
    },
    {
     "data": {
      "text/html": [
       "<html>\\(\\displaystyle D\\left(b\\right)\\)</html>"
      ],
      "text/latex": [
       "$\\displaystyle D\\left(b\\right)$"
      ],
      "text/plain": [
       "Dl(b)"
      ]
     },
     "metadata": {},
     "output_type": "display_data"
    },
    {
     "data": {
      "text/html": [
       "<html>\\(\\displaystyle c \\rho + D\\left(c\\right) - \\bar{\\delta}\\left(b\\right)\\)</html>"
      ],
      "text/latex": [
       "$\\displaystyle c \\rho + D\\left(c\\right) - \\bar{\\delta}\\left(b\\right)$"
      ],
      "text/plain": [
       "c*rho + Dl(c) - Dmbar(b)"
      ]
     },
     "metadata": {},
     "output_type": "display_data"
    },
    {
     "data": {
      "text/html": [
       "<html>\\(\\displaystyle \\overline{c} \\overline{\\rho} + D\\left(\\overline{c}\\right) - \\delta\\left(b\\right)\\)</html>"
      ],
      "text/latex": [
       "$\\displaystyle \\overline{c} \\overline{\\rho} + D\\left(\\overline{c}\\right) - \\delta\\left(b\\right)$"
      ],
      "text/plain": [
       "conjugate(c)*conjugate(rho) + Dl(conjugate(c)) - Dm(b)"
      ]
     },
     "metadata": {},
     "output_type": "display_data"
    },
    {
     "data": {
      "text/html": [
       "<html>\\(\\displaystyle -2 \\, \\alpha c - \\bar{\\delta}\\left(c\\right)\\)</html>"
      ],
      "text/latex": [
       "$\\displaystyle -2 \\, \\alpha c - \\bar{\\delta}\\left(c\\right)$"
      ],
      "text/plain": [
       "-2*alpha*c - Dmbar(c)"
      ]
     },
     "metadata": {},
     "output_type": "display_data"
    },
    {
     "data": {
      "text/html": [
       "<html>\\(\\displaystyle -2 \\, \\overline{\\alpha} \\overline{c} - \\delta\\left(\\overline{c}\\right)\\)</html>"
      ],
      "text/latex": [
       "$\\displaystyle -2 \\, \\overline{\\alpha} \\overline{c} - \\delta\\left(\\overline{c}\\right)$"
      ],
      "text/plain": [
       "-2*conjugate(alpha)*conjugate(c) - Dm(conjugate(c))"
      ]
     },
     "metadata": {},
     "output_type": "display_data"
    },
    {
     "data": {
      "text/html": [
       "<html>\\(\\displaystyle -b {\\left(\\mu + \\overline{\\mu}\\right)} + a {\\left(\\rho + \\overline{\\rho}\\right)} + 2 \\, c \\overline{\\alpha} + 2 \\, \\alpha \\overline{c} - \\delta\\left(c\\right) - \\bar{\\delta}\\left(\\overline{c}\\right)\\)</html>"
      ],
      "text/latex": [
       "$\\displaystyle -b {\\left(\\mu + \\overline{\\mu}\\right)} + a {\\left(\\rho + \\overline{\\rho}\\right)} + 2 \\, c \\overline{\\alpha} + 2 \\, \\alpha \\overline{c} - \\delta\\left(c\\right) - \\bar{\\delta}\\left(\\overline{c}\\right)$"
      ],
      "text/plain": [
       "-b*(mu + conjugate(mu)) + a*(rho + conjugate(rho)) + 2*c*conjugate(alpha) + 2*alpha*conjugate(c) - Dm(c) - Dmbar(conjugate(c))"
      ]
     },
     "metadata": {},
     "output_type": "display_data"
    }
   ],
   "source": [
    "show(ke1)\n",
    "show(ke2)\n",
    "show(ke3)\n",
    "show(ke4)\n",
    "show(ke5)\n",
    "show(ke6)\n",
    "show(ke7)\n",
    "show(ke8)\n",
    "show(ke9)\n",
    "show(ke10)"
   ]
  },
  {
   "cell_type": "code",
   "execution_count": null,
   "id": "6d9d5791-7851-41f6-9c12-baa06124b3af",
   "metadata": {},
   "outputs": [],
   "source": []
  },
  {
   "cell_type": "code",
   "execution_count": null,
   "id": "0f2908b5-e985-4caf-84d2-36768bc1bc7f",
   "metadata": {},
   "outputs": [],
   "source": []
  }
 ],
 "metadata": {
  "kernelspec": {
   "display_name": "SageMath 10.4",
   "language": "sage",
   "name": "sagemath"
  },
  "language_info": {
   "codemirror_mode": {
    "name": "ipython",
    "version": 3
   },
   "file_extension": ".py",
   "mimetype": "text/x-python",
   "name": "python",
   "nbconvert_exporter": "python",
   "pygments_lexer": "ipython3",
   "version": "3.11.11"
  }
 },
 "nbformat": 4,
 "nbformat_minor": 5
}
