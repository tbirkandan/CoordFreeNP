{
 "cells": [
  {
   "cell_type": "code",
   "execution_count": 1,
   "id": "17c600d5",
   "metadata": {},
   "outputs": [
    {
     "data": {
      "text/html": [
       "<html>\\(\\displaystyle \\verb|NP1=0=| \\rho^{2} - D\\left(\\rho\\right)\\)</html>"
      ],
      "text/latex": [
       "$\\displaystyle \\verb|NP1=0=| \\rho^{2} - D\\left(\\rho\\right)$"
      ],
      "text/plain": [
       "'NP1=0=' rho^2 - Dl(rho)"
      ]
     },
     "metadata": {},
     "output_type": "display_data"
    },
    {
     "data": {
      "text/html": [
       "<html>\\(\\displaystyle \\verb|NP2=0=| 0\\)</html>"
      ],
      "text/latex": [
       "$\\displaystyle \\verb|NP2=0=| 0$"
      ],
      "text/plain": [
       "'NP2=0=' 0"
      ]
     },
     "metadata": {},
     "output_type": "display_data"
    },
    {
     "data": {
      "text/html": [
       "<html>\\(\\displaystyle \\verb|NP3=0=| 0\\)</html>"
      ],
      "text/latex": [
       "$\\displaystyle \\verb|NP3=0=| 0$"
      ],
      "text/plain": [
       "'NP3=0=' 0"
      ]
     },
     "metadata": {},
     "output_type": "display_data"
    },
    {
     "data": {
      "text/html": [
       "<html>\\(\\displaystyle \\verb|NP4=0=| \\alpha \\rho - D\\left(\\alpha\\right)\\)</html>"
      ],
      "text/latex": [
       "$\\displaystyle \\verb|NP4=0=| \\alpha \\rho - D\\left(\\alpha\\right)$"
      ],
      "text/plain": [
       "'NP4=0=' alpha*rho - Dl(alpha)"
      ]
     },
     "metadata": {},
     "output_type": "display_data"
    },
    {
     "data": {
      "text/html": [
       "<html>\\(\\displaystyle \\verb|NP5=0=| -\\overline{\\alpha} \\overline{\\rho} + D\\left(\\overline{\\alpha}\\right)\\)</html>"
      ],
      "text/latex": [
       "$\\displaystyle \\verb|NP5=0=| -\\overline{\\alpha} \\overline{\\rho} + D\\left(\\overline{\\alpha}\\right)$"
      ],
      "text/plain": [
       "'NP5=0=' -conjugate(alpha)*conjugate(rho) + Dl(conjugate(alpha))"
      ]
     },
     "metadata": {},
     "output_type": "display_data"
    },
    {
     "data": {
      "text/html": [
       "<html>\\(\\displaystyle \\verb|NP6=0=| \\Psi_{2} - D\\left(\\gamma\\right)\\)</html>"
      ],
      "text/latex": [
       "$\\displaystyle \\verb|NP6=0=| \\Psi_{2} - D\\left(\\gamma\\right)$"
      ],
      "text/plain": [
       "'NP6=0=' Psi2 - Dl(gamma)"
      ]
     },
     "metadata": {},
     "output_type": "display_data"
    },
    {
     "data": {
      "text/html": [
       "<html>\\(\\displaystyle \\verb|NP7=0=| 0\\)</html>"
      ],
      "text/latex": [
       "$\\displaystyle \\verb|NP7=0=| 0$"
      ],
      "text/plain": [
       "'NP7=0=' 0"
      ]
     },
     "metadata": {},
     "output_type": "display_data"
    },
    {
     "data": {
      "text/html": [
       "<html>\\(\\displaystyle \\verb|NP8=0=| \\mu \\overline{\\rho} + \\Psi_{2} - D\\left(\\mu\\right)\\)</html>"
      ],
      "text/latex": [
       "$\\displaystyle \\verb|NP8=0=| \\mu \\overline{\\rho} + \\Psi_{2} - D\\left(\\mu\\right)$"
      ],
      "text/plain": [
       "'NP8=0=' mu*conjugate(rho) + Psi2 - Dl(mu)"
      ]
     },
     "metadata": {},
     "output_type": "display_data"
    },
    {
     "data": {
      "text/html": [
       "<html>\\(\\displaystyle \\verb|NP9=0=| 0\\)</html>"
      ],
      "text/latex": [
       "$\\displaystyle \\verb|NP9=0=| 0$"
      ],
      "text/plain": [
       "'NP9=0=' 0"
      ]
     },
     "metadata": {},
     "output_type": "display_data"
    },
    {
     "data": {
      "text/html": [
       "<html>\\(\\displaystyle \\verb|NP10=0=| 0\\)</html>"
      ],
      "text/latex": [
       "$\\displaystyle \\verb|NP10=0=| 0$"
      ],
      "text/plain": [
       "'NP10=0=' 0"
      ]
     },
     "metadata": {},
     "output_type": "display_data"
    },
    {
     "data": {
      "text/html": [
       "<html>\\(\\displaystyle \\verb|NP11=0=| -\\delta\\left(\\rho\\right)\\)</html>"
      ],
      "text/latex": [
       "$\\displaystyle \\verb|NP11=0=| -\\delta\\left(\\rho\\right)$"
      ],
      "text/plain": [
       "'NP11=0=' -Dm(rho)"
      ]
     },
     "metadata": {},
     "output_type": "display_data"
    },
    {
     "data": {
      "text/html": [
       "<html>\\(\\displaystyle \\verb|NP12=0=| \\gamma {\\left(\\rho - \\overline{\\rho}\\right)} + \\mu \\rho + 4 \\, \\alpha \\overline{\\alpha} - \\Psi_{2} - \\delta\\left(\\alpha\\right) - \\bar{\\delta}\\left(\\overline{\\alpha}\\right)\\)</html>"
      ],
      "text/latex": [
       "$\\displaystyle \\verb|NP12=0=| \\gamma {\\left(\\rho - \\overline{\\rho}\\right)} + \\mu \\rho + 4 \\, \\alpha \\overline{\\alpha} - \\Psi_{2} - \\delta\\left(\\alpha\\right) - \\bar{\\delta}\\left(\\overline{\\alpha}\\right)$"
      ],
      "text/plain": [
       "'NP12=0=' gamma*(rho - conjugate(rho)) + mu*rho + 4*alpha*conjugate(alpha) - Psi2 - Dm(alpha) - Dmbar(conjugate(alpha))"
      ]
     },
     "metadata": {},
     "output_type": "display_data"
    },
    {
     "data": {
      "text/html": [
       "<html>\\(\\displaystyle \\verb|NP13=0=| \\bar{\\delta}\\left(\\mu\\right)\\)</html>"
      ],
      "text/latex": [
       "$\\displaystyle \\verb|NP13=0=| \\bar{\\delta}\\left(\\mu\\right)$"
      ],
      "text/plain": [
       "'NP13=0=' Dmbar(mu)"
      ]
     },
     "metadata": {},
     "output_type": "display_data"
    },
    {
     "data": {
      "text/html": [
       "<html>\\(\\displaystyle \\verb|NP14=0=| {\\left(\\gamma + \\overline{\\gamma}\\right)} \\mu + \\mu^{2} + \\Delta\\left(\\mu\\right)\\)</html>"
      ],
      "text/latex": [
       "$\\displaystyle \\verb|NP14=0=| {\\left(\\gamma + \\overline{\\gamma}\\right)} \\mu + \\mu^{2} + \\Delta\\left(\\mu\\right)$"
      ],
      "text/plain": [
       "'NP14=0=' (gamma + conjugate(gamma))*mu + mu^2 + Dn(mu)"
      ]
     },
     "metadata": {},
     "output_type": "display_data"
    },
    {
     "data": {
      "text/html": [
       "<html>\\(\\displaystyle \\verb|NP15=0=| {\\left(\\gamma - \\mu - \\overline{\\gamma}\\right)} \\overline{\\alpha} - \\delta\\left(\\gamma\\right) - \\Delta\\left(\\overline{\\alpha}\\right)\\)</html>"
      ],
      "text/latex": [
       "$\\displaystyle \\verb|NP15=0=| {\\left(\\gamma - \\mu - \\overline{\\gamma}\\right)} \\overline{\\alpha} - \\delta\\left(\\gamma\\right) - \\Delta\\left(\\overline{\\alpha}\\right)$"
      ],
      "text/plain": [
       "'NP15=0=' (gamma - mu - conjugate(gamma))*conjugate(alpha) - Dm(gamma) - Dn(conjugate(alpha))"
      ]
     },
     "metadata": {},
     "output_type": "display_data"
    },
    {
     "data": {
      "text/html": [
       "<html>\\(\\displaystyle \\verb|NP16=0=| 0\\)</html>"
      ],
      "text/latex": [
       "$\\displaystyle \\verb|NP16=0=| 0$"
      ],
      "text/plain": [
       "'NP16=0=' 0"
      ]
     },
     "metadata": {},
     "output_type": "display_data"
    },
    {
     "data": {
      "text/html": [
       "<html>\\(\\displaystyle \\verb|NP17=0=| {\\left(\\gamma + \\overline{\\gamma}\\right)} \\rho - \\rho \\overline{\\mu} - \\Psi_{2} - \\Delta\\left(\\rho\\right)\\)</html>"
      ],
      "text/latex": [
       "$\\displaystyle \\verb|NP17=0=| {\\left(\\gamma + \\overline{\\gamma}\\right)} \\rho - \\rho \\overline{\\mu} - \\Psi_{2} - \\Delta\\left(\\rho\\right)$"
      ],
      "text/plain": [
       "'NP17=0=' (gamma + conjugate(gamma))*rho - rho*conjugate(mu) - Psi2 - Dn(rho)"
      ]
     },
     "metadata": {},
     "output_type": "display_data"
    },
    {
     "data": {
      "text/html": [
       "<html>\\(\\displaystyle \\verb|NP18=0=| -\\alpha \\gamma + \\alpha {\\left(\\overline{\\gamma} - \\overline{\\mu}\\right)} + \\bar{\\delta}\\left(\\gamma\\right) - \\Delta\\left(\\alpha\\right)\\)</html>"
      ],
      "text/latex": [
       "$\\displaystyle \\verb|NP18=0=| -\\alpha \\gamma + \\alpha {\\left(\\overline{\\gamma} - \\overline{\\mu}\\right)} + \\bar{\\delta}\\left(\\gamma\\right) - \\Delta\\left(\\alpha\\right)$"
      ],
      "text/plain": [
       "'NP18=0=' -alpha*gamma + alpha*(conjugate(gamma) - conjugate(mu)) + Dmbar(gamma) - Dn(alpha)"
      ]
     },
     "metadata": {},
     "output_type": "display_data"
    },
    {
     "name": "stdout",
     "output_type": "stream",
     "text": [
      "NP equations are ready to use as NP1(=0), NP2(=0), ..., NP18(=0).\n"
     ]
    },
    {
     "data": {
      "text/html": [
       "<html>\\(\\displaystyle \\verb|BI1=0=| 0\\)</html>"
      ],
      "text/latex": [
       "$\\displaystyle \\verb|BI1=0=| 0$"
      ],
      "text/plain": [
       "'BI1=0=' 0"
      ]
     },
     "metadata": {},
     "output_type": "display_data"
    },
    {
     "data": {
      "text/html": [
       "<html>\\(\\displaystyle \\verb|BI2=0=| 0\\)</html>"
      ],
      "text/latex": [
       "$\\displaystyle \\verb|BI2=0=| 0$"
      ],
      "text/plain": [
       "'BI2=0=' 0"
      ]
     },
     "metadata": {},
     "output_type": "display_data"
    },
    {
     "data": {
      "text/html": [
       "<html>\\(\\displaystyle \\verb|BI3=0=| 0\\)</html>"
      ],
      "text/latex": [
       "$\\displaystyle \\verb|BI3=0=| 0$"
      ],
      "text/plain": [
       "'BI3=0=' 0"
      ]
     },
     "metadata": {},
     "output_type": "display_data"
    },
    {
     "data": {
      "text/html": [
       "<html>\\(\\displaystyle \\verb|BI4=0=| 0\\)</html>"
      ],
      "text/latex": [
       "$\\displaystyle \\verb|BI4=0=| 0$"
      ],
      "text/plain": [
       "'BI4=0=' 0"
      ]
     },
     "metadata": {},
     "output_type": "display_data"
    },
    {
     "data": {
      "text/html": [
       "<html>\\(\\displaystyle \\verb|BI5=0=| 3 \\, \\Psi_{2} \\rho - D\\left(\\Psi_{2}\\right)\\)</html>"
      ],
      "text/latex": [
       "$\\displaystyle \\verb|BI5=0=| 3 \\, \\Psi_{2} \\rho - D\\left(\\Psi_{2}\\right)$"
      ],
      "text/plain": [
       "'BI5=0=' 3*Psi2*rho - Dl(Psi2)"
      ]
     },
     "metadata": {},
     "output_type": "display_data"
    },
    {
     "data": {
      "text/html": [
       "<html>\\(\\displaystyle \\verb|BI6=0=| -3 \\, \\Psi_{2} \\mu - \\Delta\\left(\\Psi_{2}\\right)\\)</html>"
      ],
      "text/latex": [
       "$\\displaystyle \\verb|BI6=0=| -3 \\, \\Psi_{2} \\mu - \\Delta\\left(\\Psi_{2}\\right)$"
      ],
      "text/plain": [
       "'BI6=0=' -3*Psi2*mu - Dn(Psi2)"
      ]
     },
     "metadata": {},
     "output_type": "display_data"
    },
    {
     "data": {
      "text/html": [
       "<html>\\(\\displaystyle \\verb|BI7=0=| \\bar{\\delta}\\left(\\Psi_{2}\\right)\\)</html>"
      ],
      "text/latex": [
       "$\\displaystyle \\verb|BI7=0=| \\bar{\\delta}\\left(\\Psi_{2}\\right)$"
      ],
      "text/plain": [
       "'BI7=0=' Dmbar(Psi2)"
      ]
     },
     "metadata": {},
     "output_type": "display_data"
    },
    {
     "data": {
      "text/html": [
       "<html>\\(\\displaystyle \\verb|BI8=0=| \\delta\\left(\\Psi_{2}\\right)\\)</html>"
      ],
      "text/latex": [
       "$\\displaystyle \\verb|BI8=0=| \\delta\\left(\\Psi_{2}\\right)$"
      ],
      "text/plain": [
       "'BI8=0=' Dm(Psi2)"
      ]
     },
     "metadata": {},
     "output_type": "display_data"
    },
    {
     "data": {
      "text/html": [
       "<html>\\(\\displaystyle \\verb|BI9=0=| 0\\)</html>"
      ],
      "text/latex": [
       "$\\displaystyle \\verb|BI9=0=| 0$"
      ],
      "text/plain": [
       "'BI9=0=' 0"
      ]
     },
     "metadata": {},
     "output_type": "display_data"
    },
    {
     "data": {
      "text/html": [
       "<html>\\(\\displaystyle \\verb|BI10=0=| 0\\)</html>"
      ],
      "text/latex": [
       "$\\displaystyle \\verb|BI10=0=| 0$"
      ],
      "text/plain": [
       "'BI10=0=' 0"
      ]
     },
     "metadata": {},
     "output_type": "display_data"
    },
    {
     "data": {
      "text/html": [
       "<html>\\(\\displaystyle \\verb|BI11=0=| 0\\)</html>"
      ],
      "text/latex": [
       "$\\displaystyle \\verb|BI11=0=| 0$"
      ],
      "text/plain": [
       "'BI11=0=' 0"
      ]
     },
     "metadata": {},
     "output_type": "display_data"
    },
    {
     "name": "stdout",
     "output_type": "stream",
     "text": [
      "Bianchi identities are ready to use as BI1(=0), BI2(=0), ..., BI11(=0).\n"
     ]
    },
    {
     "data": {
      "text/html": [
       "<html>\\(\\displaystyle \\verb|----------------------------------------|\\)</html>"
      ],
      "text/latex": [
       "$\\displaystyle \\verb|----------------------------------------|$"
      ],
      "text/plain": [
       "'----------------------------------------'"
      ]
     },
     "metadata": {},
     "output_type": "display_data"
    },
    {
     "data": {
      "text/html": [
       "<html>\\(\\displaystyle \\rho^{2} - D\\left(\\rho\\right)\\)</html>"
      ],
      "text/latex": [
       "$\\displaystyle \\rho^{2} - D\\left(\\rho\\right)$"
      ],
      "text/plain": [
       "rho^2 - Dl(rho)"
      ]
     },
     "metadata": {},
     "output_type": "display_data"
    },
    {
     "data": {
      "text/html": [
       "<html>\\(\\displaystyle \\overline{\\rho}^{2} - D\\left(\\overline{\\rho}\\right)\\)</html>"
      ],
      "text/latex": [
       "$\\displaystyle \\overline{\\rho}^{2} - D\\left(\\overline{\\rho}\\right)$"
      ],
      "text/plain": [
       "conjugate(rho)^2 - Dl(conjugate(rho))"
      ]
     },
     "metadata": {},
     "output_type": "display_data"
    },
    {
     "data": {
      "text/html": [
       "<html>\\(\\displaystyle \\verb|----------------------------------------|\\)</html>"
      ],
      "text/latex": [
       "$\\displaystyle \\verb|----------------------------------------|$"
      ],
      "text/plain": [
       "'----------------------------------------'"
      ]
     },
     "metadata": {},
     "output_type": "display_data"
    },
    {
     "data": {
      "text/html": [
       "<html>\\(\\displaystyle 0\\)</html>"
      ],
      "text/latex": [
       "$\\displaystyle 0$"
      ],
      "text/plain": [
       "0"
      ]
     },
     "metadata": {},
     "output_type": "display_data"
    },
    {
     "data": {
      "text/html": [
       "<html>\\(\\displaystyle 0\\)</html>"
      ],
      "text/latex": [
       "$\\displaystyle 0$"
      ],
      "text/plain": [
       "0"
      ]
     },
     "metadata": {},
     "output_type": "display_data"
    },
    {
     "data": {
      "text/html": [
       "<html>\\(\\displaystyle \\verb|----------------------------------------|\\)</html>"
      ],
      "text/latex": [
       "$\\displaystyle \\verb|----------------------------------------|$"
      ],
      "text/plain": [
       "'----------------------------------------'"
      ]
     },
     "metadata": {},
     "output_type": "display_data"
    },
    {
     "data": {
      "text/html": [
       "<html>\\(\\displaystyle 0\\)</html>"
      ],
      "text/latex": [
       "$\\displaystyle 0$"
      ],
      "text/plain": [
       "0"
      ]
     },
     "metadata": {},
     "output_type": "display_data"
    },
    {
     "data": {
      "text/html": [
       "<html>\\(\\displaystyle 0\\)</html>"
      ],
      "text/latex": [
       "$\\displaystyle 0$"
      ],
      "text/plain": [
       "0"
      ]
     },
     "metadata": {},
     "output_type": "display_data"
    },
    {
     "data": {
      "text/html": [
       "<html>\\(\\displaystyle \\verb|----------------------------------------|\\)</html>"
      ],
      "text/latex": [
       "$\\displaystyle \\verb|----------------------------------------|$"
      ],
      "text/plain": [
       "'----------------------------------------'"
      ]
     },
     "metadata": {},
     "output_type": "display_data"
    },
    {
     "data": {
      "text/html": [
       "<html>\\(\\displaystyle \\alpha \\rho - D\\left(\\alpha\\right)\\)</html>"
      ],
      "text/latex": [
       "$\\displaystyle \\alpha \\rho - D\\left(\\alpha\\right)$"
      ],
      "text/plain": [
       "alpha*rho - Dl(alpha)"
      ]
     },
     "metadata": {},
     "output_type": "display_data"
    },
    {
     "data": {
      "text/html": [
       "<html>\\(\\displaystyle \\overline{\\alpha} \\overline{\\rho} - D\\left(\\overline{\\alpha}\\right)\\)</html>"
      ],
      "text/latex": [
       "$\\displaystyle \\overline{\\alpha} \\overline{\\rho} - D\\left(\\overline{\\alpha}\\right)$"
      ],
      "text/plain": [
       "conjugate(alpha)*conjugate(rho) - Dl(conjugate(alpha))"
      ]
     },
     "metadata": {},
     "output_type": "display_data"
    },
    {
     "data": {
      "text/html": [
       "<html>\\(\\displaystyle \\verb|----------------------------------------|\\)</html>"
      ],
      "text/latex": [
       "$\\displaystyle \\verb|----------------------------------------|$"
      ],
      "text/plain": [
       "'----------------------------------------'"
      ]
     },
     "metadata": {},
     "output_type": "display_data"
    },
    {
     "data": {
      "text/html": [
       "<html>\\(\\displaystyle -\\overline{\\alpha} \\overline{\\rho} + D\\left(\\overline{\\alpha}\\right)\\)</html>"
      ],
      "text/latex": [
       "$\\displaystyle -\\overline{\\alpha} \\overline{\\rho} + D\\left(\\overline{\\alpha}\\right)$"
      ],
      "text/plain": [
       "-conjugate(alpha)*conjugate(rho) + Dl(conjugate(alpha))"
      ]
     },
     "metadata": {},
     "output_type": "display_data"
    },
    {
     "data": {
      "text/html": [
       "<html>\\(\\displaystyle -\\alpha \\rho + D\\left(\\alpha\\right)\\)</html>"
      ],
      "text/latex": [
       "$\\displaystyle -\\alpha \\rho + D\\left(\\alpha\\right)$"
      ],
      "text/plain": [
       "-alpha*rho + Dl(alpha)"
      ]
     },
     "metadata": {},
     "output_type": "display_data"
    },
    {
     "data": {
      "text/html": [
       "<html>\\(\\displaystyle \\verb|----------------------------------------|\\)</html>"
      ],
      "text/latex": [
       "$\\displaystyle \\verb|----------------------------------------|$"
      ],
      "text/plain": [
       "'----------------------------------------'"
      ]
     },
     "metadata": {},
     "output_type": "display_data"
    },
    {
     "data": {
      "text/html": [
       "<html>\\(\\displaystyle \\Psi_{2} - D\\left(\\gamma\\right)\\)</html>"
      ],
      "text/latex": [
       "$\\displaystyle \\Psi_{2} - D\\left(\\gamma\\right)$"
      ],
      "text/plain": [
       "Psi2 - Dl(gamma)"
      ]
     },
     "metadata": {},
     "output_type": "display_data"
    },
    {
     "data": {
      "text/html": [
       "<html>\\(\\displaystyle -D\\left(\\overline{\\gamma}\\right) + \\overline{\\Psi_{2}}\\)</html>"
      ],
      "text/latex": [
       "$\\displaystyle -D\\left(\\overline{\\gamma}\\right) + \\overline{\\Psi_{2}}$"
      ],
      "text/plain": [
       "-Dl(conjugate(gamma)) + conjugate(Psi2)"
      ]
     },
     "metadata": {},
     "output_type": "display_data"
    },
    {
     "data": {
      "text/html": [
       "<html>\\(\\displaystyle \\verb|----------------------------------------|\\)</html>"
      ],
      "text/latex": [
       "$\\displaystyle \\verb|----------------------------------------|$"
      ],
      "text/plain": [
       "'----------------------------------------'"
      ]
     },
     "metadata": {},
     "output_type": "display_data"
    },
    {
     "data": {
      "text/html": [
       "<html>\\(\\displaystyle 0\\)</html>"
      ],
      "text/latex": [
       "$\\displaystyle 0$"
      ],
      "text/plain": [
       "0"
      ]
     },
     "metadata": {},
     "output_type": "display_data"
    },
    {
     "data": {
      "text/html": [
       "<html>\\(\\displaystyle 0\\)</html>"
      ],
      "text/latex": [
       "$\\displaystyle 0$"
      ],
      "text/plain": [
       "0"
      ]
     },
     "metadata": {},
     "output_type": "display_data"
    },
    {
     "data": {
      "text/html": [
       "<html>\\(\\displaystyle \\verb|----------------------------------------|\\)</html>"
      ],
      "text/latex": [
       "$\\displaystyle \\verb|----------------------------------------|$"
      ],
      "text/plain": [
       "'----------------------------------------'"
      ]
     },
     "metadata": {},
     "output_type": "display_data"
    },
    {
     "data": {
      "text/html": [
       "<html>\\(\\displaystyle \\mu \\overline{\\rho} + \\Psi_{2} - D\\left(\\mu\\right)\\)</html>"
      ],
      "text/latex": [
       "$\\displaystyle \\mu \\overline{\\rho} + \\Psi_{2} - D\\left(\\mu\\right)$"
      ],
      "text/plain": [
       "mu*conjugate(rho) + Psi2 - Dl(mu)"
      ]
     },
     "metadata": {},
     "output_type": "display_data"
    },
    {
     "data": {
      "text/html": [
       "<html>\\(\\displaystyle \\rho \\overline{\\mu} - D\\left(\\overline{\\mu}\\right) + \\overline{\\Psi_{2}}\\)</html>"
      ],
      "text/latex": [
       "$\\displaystyle \\rho \\overline{\\mu} - D\\left(\\overline{\\mu}\\right) + \\overline{\\Psi_{2}}$"
      ],
      "text/plain": [
       "rho*conjugate(mu) - Dl(conjugate(mu)) + conjugate(Psi2)"
      ]
     },
     "metadata": {},
     "output_type": "display_data"
    },
    {
     "data": {
      "text/html": [
       "<html>\\(\\displaystyle \\verb|----------------------------------------|\\)</html>"
      ],
      "text/latex": [
       "$\\displaystyle \\verb|----------------------------------------|$"
      ],
      "text/plain": [
       "'----------------------------------------'"
      ]
     },
     "metadata": {},
     "output_type": "display_data"
    },
    {
     "data": {
      "text/html": [
       "<html>\\(\\displaystyle 0\\)</html>"
      ],
      "text/latex": [
       "$\\displaystyle 0$"
      ],
      "text/plain": [
       "0"
      ]
     },
     "metadata": {},
     "output_type": "display_data"
    },
    {
     "data": {
      "text/html": [
       "<html>\\(\\displaystyle 0\\)</html>"
      ],
      "text/latex": [
       "$\\displaystyle 0$"
      ],
      "text/plain": [
       "0"
      ]
     },
     "metadata": {},
     "output_type": "display_data"
    },
    {
     "data": {
      "text/html": [
       "<html>\\(\\displaystyle \\verb|----------------------------------------|\\)</html>"
      ],
      "text/latex": [
       "$\\displaystyle \\verb|----------------------------------------|$"
      ],
      "text/plain": [
       "'----------------------------------------'"
      ]
     },
     "metadata": {},
     "output_type": "display_data"
    },
    {
     "data": {
      "text/html": [
       "<html>\\(\\displaystyle 0\\)</html>"
      ],
      "text/latex": [
       "$\\displaystyle 0$"
      ],
      "text/plain": [
       "0"
      ]
     },
     "metadata": {},
     "output_type": "display_data"
    },
    {
     "data": {
      "text/html": [
       "<html>\\(\\displaystyle 0\\)</html>"
      ],
      "text/latex": [
       "$\\displaystyle 0$"
      ],
      "text/plain": [
       "0"
      ]
     },
     "metadata": {},
     "output_type": "display_data"
    },
    {
     "data": {
      "text/html": [
       "<html>\\(\\displaystyle \\verb|----------------------------------------|\\)</html>"
      ],
      "text/latex": [
       "$\\displaystyle \\verb|----------------------------------------|$"
      ],
      "text/plain": [
       "'----------------------------------------'"
      ]
     },
     "metadata": {},
     "output_type": "display_data"
    },
    {
     "data": {
      "text/html": [
       "<html>\\(\\displaystyle -\\delta\\left(\\rho\\right)\\)</html>"
      ],
      "text/latex": [
       "$\\displaystyle -\\delta\\left(\\rho\\right)$"
      ],
      "text/plain": [
       "-Dm(rho)"
      ]
     },
     "metadata": {},
     "output_type": "display_data"
    },
    {
     "data": {
      "text/html": [
       "<html>\\(\\displaystyle -\\bar{\\delta}\\left(\\overline{\\rho}\\right)\\)</html>"
      ],
      "text/latex": [
       "$\\displaystyle -\\bar{\\delta}\\left(\\overline{\\rho}\\right)$"
      ],
      "text/plain": [
       "-Dmbar(conjugate(rho))"
      ]
     },
     "metadata": {},
     "output_type": "display_data"
    },
    {
     "data": {
      "text/html": [
       "<html>\\(\\displaystyle \\verb|----------------------------------------|\\)</html>"
      ],
      "text/latex": [
       "$\\displaystyle \\verb|----------------------------------------|$"
      ],
      "text/plain": [
       "'----------------------------------------'"
      ]
     },
     "metadata": {},
     "output_type": "display_data"
    },
    {
     "data": {
      "text/html": [
       "<html>\\(\\displaystyle \\gamma {\\left(\\rho - \\overline{\\rho}\\right)} + \\mu \\rho + 4 \\, \\alpha \\overline{\\alpha} - \\Psi_{2} - \\delta\\left(\\alpha\\right) - \\bar{\\delta}\\left(\\overline{\\alpha}\\right)\\)</html>"
      ],
      "text/latex": [
       "$\\displaystyle \\gamma {\\left(\\rho - \\overline{\\rho}\\right)} + \\mu \\rho + 4 \\, \\alpha \\overline{\\alpha} - \\Psi_{2} - \\delta\\left(\\alpha\\right) - \\bar{\\delta}\\left(\\overline{\\alpha}\\right)$"
      ],
      "text/plain": [
       "gamma*(rho - conjugate(rho)) + mu*rho + 4*alpha*conjugate(alpha) - Psi2 - Dm(alpha) - Dmbar(conjugate(alpha))"
      ]
     },
     "metadata": {},
     "output_type": "display_data"
    },
    {
     "data": {
      "text/html": [
       "<html>\\(\\displaystyle 4 \\, \\alpha \\overline{\\alpha} - {\\left(\\rho - \\overline{\\rho}\\right)} \\overline{\\gamma} + \\overline{\\mu} \\overline{\\rho} - \\delta\\left(\\alpha\\right) - \\bar{\\delta}\\left(\\overline{\\alpha}\\right) - \\overline{\\Psi_{2}}\\)</html>"
      ],
      "text/latex": [
       "$\\displaystyle 4 \\, \\alpha \\overline{\\alpha} - {\\left(\\rho - \\overline{\\rho}\\right)} \\overline{\\gamma} + \\overline{\\mu} \\overline{\\rho} - \\delta\\left(\\alpha\\right) - \\bar{\\delta}\\left(\\overline{\\alpha}\\right) - \\overline{\\Psi_{2}}$"
      ],
      "text/plain": [
       "4*alpha*conjugate(alpha) - (rho - conjugate(rho))*conjugate(gamma) + conjugate(mu)*conjugate(rho) - Dm(alpha) - Dmbar(conjugate(alpha)) - conjugate(Psi2)"
      ]
     },
     "metadata": {},
     "output_type": "display_data"
    },
    {
     "data": {
      "text/html": [
       "<html>\\(\\displaystyle \\verb|----------------------------------------|\\)</html>"
      ],
      "text/latex": [
       "$\\displaystyle \\verb|----------------------------------------|$"
      ],
      "text/plain": [
       "'----------------------------------------'"
      ]
     },
     "metadata": {},
     "output_type": "display_data"
    },
    {
     "data": {
      "text/html": [
       "<html>\\(\\displaystyle \\bar{\\delta}\\left(\\mu\\right)\\)</html>"
      ],
      "text/latex": [
       "$\\displaystyle \\bar{\\delta}\\left(\\mu\\right)$"
      ],
      "text/plain": [
       "Dmbar(mu)"
      ]
     },
     "metadata": {},
     "output_type": "display_data"
    },
    {
     "data": {
      "text/html": [
       "<html>\\(\\displaystyle \\delta\\left(\\overline{\\mu}\\right)\\)</html>"
      ],
      "text/latex": [
       "$\\displaystyle \\delta\\left(\\overline{\\mu}\\right)$"
      ],
      "text/plain": [
       "Dm(conjugate(mu))"
      ]
     },
     "metadata": {},
     "output_type": "display_data"
    },
    {
     "data": {
      "text/html": [
       "<html>\\(\\displaystyle \\verb|----------------------------------------|\\)</html>"
      ],
      "text/latex": [
       "$\\displaystyle \\verb|----------------------------------------|$"
      ],
      "text/plain": [
       "'----------------------------------------'"
      ]
     },
     "metadata": {},
     "output_type": "display_data"
    },
    {
     "data": {
      "text/html": [
       "<html>\\(\\displaystyle {\\left(\\gamma + \\overline{\\gamma}\\right)} \\mu + \\mu^{2} + \\Delta\\left(\\mu\\right)\\)</html>"
      ],
      "text/latex": [
       "$\\displaystyle {\\left(\\gamma + \\overline{\\gamma}\\right)} \\mu + \\mu^{2} + \\Delta\\left(\\mu\\right)$"
      ],
      "text/plain": [
       "(gamma + conjugate(gamma))*mu + mu^2 + Dn(mu)"
      ]
     },
     "metadata": {},
     "output_type": "display_data"
    },
    {
     "data": {
      "text/html": [
       "<html>\\(\\displaystyle {\\left(\\gamma + \\overline{\\gamma}\\right)} \\overline{\\mu} + \\overline{\\mu}^{2} + \\Delta\\left(\\overline{\\mu}\\right)\\)</html>"
      ],
      "text/latex": [
       "$\\displaystyle {\\left(\\gamma + \\overline{\\gamma}\\right)} \\overline{\\mu} + \\overline{\\mu}^{2} + \\Delta\\left(\\overline{\\mu}\\right)$"
      ],
      "text/plain": [
       "(gamma + conjugate(gamma))*conjugate(mu) + conjugate(mu)^2 + Dn(conjugate(mu))"
      ]
     },
     "metadata": {},
     "output_type": "display_data"
    },
    {
     "data": {
      "text/html": [
       "<html>\\(\\displaystyle \\verb|----------------------------------------|\\)</html>"
      ],
      "text/latex": [
       "$\\displaystyle \\verb|----------------------------------------|$"
      ],
      "text/plain": [
       "'----------------------------------------'"
      ]
     },
     "metadata": {},
     "output_type": "display_data"
    },
    {
     "data": {
      "text/html": [
       "<html>\\(\\displaystyle {\\left(\\gamma - \\mu - \\overline{\\gamma}\\right)} \\overline{\\alpha} - \\delta\\left(\\gamma\\right) - \\Delta\\left(\\overline{\\alpha}\\right)\\)</html>"
      ],
      "text/latex": [
       "$\\displaystyle {\\left(\\gamma - \\mu - \\overline{\\gamma}\\right)} \\overline{\\alpha} - \\delta\\left(\\gamma\\right) - \\Delta\\left(\\overline{\\alpha}\\right)$"
      ],
      "text/plain": [
       "(gamma - mu - conjugate(gamma))*conjugate(alpha) - Dm(gamma) - Dn(conjugate(alpha))"
      ]
     },
     "metadata": {},
     "output_type": "display_data"
    },
    {
     "data": {
      "text/html": [
       "<html>\\(\\displaystyle -\\alpha {\\left(\\gamma - \\overline{\\gamma} + \\overline{\\mu}\\right)} - \\bar{\\delta}\\left(\\overline{\\gamma}\\right) - \\Delta\\left(\\alpha\\right)\\)</html>"
      ],
      "text/latex": [
       "$\\displaystyle -\\alpha {\\left(\\gamma - \\overline{\\gamma} + \\overline{\\mu}\\right)} - \\bar{\\delta}\\left(\\overline{\\gamma}\\right) - \\Delta\\left(\\alpha\\right)$"
      ],
      "text/plain": [
       "-alpha*(gamma - conjugate(gamma) + conjugate(mu)) - Dmbar(conjugate(gamma)) - Dn(alpha)"
      ]
     },
     "metadata": {},
     "output_type": "display_data"
    },
    {
     "data": {
      "text/html": [
       "<html>\\(\\displaystyle \\verb|----------------------------------------|\\)</html>"
      ],
      "text/latex": [
       "$\\displaystyle \\verb|----------------------------------------|$"
      ],
      "text/plain": [
       "'----------------------------------------'"
      ]
     },
     "metadata": {},
     "output_type": "display_data"
    },
    {
     "data": {
      "text/html": [
       "<html>\\(\\displaystyle 0\\)</html>"
      ],
      "text/latex": [
       "$\\displaystyle 0$"
      ],
      "text/plain": [
       "0"
      ]
     },
     "metadata": {},
     "output_type": "display_data"
    },
    {
     "data": {
      "text/html": [
       "<html>\\(\\displaystyle 0\\)</html>"
      ],
      "text/latex": [
       "$\\displaystyle 0$"
      ],
      "text/plain": [
       "0"
      ]
     },
     "metadata": {},
     "output_type": "display_data"
    },
    {
     "data": {
      "text/html": [
       "<html>\\(\\displaystyle \\verb|----------------------------------------|\\)</html>"
      ],
      "text/latex": [
       "$\\displaystyle \\verb|----------------------------------------|$"
      ],
      "text/plain": [
       "'----------------------------------------'"
      ]
     },
     "metadata": {},
     "output_type": "display_data"
    },
    {
     "data": {
      "text/html": [
       "<html>\\(\\displaystyle {\\left(\\gamma + \\overline{\\gamma}\\right)} \\rho - \\rho \\overline{\\mu} - \\Psi_{2} - \\Delta\\left(\\rho\\right)\\)</html>"
      ],
      "text/latex": [
       "$\\displaystyle {\\left(\\gamma + \\overline{\\gamma}\\right)} \\rho - \\rho \\overline{\\mu} - \\Psi_{2} - \\Delta\\left(\\rho\\right)$"
      ],
      "text/plain": [
       "(gamma + conjugate(gamma))*rho - rho*conjugate(mu) - Psi2 - Dn(rho)"
      ]
     },
     "metadata": {},
     "output_type": "display_data"
    },
    {
     "data": {
      "text/html": [
       "<html>\\(\\displaystyle {\\left(\\gamma + \\overline{\\gamma}\\right)} \\overline{\\rho} - \\mu \\overline{\\rho} - \\Delta\\left(\\overline{\\rho}\\right) - \\overline{\\Psi_{2}}\\)</html>"
      ],
      "text/latex": [
       "$\\displaystyle {\\left(\\gamma + \\overline{\\gamma}\\right)} \\overline{\\rho} - \\mu \\overline{\\rho} - \\Delta\\left(\\overline{\\rho}\\right) - \\overline{\\Psi_{2}}$"
      ],
      "text/plain": [
       "(gamma + conjugate(gamma))*conjugate(rho) - mu*conjugate(rho) - Dn(conjugate(rho)) - conjugate(Psi2)"
      ]
     },
     "metadata": {},
     "output_type": "display_data"
    },
    {
     "data": {
      "text/html": [
       "<html>\\(\\displaystyle \\verb|----------------------------------------|\\)</html>"
      ],
      "text/latex": [
       "$\\displaystyle \\verb|----------------------------------------|$"
      ],
      "text/plain": [
       "'----------------------------------------'"
      ]
     },
     "metadata": {},
     "output_type": "display_data"
    },
    {
     "data": {
      "text/html": [
       "<html>\\(\\displaystyle -\\alpha \\gamma + \\alpha {\\left(\\overline{\\gamma} - \\overline{\\mu}\\right)} + \\bar{\\delta}\\left(\\gamma\\right) - \\Delta\\left(\\alpha\\right)\\)</html>"
      ],
      "text/latex": [
       "$\\displaystyle -\\alpha \\gamma + \\alpha {\\left(\\overline{\\gamma} - \\overline{\\mu}\\right)} + \\bar{\\delta}\\left(\\gamma\\right) - \\Delta\\left(\\alpha\\right)$"
      ],
      "text/plain": [
       "-alpha*gamma + alpha*(conjugate(gamma) - conjugate(mu)) + Dmbar(gamma) - Dn(alpha)"
      ]
     },
     "metadata": {},
     "output_type": "display_data"
    },
    {
     "data": {
      "text/html": [
       "<html>\\(\\displaystyle {\\left(\\gamma - \\mu\\right)} \\overline{\\alpha} - \\overline{\\alpha} \\overline{\\gamma} + \\delta\\left(\\overline{\\gamma}\\right) - \\Delta\\left(\\overline{\\alpha}\\right)\\)</html>"
      ],
      "text/latex": [
       "$\\displaystyle {\\left(\\gamma - \\mu\\right)} \\overline{\\alpha} - \\overline{\\alpha} \\overline{\\gamma} + \\delta\\left(\\overline{\\gamma}\\right) - \\Delta\\left(\\overline{\\alpha}\\right)$"
      ],
      "text/plain": [
       "(gamma - mu)*conjugate(alpha) - conjugate(alpha)*conjugate(gamma) + Dm(conjugate(gamma)) - Dn(conjugate(alpha))"
      ]
     },
     "metadata": {},
     "output_type": "display_data"
    },
    {
     "data": {
      "text/html": [
       "<html>\\(\\displaystyle \\verb|----------------------------------------|\\)</html>"
      ],
      "text/latex": [
       "$\\displaystyle \\verb|----------------------------------------|$"
      ],
      "text/plain": [
       "'----------------------------------------'"
      ]
     },
     "metadata": {},
     "output_type": "display_data"
    },
    {
     "data": {
      "text/html": [
       "<html>\\(\\displaystyle 0\\)</html>"
      ],
      "text/latex": [
       "$\\displaystyle 0$"
      ],
      "text/plain": [
       "0"
      ]
     },
     "metadata": {},
     "output_type": "display_data"
    },
    {
     "data": {
      "text/html": [
       "<html>\\(\\displaystyle 0\\)</html>"
      ],
      "text/latex": [
       "$\\displaystyle 0$"
      ],
      "text/plain": [
       "0"
      ]
     },
     "metadata": {},
     "output_type": "display_data"
    },
    {
     "data": {
      "text/html": [
       "<html>\\(\\displaystyle \\verb|----------------------------------------|\\)</html>"
      ],
      "text/latex": [
       "$\\displaystyle \\verb|----------------------------------------|$"
      ],
      "text/plain": [
       "'----------------------------------------'"
      ]
     },
     "metadata": {},
     "output_type": "display_data"
    },
    {
     "data": {
      "text/html": [
       "<html>\\(\\displaystyle 0\\)</html>"
      ],
      "text/latex": [
       "$\\displaystyle 0$"
      ],
      "text/plain": [
       "0"
      ]
     },
     "metadata": {},
     "output_type": "display_data"
    },
    {
     "data": {
      "text/html": [
       "<html>\\(\\displaystyle 0\\)</html>"
      ],
      "text/latex": [
       "$\\displaystyle 0$"
      ],
      "text/plain": [
       "0"
      ]
     },
     "metadata": {},
     "output_type": "display_data"
    },
    {
     "data": {
      "text/html": [
       "<html>\\(\\displaystyle \\verb|----------------------------------------|\\)</html>"
      ],
      "text/latex": [
       "$\\displaystyle \\verb|----------------------------------------|$"
      ],
      "text/plain": [
       "'----------------------------------------'"
      ]
     },
     "metadata": {},
     "output_type": "display_data"
    },
    {
     "data": {
      "text/html": [
       "<html>\\(\\displaystyle 0\\)</html>"
      ],
      "text/latex": [
       "$\\displaystyle 0$"
      ],
      "text/plain": [
       "0"
      ]
     },
     "metadata": {},
     "output_type": "display_data"
    },
    {
     "data": {
      "text/html": [
       "<html>\\(\\displaystyle 0\\)</html>"
      ],
      "text/latex": [
       "$\\displaystyle 0$"
      ],
      "text/plain": [
       "0"
      ]
     },
     "metadata": {},
     "output_type": "display_data"
    },
    {
     "data": {
      "text/html": [
       "<html>\\(\\displaystyle \\verb|----------------------------------------|\\)</html>"
      ],
      "text/latex": [
       "$\\displaystyle \\verb|----------------------------------------|$"
      ],
      "text/plain": [
       "'----------------------------------------'"
      ]
     },
     "metadata": {},
     "output_type": "display_data"
    },
    {
     "data": {
      "text/html": [
       "<html>\\(\\displaystyle 0\\)</html>"
      ],
      "text/latex": [
       "$\\displaystyle 0$"
      ],
      "text/plain": [
       "0"
      ]
     },
     "metadata": {},
     "output_type": "display_data"
    },
    {
     "data": {
      "text/html": [
       "<html>\\(\\displaystyle 0\\)</html>"
      ],
      "text/latex": [
       "$\\displaystyle 0$"
      ],
      "text/plain": [
       "0"
      ]
     },
     "metadata": {},
     "output_type": "display_data"
    },
    {
     "data": {
      "text/html": [
       "<html>\\(\\displaystyle \\verb|----------------------------------------|\\)</html>"
      ],
      "text/latex": [
       "$\\displaystyle \\verb|----------------------------------------|$"
      ],
      "text/plain": [
       "'----------------------------------------'"
      ]
     },
     "metadata": {},
     "output_type": "display_data"
    },
    {
     "data": {
      "text/html": [
       "<html>\\(\\displaystyle 3 \\, \\Psi_{2} \\rho - D\\left(\\Psi_{2}\\right)\\)</html>"
      ],
      "text/latex": [
       "$\\displaystyle 3 \\, \\Psi_{2} \\rho - D\\left(\\Psi_{2}\\right)$"
      ],
      "text/plain": [
       "3*Psi2*rho - Dl(Psi2)"
      ]
     },
     "metadata": {},
     "output_type": "display_data"
    },
    {
     "data": {
      "text/html": [
       "<html>\\(\\displaystyle 3 \\, \\overline{\\Psi_{2}} \\overline{\\rho} - D\\left(\\overline{\\Psi_{2}}\\right)\\)</html>"
      ],
      "text/latex": [
       "$\\displaystyle 3 \\, \\overline{\\Psi_{2}} \\overline{\\rho} - D\\left(\\overline{\\Psi_{2}}\\right)$"
      ],
      "text/plain": [
       "3*conjugate(Psi2)*conjugate(rho) - Dl(conjugate(Psi2))"
      ]
     },
     "metadata": {},
     "output_type": "display_data"
    },
    {
     "data": {
      "text/html": [
       "<html>\\(\\displaystyle \\verb|----------------------------------------|\\)</html>"
      ],
      "text/latex": [
       "$\\displaystyle \\verb|----------------------------------------|$"
      ],
      "text/plain": [
       "'----------------------------------------'"
      ]
     },
     "metadata": {},
     "output_type": "display_data"
    },
    {
     "data": {
      "text/html": [
       "<html>\\(\\displaystyle -3 \\, \\Psi_{2} \\mu - \\Delta\\left(\\Psi_{2}\\right)\\)</html>"
      ],
      "text/latex": [
       "$\\displaystyle -3 \\, \\Psi_{2} \\mu - \\Delta\\left(\\Psi_{2}\\right)$"
      ],
      "text/plain": [
       "-3*Psi2*mu - Dn(Psi2)"
      ]
     },
     "metadata": {},
     "output_type": "display_data"
    },
    {
     "data": {
      "text/html": [
       "<html>\\(\\displaystyle -3 \\, \\overline{\\Psi_{2}} \\overline{\\mu} - \\Delta\\left(\\overline{\\Psi_{2}}\\right)\\)</html>"
      ],
      "text/latex": [
       "$\\displaystyle -3 \\, \\overline{\\Psi_{2}} \\overline{\\mu} - \\Delta\\left(\\overline{\\Psi_{2}}\\right)$"
      ],
      "text/plain": [
       "-3*conjugate(Psi2)*conjugate(mu) - Dn(conjugate(Psi2))"
      ]
     },
     "metadata": {},
     "output_type": "display_data"
    },
    {
     "data": {
      "text/html": [
       "<html>\\(\\displaystyle \\verb|----------------------------------------|\\)</html>"
      ],
      "text/latex": [
       "$\\displaystyle \\verb|----------------------------------------|$"
      ],
      "text/plain": [
       "'----------------------------------------'"
      ]
     },
     "metadata": {},
     "output_type": "display_data"
    },
    {
     "data": {
      "text/html": [
       "<html>\\(\\displaystyle \\bar{\\delta}\\left(\\Psi_{2}\\right)\\)</html>"
      ],
      "text/latex": [
       "$\\displaystyle \\bar{\\delta}\\left(\\Psi_{2}\\right)$"
      ],
      "text/plain": [
       "Dmbar(Psi2)"
      ]
     },
     "metadata": {},
     "output_type": "display_data"
    },
    {
     "data": {
      "text/html": [
       "<html>\\(\\displaystyle \\delta\\left(\\overline{\\Psi_{2}}\\right)\\)</html>"
      ],
      "text/latex": [
       "$\\displaystyle \\delta\\left(\\overline{\\Psi_{2}}\\right)$"
      ],
      "text/plain": [
       "Dm(conjugate(Psi2))"
      ]
     },
     "metadata": {},
     "output_type": "display_data"
    },
    {
     "data": {
      "text/html": [
       "<html>\\(\\displaystyle \\verb|----------------------------------------|\\)</html>"
      ],
      "text/latex": [
       "$\\displaystyle \\verb|----------------------------------------|$"
      ],
      "text/plain": [
       "'----------------------------------------'"
      ]
     },
     "metadata": {},
     "output_type": "display_data"
    },
    {
     "data": {
      "text/html": [
       "<html>\\(\\displaystyle \\delta\\left(\\Psi_{2}\\right)\\)</html>"
      ],
      "text/latex": [
       "$\\displaystyle \\delta\\left(\\Psi_{2}\\right)$"
      ],
      "text/plain": [
       "Dm(Psi2)"
      ]
     },
     "metadata": {},
     "output_type": "display_data"
    },
    {
     "data": {
      "text/html": [
       "<html>\\(\\displaystyle \\bar{\\delta}\\left(\\overline{\\Psi_{2}}\\right)\\)</html>"
      ],
      "text/latex": [
       "$\\displaystyle \\bar{\\delta}\\left(\\overline{\\Psi_{2}}\\right)$"
      ],
      "text/plain": [
       "Dmbar(conjugate(Psi2))"
      ]
     },
     "metadata": {},
     "output_type": "display_data"
    },
    {
     "data": {
      "text/html": [
       "<html>\\(\\displaystyle \\verb|----------------------------------------|\\)</html>"
      ],
      "text/latex": [
       "$\\displaystyle \\verb|----------------------------------------|$"
      ],
      "text/plain": [
       "'----------------------------------------'"
      ]
     },
     "metadata": {},
     "output_type": "display_data"
    },
    {
     "data": {
      "text/html": [
       "<html>\\(\\displaystyle 0\\)</html>"
      ],
      "text/latex": [
       "$\\displaystyle 0$"
      ],
      "text/plain": [
       "0"
      ]
     },
     "metadata": {},
     "output_type": "display_data"
    },
    {
     "data": {
      "text/html": [
       "<html>\\(\\displaystyle 0\\)</html>"
      ],
      "text/latex": [
       "$\\displaystyle 0$"
      ],
      "text/plain": [
       "0"
      ]
     },
     "metadata": {},
     "output_type": "display_data"
    },
    {
     "data": {
      "text/html": [
       "<html>\\(\\displaystyle \\verb|----------------------------------------|\\)</html>"
      ],
      "text/latex": [
       "$\\displaystyle \\verb|----------------------------------------|$"
      ],
      "text/plain": [
       "'----------------------------------------'"
      ]
     },
     "metadata": {},
     "output_type": "display_data"
    },
    {
     "data": {
      "text/html": [
       "<html>\\(\\displaystyle 0\\)</html>"
      ],
      "text/latex": [
       "$\\displaystyle 0$"
      ],
      "text/plain": [
       "0"
      ]
     },
     "metadata": {},
     "output_type": "display_data"
    },
    {
     "data": {
      "text/html": [
       "<html>\\(\\displaystyle 0\\)</html>"
      ],
      "text/latex": [
       "$\\displaystyle 0$"
      ],
      "text/plain": [
       "0"
      ]
     },
     "metadata": {},
     "output_type": "display_data"
    },
    {
     "data": {
      "text/html": [
       "<html>\\(\\displaystyle \\verb|----------------------------------------|\\)</html>"
      ],
      "text/latex": [
       "$\\displaystyle \\verb|----------------------------------------|$"
      ],
      "text/plain": [
       "'----------------------------------------'"
      ]
     },
     "metadata": {},
     "output_type": "display_data"
    },
    {
     "data": {
      "text/html": [
       "<html>\\(\\displaystyle 0\\)</html>"
      ],
      "text/latex": [
       "$\\displaystyle 0$"
      ],
      "text/plain": [
       "0"
      ]
     },
     "metadata": {},
     "output_type": "display_data"
    },
    {
     "data": {
      "text/html": [
       "<html>\\(\\displaystyle 0\\)</html>"
      ],
      "text/latex": [
       "$\\displaystyle 0$"
      ],
      "text/plain": [
       "0"
      ]
     },
     "metadata": {},
     "output_type": "display_data"
    },
    {
     "data": {
      "text/html": [
       "<html>\\(\\displaystyle \\verb|----------------------------------------|\\)</html>"
      ],
      "text/latex": [
       "$\\displaystyle \\verb|----------------------------------------|$"
      ],
      "text/plain": [
       "'----------------------------------------'"
      ]
     },
     "metadata": {},
     "output_type": "display_data"
    }
   ],
   "source": [
    "# Kinnersley-NUT\n",
    "\n",
    "reset()\n",
    "load(\"NPDerivatives.sage\")\n",
    "\n",
    "# Vacuum:\n",
    "Phi00=Phi01=Phi10=Phi02=Phi20=Phi11=Phi12=Phi21=Phi22=Lambda=0\n",
    "\n",
    "# Type D\n",
    "Psi0=Psi1=Psi3=Psi4=0\n",
    "\n",
    "# Bianchi:\n",
    "kappa=sigma=lambdaa=nu=0\n",
    "\n",
    "# Gauge:\n",
    "epsilon=0\n",
    "\n",
    "# Type I of Type D metrics:\n",
    "pi=tau=0\n",
    "beta=-conjugate(alpha)\n",
    "\n",
    "# NP and Bianchi eqn.s:\n",
    "NPeqs()\n",
    "Bianchi()\n",
    "\n",
    "show(\"----------------------------------------\")\n",
    "show(NP1)\n",
    "show(opconj(NP1))\n",
    "show(\"----------------------------------------\")\n",
    "show(NP2)\n",
    "show(opconj(NP2))\n",
    "show(\"----------------------------------------\")\n",
    "show(NP3)\n",
    "show(opconj(NP3))\n",
    "show(\"----------------------------------------\")\n",
    "show(NP4)\n",
    "show(opconj(NP4))\n",
    "show(\"----------------------------------------\")\n",
    "show(NP5)\n",
    "show(opconj(NP5))\n",
    "show(\"----------------------------------------\")\n",
    "show(NP6)\n",
    "show(opconj(NP6))\n",
    "show(\"----------------------------------------\")\n",
    "show(NP7)\n",
    "show(opconj(NP7))\n",
    "show(\"----------------------------------------\")\n",
    "show(NP8)\n",
    "show(opconj(NP8))\n",
    "show(\"----------------------------------------\")\n",
    "show(NP9)\n",
    "show(opconj(NP9))\n",
    "show(\"----------------------------------------\")\n",
    "show(NP10)\n",
    "show(opconj(NP10))\n",
    "show(\"----------------------------------------\")\n",
    "show(NP11)\n",
    "show(opconj(NP11))\n",
    "show(\"----------------------------------------\")\n",
    "show(NP12)\n",
    "show(opconj(NP12))\n",
    "show(\"----------------------------------------\")\n",
    "show(NP13)\n",
    "show(opconj(NP13))\n",
    "show(\"----------------------------------------\")\n",
    "show(NP14)\n",
    "show(opconj(NP14))\n",
    "show(\"----------------------------------------\")\n",
    "show(NP15)\n",
    "show(opconj(NP15))\n",
    "show(\"----------------------------------------\")\n",
    "show(NP16)\n",
    "show(opconj(NP16))\n",
    "show(\"----------------------------------------\")\n",
    "show(NP17)\n",
    "show(opconj(NP17))\n",
    "show(\"----------------------------------------\")\n",
    "show(NP18)\n",
    "show(opconj(NP18))\n",
    "show(\"----------------------------------------\")\n",
    "show(BI1)\n",
    "show(opconj(BI1))\n",
    "show(\"----------------------------------------\")\n",
    "show(BI2)\n",
    "show(opconj(BI2))\n",
    "show(\"----------------------------------------\")\n",
    "show(BI3)\n",
    "show(opconj(BI3))\n",
    "show(\"----------------------------------------\")\n",
    "show(BI4)\n",
    "show(opconj(BI4))\n",
    "show(\"----------------------------------------\")\n",
    "show(BI5)\n",
    "show(opconj(BI5))\n",
    "show(\"----------------------------------------\")\n",
    "show(BI6)\n",
    "show(opconj(BI6))\n",
    "show(\"----------------------------------------\")\n",
    "show(BI7)\n",
    "show(opconj(BI7))\n",
    "show(\"----------------------------------------\")\n",
    "show(BI8)\n",
    "show(opconj(BI8))\n",
    "show(\"----------------------------------------\")\n",
    "show(BI9)\n",
    "show(opconj(BI9))\n",
    "show(\"----------------------------------------\")\n",
    "show(BI10)\n",
    "show(opconj(BI10))\n",
    "show(\"----------------------------------------\")\n",
    "show(BI11)\n",
    "show(opconj(BI11))\n",
    "show(\"----------------------------------------\")\n"
   ]
  },
  {
   "cell_type": "code",
   "execution_count": 3,
   "id": "a107485a",
   "metadata": {},
   "outputs": [
    {
     "data": {
      "text/html": [
       "<html>\\(\\displaystyle 3 \\, \\Psi_{2} \\rho - D\\left(\\Psi_{2}\\right)\\)</html>"
      ],
      "text/latex": [
       "$\\displaystyle 3 \\, \\Psi_{2} \\rho - D\\left(\\Psi_{2}\\right)$"
      ],
      "text/plain": [
       "3*Psi2*rho - Dl(Psi2)"
      ]
     },
     "metadata": {},
     "output_type": "display_data"
    },
    {
     "data": {
      "text/html": [
       "<html>\\(\\displaystyle -3 \\, \\Psi_{2} \\mu - \\Delta\\left(\\Psi_{2}\\right)\\)</html>"
      ],
      "text/latex": [
       "$\\displaystyle -3 \\, \\Psi_{2} \\mu - \\Delta\\left(\\Psi_{2}\\right)$"
      ],
      "text/plain": [
       "-3*Psi2*mu - Dn(Psi2)"
      ]
     },
     "metadata": {},
     "output_type": "display_data"
    },
    {
     "data": {
      "text/html": [
       "<html>\\(\\displaystyle \\bar{\\delta}\\left(\\Psi_{2}\\right)\\)</html>"
      ],
      "text/latex": [
       "$\\displaystyle \\bar{\\delta}\\left(\\Psi_{2}\\right)$"
      ],
      "text/plain": [
       "Dmbar(Psi2)"
      ]
     },
     "metadata": {},
     "output_type": "display_data"
    },
    {
     "data": {
      "text/html": [
       "<html>\\(\\displaystyle \\delta\\left(\\Psi_{2}\\right)\\)</html>"
      ],
      "text/latex": [
       "$\\displaystyle \\delta\\left(\\Psi_{2}\\right)$"
      ],
      "text/plain": [
       "Dm(Psi2)"
      ]
     },
     "metadata": {},
     "output_type": "display_data"
    },
    {
     "data": {
      "text/html": [
       "<html>\\(\\displaystyle \\verb|Solve|\\verb| |\\verb|the|\\verb| |\\verb|equations:|\\)</html>"
      ],
      "text/latex": [
       "$\\displaystyle \\verb|Solve|\\verb| |\\verb|the|\\verb| |\\verb|equations:|$"
      ],
      "text/plain": [
       "'Solve the equations:'"
      ]
     },
     "metadata": {},
     "output_type": "display_data"
    },
    {
     "data": {
      "text/html": [
       "<html>\\(\\displaystyle \\verb|DlPsi2=| 3 \\, \\Psi_{2} \\rho\\)</html>"
      ],
      "text/latex": [
       "$\\displaystyle \\verb|DlPsi2=| 3 \\, \\Psi_{2} \\rho$"
      ],
      "text/plain": [
       "'DlPsi2=' 3*Psi2*rho"
      ]
     },
     "metadata": {},
     "output_type": "display_data"
    },
    {
     "data": {
      "text/html": [
       "<html>\\(\\displaystyle \\verb|DnPsi2=| -3 \\, \\Psi_{2} \\mu\\)</html>"
      ],
      "text/latex": [
       "$\\displaystyle \\verb|DnPsi2=| -3 \\, \\Psi_{2} \\mu$"
      ],
      "text/plain": [
       "'DnPsi2=' -3*Psi2*mu"
      ]
     },
     "metadata": {},
     "output_type": "display_data"
    },
    {
     "data": {
      "text/html": [
       "<html>\\(\\displaystyle \\verb|DmbarPsi2=| 0\\)</html>"
      ],
      "text/latex": [
       "$\\displaystyle \\verb|DmbarPsi2=| 0$"
      ],
      "text/plain": [
       "'DmbarPsi2=' 0"
      ]
     },
     "metadata": {},
     "output_type": "display_data"
    },
    {
     "data": {
      "text/html": [
       "<html>\\(\\displaystyle \\verb|DmPsi2=| 0\\)</html>"
      ],
      "text/latex": [
       "$\\displaystyle \\verb|DmPsi2=| 0$"
      ],
      "text/plain": [
       "'DmPsi2=' 0"
      ]
     },
     "metadata": {},
     "output_type": "display_data"
    }
   ],
   "source": [
    "# Derivatives of Psi2:\n",
    "show(BI5)\n",
    "show(BI6)\n",
    "show(BI7)\n",
    "show(BI8)\n",
    "\n",
    "show('Solve the equations:')\n",
    "DlPsi2=solve(BI5==0,Dl(Psi2))[0].rhs()\n",
    "show(\"DlPsi2=\",DlPsi2)\n",
    "DnPsi2=solve(BI6==0,Dn(Psi2))[0].rhs()\n",
    "show(\"DnPsi2=\",DnPsi2)\n",
    "DmbarPsi2=solve(BI7==0,Dmbar(Psi2))[0].rhs()\n",
    "show(\"DmbarPsi2=\",DmbarPsi2)\n",
    "DmPsi2=solve(BI8==0,Dm(Psi2))[0].rhs()\n",
    "show(\"DmPsi2=\",DmPsi2)\n",
    "\n",
    "DlPsi2bar=conjugate(DlPsi2)\n",
    "DnPsi2bar=conjugate(DnPsi2)\n",
    "DmPsi2bar=conjugate(DmPsi2)\n",
    "DmbarPsi2bar=conjugate(DmbarPsi2)"
   ]
  },
  {
   "cell_type": "code",
   "execution_count": 4,
   "id": "45eda1d9",
   "metadata": {},
   "outputs": [
    {
     "data": {
      "text/html": [
       "<html>\\(\\displaystyle \\rho^{2} - D\\left(\\rho\\right)\\)</html>"
      ],
      "text/latex": [
       "$\\displaystyle \\rho^{2} - D\\left(\\rho\\right)$"
      ],
      "text/plain": [
       "rho^2 - Dl(rho)"
      ]
     },
     "metadata": {},
     "output_type": "display_data"
    },
    {
     "data": {
      "text/html": [
       "<html>\\(\\displaystyle {\\left(\\gamma + \\overline{\\gamma}\\right)} \\rho - \\rho \\overline{\\mu} - \\Psi_{2} - \\Delta\\left(\\rho\\right)\\)</html>"
      ],
      "text/latex": [
       "$\\displaystyle {\\left(\\gamma + \\overline{\\gamma}\\right)} \\rho - \\rho \\overline{\\mu} - \\Psi_{2} - \\Delta\\left(\\rho\\right)$"
      ],
      "text/plain": [
       "(gamma + conjugate(gamma))*rho - rho*conjugate(mu) - Psi2 - Dn(rho)"
      ]
     },
     "metadata": {},
     "output_type": "display_data"
    },
    {
     "data": {
      "text/html": [
       "<html>\\(\\displaystyle -\\delta\\left(\\rho\\right)\\)</html>"
      ],
      "text/latex": [
       "$\\displaystyle -\\delta\\left(\\rho\\right)$"
      ],
      "text/plain": [
       "-Dm(rho)"
      ]
     },
     "metadata": {},
     "output_type": "display_data"
    },
    {
     "data": {
      "text/html": [
       "<html>\\(\\displaystyle \\verb|Solve|\\verb| |\\verb|the|\\verb| |\\verb|equations:|\\)</html>"
      ],
      "text/latex": [
       "$\\displaystyle \\verb|Solve|\\verb| |\\verb|the|\\verb| |\\verb|equations:|$"
      ],
      "text/plain": [
       "'Solve the equations:'"
      ]
     },
     "metadata": {},
     "output_type": "display_data"
    },
    {
     "data": {
      "text/html": [
       "<html>\\(\\displaystyle \\verb|Dlrho=| \\rho^{2}\\)</html>"
      ],
      "text/latex": [
       "$\\displaystyle \\verb|Dlrho=| \\rho^{2}$"
      ],
      "text/plain": [
       "'Dlrho=' rho^2"
      ]
     },
     "metadata": {},
     "output_type": "display_data"
    },
    {
     "data": {
      "text/html": [
       "<html>\\(\\displaystyle \\verb|Dnrho=| {\\left(\\gamma + \\overline{\\gamma} - \\overline{\\mu}\\right)} \\rho - \\Psi_{2}\\)</html>"
      ],
      "text/latex": [
       "$\\displaystyle \\verb|Dnrho=| {\\left(\\gamma + \\overline{\\gamma} - \\overline{\\mu}\\right)} \\rho - \\Psi_{2}$"
      ],
      "text/plain": [
       "'Dnrho=' (gamma + conjugate(gamma) - conjugate(mu))*rho - Psi2"
      ]
     },
     "metadata": {},
     "output_type": "display_data"
    },
    {
     "data": {
      "text/html": [
       "<html>\\(\\displaystyle \\verb|Dmrho=| 0\\)</html>"
      ],
      "text/latex": [
       "$\\displaystyle \\verb|Dmrho=| 0$"
      ],
      "text/plain": [
       "'Dmrho=' 0"
      ]
     },
     "metadata": {},
     "output_type": "display_data"
    },
    {
     "data": {
      "text/html": [
       "<html>\\(\\displaystyle \\verb|Dmbarrho=| 0\\)</html>"
      ],
      "text/latex": [
       "$\\displaystyle \\verb|Dmbarrho=| 0$"
      ],
      "text/plain": [
       "'Dmbarrho=' 0"
      ]
     },
     "metadata": {},
     "output_type": "display_data"
    }
   ],
   "source": [
    "# Derivatives of rho:\n",
    "show(NP1)\n",
    "show(NP17)\n",
    "show(NP11)\n",
    "\n",
    "show('Solve the equations:')\n",
    "Dlrho=solve(NP1==0,Dl(rho))[0].rhs()\n",
    "show(\"Dlrho=\",Dlrho)\n",
    "Dnrho=solve(NP17==0,Dn(rho))[0].rhs()\n",
    "show(\"Dnrho=\",Dnrho)\n",
    "Dmrho=solve(NP11==0,Dm(rho))[0].rhs()\n",
    "show(\"Dmrho=\",Dmrho)\n",
    "Dmbarrho=0 # from commutation\n",
    "show(\"Dmbarrho=\",Dmbarrho)\n",
    "\n",
    "Dlrhobar=conjugate(Dlrho)\n",
    "Dnrhobar=conjugate(Dnrho)\n",
    "Dmrhobar=conjugate(Dmrho)\n",
    "Dmbarrhobar=conjugate(Dmbarrho)"
   ]
  },
  {
   "cell_type": "code",
   "execution_count": 5,
   "id": "a4815262",
   "metadata": {},
   "outputs": [
    {
     "data": {
      "text/html": [
       "<html>\\(\\displaystyle \\mu \\overline{\\rho} + \\Psi_{2} - D\\left(\\mu\\right)\\)</html>"
      ],
      "text/latex": [
       "$\\displaystyle \\mu \\overline{\\rho} + \\Psi_{2} - D\\left(\\mu\\right)$"
      ],
      "text/plain": [
       "mu*conjugate(rho) + Psi2 - Dl(mu)"
      ]
     },
     "metadata": {},
     "output_type": "display_data"
    },
    {
     "data": {
      "text/html": [
       "<html>\\(\\displaystyle {\\left(\\gamma + \\overline{\\gamma}\\right)} \\mu + \\mu^{2} + \\Delta\\left(\\mu\\right)\\)</html>"
      ],
      "text/latex": [
       "$\\displaystyle {\\left(\\gamma + \\overline{\\gamma}\\right)} \\mu + \\mu^{2} + \\Delta\\left(\\mu\\right)$"
      ],
      "text/plain": [
       "(gamma + conjugate(gamma))*mu + mu^2 + Dn(mu)"
      ]
     },
     "metadata": {},
     "output_type": "display_data"
    },
    {
     "data": {
      "text/html": [
       "<html>\\(\\displaystyle \\bar{\\delta}\\left(\\mu\\right)\\)</html>"
      ],
      "text/latex": [
       "$\\displaystyle \\bar{\\delta}\\left(\\mu\\right)$"
      ],
      "text/plain": [
       "Dmbar(mu)"
      ]
     },
     "metadata": {},
     "output_type": "display_data"
    },
    {
     "data": {
      "text/html": [
       "<html>\\(\\displaystyle \\verb|Solve|\\verb| |\\verb|the|\\verb| |\\verb|equations:|\\)</html>"
      ],
      "text/latex": [
       "$\\displaystyle \\verb|Solve|\\verb| |\\verb|the|\\verb| |\\verb|equations:|$"
      ],
      "text/plain": [
       "'Solve the equations:'"
      ]
     },
     "metadata": {},
     "output_type": "display_data"
    },
    {
     "data": {
      "text/html": [
       "<html>\\(\\displaystyle \\verb|Dlmu=| \\mu \\overline{\\rho} + \\Psi_{2}\\)</html>"
      ],
      "text/latex": [
       "$\\displaystyle \\verb|Dlmu=| \\mu \\overline{\\rho} + \\Psi_{2}$"
      ],
      "text/plain": [
       "'Dlmu=' mu*conjugate(rho) + Psi2"
      ]
     },
     "metadata": {},
     "output_type": "display_data"
    },
    {
     "data": {
      "text/html": [
       "<html>\\(\\displaystyle \\verb|Dnmu=| -{\\left(\\gamma + \\overline{\\gamma}\\right)} \\mu - \\mu^{2}\\)</html>"
      ],
      "text/latex": [
       "$\\displaystyle \\verb|Dnmu=| -{\\left(\\gamma + \\overline{\\gamma}\\right)} \\mu - \\mu^{2}$"
      ],
      "text/plain": [
       "'Dnmu=' -(gamma + conjugate(gamma))*mu - mu^2"
      ]
     },
     "metadata": {},
     "output_type": "display_data"
    },
    {
     "data": {
      "text/html": [
       "<html>\\(\\displaystyle \\verb|Dmbarmu=| 0\\)</html>"
      ],
      "text/latex": [
       "$\\displaystyle \\verb|Dmbarmu=| 0$"
      ],
      "text/plain": [
       "'Dmbarmu=' 0"
      ]
     },
     "metadata": {},
     "output_type": "display_data"
    },
    {
     "data": {
      "text/html": [
       "<html>\\(\\displaystyle \\verb|Dmmu=| 0\\)</html>"
      ],
      "text/latex": [
       "$\\displaystyle \\verb|Dmmu=| 0$"
      ],
      "text/plain": [
       "'Dmmu=' 0"
      ]
     },
     "metadata": {},
     "output_type": "display_data"
    }
   ],
   "source": [
    "# Derivatives of mu:\n",
    "show(NP8)\n",
    "show(NP14)\n",
    "show(NP13)\n",
    "\n",
    "show('Solve the equations:')\n",
    "Dlmu=solve(NP8==0,Dl(mu))[0].rhs()\n",
    "show(\"Dlmu=\",Dlmu)\n",
    "Dnmu=solve(NP14==0,Dn(mu))[0].rhs()\n",
    "show(\"Dnmu=\",Dnmu)\n",
    "Dmbarmu=solve(NP13==0,Dmbar(mu))[0].rhs()\n",
    "show(\"Dmbarmu=\",Dmbarmu)\n",
    "Dmmu=conjugate(Dmbarmu)\n",
    "show(\"Dmmu=\",Dmmu)\n",
    "\n",
    "Dlmubar=conjugate(Dlmu)\n",
    "Dnmubar=conjugate(Dnmu)\n",
    "Dmmubar=conjugate(Dmmu)\n",
    "Dmbarmubar=conjugate(Dmbarmu)"
   ]
  },
  {
   "cell_type": "code",
   "execution_count": 6,
   "id": "f3475695",
   "metadata": {},
   "outputs": [
    {
     "data": {
      "text/html": [
       "<html>\\(\\displaystyle \\alpha \\rho - D\\left(\\alpha\\right)\\)</html>"
      ],
      "text/latex": [
       "$\\displaystyle \\alpha \\rho - D\\left(\\alpha\\right)$"
      ],
      "text/plain": [
       "alpha*rho - Dl(alpha)"
      ]
     },
     "metadata": {},
     "output_type": "display_data"
    },
    {
     "data": {
      "text/html": [
       "<html>\\(\\displaystyle -\\overline{\\alpha} \\overline{\\rho} + D\\left(\\overline{\\alpha}\\right)\\)</html>"
      ],
      "text/latex": [
       "$\\displaystyle -\\overline{\\alpha} \\overline{\\rho} + D\\left(\\overline{\\alpha}\\right)$"
      ],
      "text/plain": [
       "-conjugate(alpha)*conjugate(rho) + Dl(conjugate(alpha))"
      ]
     },
     "metadata": {},
     "output_type": "display_data"
    },
    {
     "data": {
      "text/html": [
       "<html>\\(\\displaystyle \\gamma {\\left(\\rho - \\overline{\\rho}\\right)} + \\mu \\rho + 4 \\, \\alpha \\overline{\\alpha} - \\Psi_{2} - \\delta\\left(\\alpha\\right) - \\bar{\\delta}\\left(\\overline{\\alpha}\\right)\\)</html>"
      ],
      "text/latex": [
       "$\\displaystyle \\gamma {\\left(\\rho - \\overline{\\rho}\\right)} + \\mu \\rho + 4 \\, \\alpha \\overline{\\alpha} - \\Psi_{2} - \\delta\\left(\\alpha\\right) - \\bar{\\delta}\\left(\\overline{\\alpha}\\right)$"
      ],
      "text/plain": [
       "gamma*(rho - conjugate(rho)) + mu*rho + 4*alpha*conjugate(alpha) - Psi2 - Dm(alpha) - Dmbar(conjugate(alpha))"
      ]
     },
     "metadata": {},
     "output_type": "display_data"
    },
    {
     "data": {
      "text/html": [
       "<html>\\(\\displaystyle -\\alpha \\gamma + \\alpha {\\left(\\overline{\\gamma} - \\overline{\\mu}\\right)} + \\bar{\\delta}\\left(\\gamma\\right) - \\Delta\\left(\\alpha\\right)\\)</html>"
      ],
      "text/latex": [
       "$\\displaystyle -\\alpha \\gamma + \\alpha {\\left(\\overline{\\gamma} - \\overline{\\mu}\\right)} + \\bar{\\delta}\\left(\\gamma\\right) - \\Delta\\left(\\alpha\\right)$"
      ],
      "text/plain": [
       "-alpha*gamma + alpha*(conjugate(gamma) - conjugate(mu)) + Dmbar(gamma) - Dn(alpha)"
      ]
     },
     "metadata": {},
     "output_type": "display_data"
    },
    {
     "data": {
      "text/html": [
       "<html>\\(\\displaystyle {\\left(\\gamma - \\mu - \\overline{\\gamma}\\right)} \\overline{\\alpha} - \\delta\\left(\\gamma\\right) - \\Delta\\left(\\overline{\\alpha}\\right)\\)</html>"
      ],
      "text/latex": [
       "$\\displaystyle {\\left(\\gamma - \\mu - \\overline{\\gamma}\\right)} \\overline{\\alpha} - \\delta\\left(\\gamma\\right) - \\Delta\\left(\\overline{\\alpha}\\right)$"
      ],
      "text/plain": [
       "(gamma - mu - conjugate(gamma))*conjugate(alpha) - Dm(gamma) - Dn(conjugate(alpha))"
      ]
     },
     "metadata": {},
     "output_type": "display_data"
    },
    {
     "data": {
      "text/html": [
       "<html>\\(\\displaystyle \\verb|Solve|\\verb| |\\verb|the|\\verb| |\\verb|equations:|\\)</html>"
      ],
      "text/latex": [
       "$\\displaystyle \\verb|Solve|\\verb| |\\verb|the|\\verb| |\\verb|equations:|$"
      ],
      "text/plain": [
       "'Solve the equations:'"
      ]
     },
     "metadata": {},
     "output_type": "display_data"
    },
    {
     "data": {
      "text/html": [
       "<html>\\(\\displaystyle \\verb|Dlalpha=| \\alpha \\rho\\)</html>"
      ],
      "text/latex": [
       "$\\displaystyle \\verb|Dlalpha=| \\alpha \\rho$"
      ],
      "text/plain": [
       "'Dlalpha=' alpha*rho"
      ]
     },
     "metadata": {},
     "output_type": "display_data"
    },
    {
     "data": {
      "text/html": [
       "<html>\\(\\displaystyle \\verb|Dnalpha=| -\\alpha \\gamma + \\alpha \\overline{\\gamma} - \\alpha \\overline{\\mu} + \\bar{\\delta}\\left(\\gamma\\right)\\)</html>"
      ],
      "text/latex": [
       "$\\displaystyle \\verb|Dnalpha=| -\\alpha \\gamma + \\alpha \\overline{\\gamma} - \\alpha \\overline{\\mu} + \\bar{\\delta}\\left(\\gamma\\right)$"
      ],
      "text/plain": [
       "'Dnalpha=' -alpha*gamma + alpha*conjugate(gamma) - alpha*conjugate(mu) + Dmbar(gamma)"
      ]
     },
     "metadata": {},
     "output_type": "display_data"
    },
    {
     "data": {
      "text/html": [
       "<html>\\(\\displaystyle \\verb|Dmalpha=| {\\left(\\gamma + \\mu\\right)} \\rho + 4 \\, \\alpha \\overline{\\alpha} - \\gamma \\overline{\\rho} - \\Psi_{2} - \\bar{\\delta}\\left(\\overline{\\alpha}\\right)\\)</html>"
      ],
      "text/latex": [
       "$\\displaystyle \\verb|Dmalpha=| {\\left(\\gamma + \\mu\\right)} \\rho + 4 \\, \\alpha \\overline{\\alpha} - \\gamma \\overline{\\rho} - \\Psi_{2} - \\bar{\\delta}\\left(\\overline{\\alpha}\\right)$"
      ],
      "text/plain": [
       "'Dmalpha=' (gamma + mu)*rho + 4*alpha*conjugate(alpha) - gamma*conjugate(rho) - Psi2 - Dmbar(conjugate(alpha))"
      ]
     },
     "metadata": {},
     "output_type": "display_data"
    },
    {
     "data": {
      "text/html": [
       "<html>\\(\\displaystyle \\verb|Dnalphabar=| \\gamma \\overline{\\alpha} - \\mu \\overline{\\alpha} - \\overline{\\alpha} \\overline{\\gamma} + \\delta\\left(\\overline{\\gamma}\\right)\\)</html>"
      ],
      "text/latex": [
       "$\\displaystyle \\verb|Dnalphabar=| \\gamma \\overline{\\alpha} - \\mu \\overline{\\alpha} - \\overline{\\alpha} \\overline{\\gamma} + \\delta\\left(\\overline{\\gamma}\\right)$"
      ],
      "text/plain": [
       "'Dnalphabar=' gamma*conjugate(alpha) - mu*conjugate(alpha) - conjugate(alpha)*conjugate(gamma) + Dm(conjugate(gamma))"
      ]
     },
     "metadata": {},
     "output_type": "display_data"
    }
   ],
   "source": [
    "# Derivatives involving alpha and conjugate(alpha):\n",
    "show(NP4)\n",
    "show(NP5)\n",
    "show(NP12)\n",
    "show(NP18)\n",
    "show(NP15)\n",
    "\n",
    "show('Solve the equations:')\n",
    "Dlalpha=solve(NP4==0,Dl(alpha))[0].rhs()\n",
    "show(\"Dlalpha=\",Dlalpha)\n",
    "Dnalpha=solve(NP18==0,Dn(alpha))[0].rhs()\n",
    "show(\"Dnalpha=\",Dnalpha)\n",
    "Dmalpha=solve(NP12==0,Dm(alpha))[0].rhs()\n",
    "show(\"Dmalpha=\",Dmalpha)\n",
    "\n",
    "Dnalphabar=conjugate(-alpha*gamma + alpha*conjugate(gamma) - alpha*conjugate(mu)) + Dm(conjugate(gamma))\n",
    "show(\"Dnalphabar=\",Dnalphabar)"
   ]
  },
  {
   "cell_type": "code",
   "execution_count": 7,
   "id": "7f05737f",
   "metadata": {},
   "outputs": [
    {
     "data": {
      "text/html": [
       "<html>\\(\\displaystyle \\Psi_{2} - D\\left(\\gamma\\right)\\)</html>"
      ],
      "text/latex": [
       "$\\displaystyle \\Psi_{2} - D\\left(\\gamma\\right)$"
      ],
      "text/plain": [
       "Psi2 - Dl(gamma)"
      ]
     },
     "metadata": {},
     "output_type": "display_data"
    },
    {
     "data": {
      "text/html": [
       "<html>\\(\\displaystyle \\verb|Solve|\\verb| |\\verb|the|\\verb| |\\verb|equations:|\\)</html>"
      ],
      "text/latex": [
       "$\\displaystyle \\verb|Solve|\\verb| |\\verb|the|\\verb| |\\verb|equations:|$"
      ],
      "text/plain": [
       "'Solve the equations:'"
      ]
     },
     "metadata": {},
     "output_type": "display_data"
    },
    {
     "data": {
      "text/html": [
       "<html>\\(\\displaystyle \\verb|Dlgamma=| \\Psi_{2}\\)</html>"
      ],
      "text/latex": [
       "$\\displaystyle \\verb|Dlgamma=| \\Psi_{2}$"
      ],
      "text/plain": [
       "'Dlgamma=' Psi2"
      ]
     },
     "metadata": {},
     "output_type": "display_data"
    }
   ],
   "source": [
    "# Derivatives of gamma:\n",
    "show(NP6)\n",
    "\n",
    "show('Solve the equations:')\n",
    "Dlgamma=solve(NP6==0,Dl(gamma))[0].rhs()\n",
    "show(\"Dlgamma=\",Dlgamma)\n",
    "\n",
    "Dlgammabar=conjugate(Dlgamma)"
   ]
  },
  {
   "cell_type": "code",
   "execution_count": 8,
   "id": "9f1ac614",
   "metadata": {},
   "outputs": [],
   "source": [
    "# Define the substitutions:\n",
    "subslistpsi=[Dl(Psi2)==DlPsi2,Dn(Psi2)==DnPsi2,Dm(Psi2)==DmPsi2,Dmbar(Psi2)==DmbarPsi2]\n",
    "subslistrho=[Dl(rho)==Dlrho,Dn(rho)==Dnrho,Dm(rho)==Dmrho,Dmbar(rho)==Dmbarrho]\n",
    "subslistmu=[Dl(mu)==Dlmu,Dn(mu)==Dnmu,Dm(mu)==Dmmu,Dmbar(mu)==Dmbarmu]\n",
    "subslistalpha=[Dl(alpha)==Dlalpha,Dn(alpha)==Dnalpha,Dm(alpha)==Dmalpha]\n",
    "subslistgamma=[Dl(gamma)==Dlgamma,Dm(gamma)==-Dm(conjugate(gamma)),Dmbar(gamma)==-Dmbar(conjugate(gamma))]\n",
    "\n",
    "subslist=subslistpsi+subslistrho+subslistmu+subslistalpha+subslistgamma"
   ]
  },
  {
   "cell_type": "code",
   "execution_count": 9,
   "id": "14cd75bd",
   "metadata": {},
   "outputs": [
    {
     "data": {
      "text/html": [
       "<html>\\(\\displaystyle 0\\)</html>"
      ],
      "text/latex": [
       "$\\displaystyle 0$"
      ],
      "text/plain": [
       "0"
      ]
     },
     "metadata": {},
     "output_type": "display_data"
    },
    {
     "data": {
      "text/html": [
       "<html>\\(\\displaystyle 0\\)</html>"
      ],
      "text/latex": [
       "$\\displaystyle 0$"
      ],
      "text/plain": [
       "0"
      ]
     },
     "metadata": {},
     "output_type": "display_data"
    },
    {
     "data": {
      "text/html": [
       "<html>\\(\\displaystyle \\gamma \\rho + \\mu \\rho + \\rho \\overline{\\gamma} - \\gamma \\overline{\\rho} - \\overline{\\gamma} \\overline{\\rho} - \\overline{\\mu} \\overline{\\rho} - \\Psi_{2} + \\overline{\\Psi_{2}}\\)</html>"
      ],
      "text/latex": [
       "$\\displaystyle \\gamma \\rho + \\mu \\rho + \\rho \\overline{\\gamma} - \\gamma \\overline{\\rho} - \\overline{\\gamma} \\overline{\\rho} - \\overline{\\mu} \\overline{\\rho} - \\Psi_{2} + \\overline{\\Psi_{2}}$"
      ],
      "text/plain": [
       "gamma*rho + mu*rho + rho*conjugate(gamma) - gamma*conjugate(rho) - conjugate(gamma)*conjugate(rho) - conjugate(mu)*conjugate(rho) - Psi2 + conjugate(Psi2)"
      ]
     },
     "metadata": {},
     "output_type": "display_data"
    }
   ],
   "source": [
    "# Relations from consistency:\n",
    "eqn1=Dm(NP12).subs(subslist).subs(subslist)\n",
    "show(factor(eqn1))\n",
    "\n",
    "eqn2=NP15.subs(subslist).subs(subslist).subs(subslist)\n",
    "eqn2=factor(eqn2)+Dn(conjugate(alpha))-𝙳𝚗𝚊𝚕𝚙𝚑𝚊𝚋𝚊𝚛\n",
    "show(eqn2)\n",
    "eqn2conjugate=-Dmbar(conjugate(gamma))-Dmbar(gamma)\n",
    "\n",
    "eqn3=NP12-opconj(NP12)\n",
    "show(expand(eqn3))"
   ]
  },
  {
   "cell_type": "code",
   "execution_count": 10,
   "id": "da0df4ed",
   "metadata": {},
   "outputs": [
    {
     "data": {
      "text/html": [
       "<html>\\(\\displaystyle 3 \\, {\\left(\\rho \\overline{\\mu} - \\mu \\overline{\\rho}\\right)} \\Psi_{2}\\)</html>"
      ],
      "text/latex": [
       "$\\displaystyle 3 \\, {\\left(\\rho \\overline{\\mu} - \\mu \\overline{\\rho}\\right)} \\Psi_{2}$"
      ],
      "text/plain": [
       "3*(rho*conjugate(mu) - mu*conjugate(rho))*Psi2"
      ]
     },
     "metadata": {},
     "output_type": "display_data"
    },
    {
     "data": {
      "text/html": [
       "<html>\\(\\displaystyle 0\\)</html>"
      ],
      "text/latex": [
       "$\\displaystyle 0$"
      ],
      "text/plain": [
       "0"
      ]
     },
     "metadata": {},
     "output_type": "display_data"
    },
    {
     "data": {
      "text/html": [
       "<html>\\(\\displaystyle 0\\)</html>"
      ],
      "text/latex": [
       "$\\displaystyle 0$"
      ],
      "text/plain": [
       "0"
      ]
     },
     "metadata": {},
     "output_type": "display_data"
    },
    {
     "data": {
      "text/html": [
       "<html>\\(\\displaystyle 3 \\, {\\left(\\rho \\overline{\\mu} - \\mu \\overline{\\rho}\\right)} \\Psi_{2}\\)</html>"
      ],
      "text/latex": [
       "$\\displaystyle 3 \\, {\\left(\\rho \\overline{\\mu} - \\mu \\overline{\\rho}\\right)} \\Psi_{2}$"
      ],
      "text/plain": [
       "3*(rho*conjugate(mu) - mu*conjugate(rho))*Psi2"
      ]
     },
     "metadata": {},
     "output_type": "display_data"
    },
    {
     "data": {
      "text/html": [
       "<html>\\(\\displaystyle 0\\)</html>"
      ],
      "text/latex": [
       "$\\displaystyle 0$"
      ],
      "text/plain": [
       "0"
      ]
     },
     "metadata": {},
     "output_type": "display_data"
    },
    {
     "data": {
      "text/html": [
       "<html>\\(\\displaystyle 0\\)</html>"
      ],
      "text/latex": [
       "$\\displaystyle 0$"
      ],
      "text/plain": [
       "0"
      ]
     },
     "metadata": {},
     "output_type": "display_data"
    }
   ],
   "source": [
    "# Commutators for Psi2:\n",
    "show(factor(Dn_Dl_com(Psi2).subs(subslist).subs(subslist)))\n",
    "show(factor(Dm_Dl_com(Psi2).subs(subslist).subs(subslist)))\n",
    "show(factor(Dm_Dn_com(Psi2).subs(subslist).subs(subslist)))\n",
    "show(factor(Dmbar_Dm_com(Psi2).subs(subslist).subs(subslist)))\n",
    "show(factor(Dmbar_Dl_com(Psi2).subs(subslist).subs(subslist)))\n",
    "show(factor(Dmbar_Dn_com(Psi2).subs(subslist).subs(subslist)))"
   ]
  },
  {
   "cell_type": "code",
   "execution_count": 11,
   "id": "832a0db3",
   "metadata": {},
   "outputs": [
    {
     "data": {
      "text/html": [
       "<html>\\(\\displaystyle {\\left(\\rho \\overline{\\mu} + D\\left(\\overline{\\gamma}\\right) - D\\left(\\overline{\\mu}\\right)\\right)} \\rho\\)</html>"
      ],
      "text/latex": [
       "$\\displaystyle {\\left(\\rho \\overline{\\mu} + D\\left(\\overline{\\gamma}\\right) - D\\left(\\overline{\\mu}\\right)\\right)} \\rho$"
      ],
      "text/plain": [
       "(rho*conjugate(mu) + Dl(conjugate(gamma)) - Dl(conjugate(mu)))*rho"
      ]
     },
     "metadata": {},
     "output_type": "display_data"
    },
    {
     "data": {
      "text/html": [
       "<html>\\(\\displaystyle 0\\)</html>"
      ],
      "text/latex": [
       "$\\displaystyle 0$"
      ],
      "text/plain": [
       "0"
      ]
     },
     "metadata": {},
     "output_type": "display_data"
    },
    {
     "data": {
      "text/html": [
       "<html>\\(\\displaystyle \\rho \\delta\\left(\\overline{\\mu}\\right)\\)</html>"
      ],
      "text/latex": [
       "$\\displaystyle \\rho \\delta\\left(\\overline{\\mu}\\right)$"
      ],
      "text/plain": [
       "rho*Dm(conjugate(mu))"
      ]
     },
     "metadata": {},
     "output_type": "display_data"
    },
    {
     "data": {
      "text/html": [
       "<html>\\(\\displaystyle -\\gamma \\rho^{2} - \\mu \\rho^{2} - \\rho^{2} \\overline{\\gamma} + 2 \\, \\rho^{2} \\overline{\\mu} + \\gamma \\rho \\overline{\\rho} + \\rho \\overline{\\gamma} \\overline{\\rho} - \\rho \\overline{\\mu} \\overline{\\rho} + \\Psi_{2} \\rho - \\Psi_{2} \\overline{\\rho}\\)</html>"
      ],
      "text/latex": [
       "$\\displaystyle -\\gamma \\rho^{2} - \\mu \\rho^{2} - \\rho^{2} \\overline{\\gamma} + 2 \\, \\rho^{2} \\overline{\\mu} + \\gamma \\rho \\overline{\\rho} + \\rho \\overline{\\gamma} \\overline{\\rho} - \\rho \\overline{\\mu} \\overline{\\rho} + \\Psi_{2} \\rho - \\Psi_{2} \\overline{\\rho}$"
      ],
      "text/plain": [
       "-gamma*rho^2 - mu*rho^2 - rho^2*conjugate(gamma) + 2*rho^2*conjugate(mu) + gamma*rho*conjugate(rho) + rho*conjugate(gamma)*conjugate(rho) - rho*conjugate(mu)*conjugate(rho) + Psi2*rho - Psi2*conjugate(rho)"
      ]
     },
     "metadata": {},
     "output_type": "display_data"
    },
    {
     "data": {
      "text/html": [
       "<html>\\(\\displaystyle 0\\)</html>"
      ],
      "text/latex": [
       "$\\displaystyle 0$"
      ],
      "text/plain": [
       "0"
      ]
     },
     "metadata": {},
     "output_type": "display_data"
    },
    {
     "data": {
      "text/html": [
       "<html>\\(\\displaystyle \\rho \\bar{\\delta}\\left(\\overline{\\mu}\\right)\\)</html>"
      ],
      "text/latex": [
       "$\\displaystyle \\rho \\bar{\\delta}\\left(\\overline{\\mu}\\right)$"
      ],
      "text/plain": [
       "rho*Dmbar(conjugate(mu))"
      ]
     },
     "metadata": {},
     "output_type": "display_data"
    }
   ],
   "source": [
    "# Commutators for rho:\n",
    "show(factor(Dn_Dl_com(rho).subs(subslist).subs(subslist)))\n",
    "show(factor(Dm_Dl_com(rho).subs(subslist).subs(subslist)))\n",
    "show(factor(Dm_Dn_com(rho).subs(subslist).subs(subslist)))\n",
    "show(factor(Dmbar_Dm_com(rho).subs(subslist).subs(subslist)))\n",
    "show(factor(Dmbar_Dl_com(rho).subs(subslist).subs(subslist)))\n",
    "show(factor(Dmbar_Dn_com(rho).subs(subslist).subs(subslist)))\n",
    "\n",
    "# 2. ve 5. komutatorler sifir. Digerlerine tek tek bakalim."
   ]
  },
  {
   "cell_type": "code",
   "execution_count": 12,
   "id": "85729c1c",
   "metadata": {},
   "outputs": [
    {
     "data": {
      "text/html": [
       "<html>\\(\\displaystyle 0\\)</html>"
      ],
      "text/latex": [
       "$\\displaystyle 0$"
      ],
      "text/plain": [
       "0"
      ]
     },
     "metadata": {},
     "output_type": "display_data"
    }
   ],
   "source": [
    "comm1rho=factor((1/rho)*(Dn_Dl_com(rho).subs(subslist).subs(subslist)))+Dl(conjugate(mu))-Dlmubar\n",
    "comm1rho=comm1rho-Dl(conjugate(gamma))+Dlgammabar\n",
    "show(comm1rho)"
   ]
  },
  {
   "cell_type": "code",
   "execution_count": 13,
   "id": "34c21f6d",
   "metadata": {},
   "outputs": [
    {
     "data": {
      "text/html": [
       "<html>\\(\\displaystyle 0\\)</html>"
      ],
      "text/latex": [
       "$\\displaystyle 0$"
      ],
      "text/plain": [
       "0"
      ]
     },
     "metadata": {},
     "output_type": "display_data"
    }
   ],
   "source": [
    "comm3rho=factor((1/rho)*Dm_Dn_com(rho).subs(subslist).subs(subslist))\n",
    "comm3rho=comm3rho-eqn2-Dm(conjugate(mu))+Dmmubar\n",
    "show(comm3rho)"
   ]
  },
  {
   "cell_type": "code",
   "execution_count": 14,
   "id": "6081949c",
   "metadata": {},
   "outputs": [
    {
     "data": {
      "text/html": [
       "<html>\\(\\displaystyle \\bar{\\delta}\\left(\\gamma\\right) + \\bar{\\delta}\\left(\\overline{\\gamma}\\right)\\)</html>"
      ],
      "text/latex": [
       "$\\displaystyle \\bar{\\delta}\\left(\\gamma\\right) + \\bar{\\delta}\\left(\\overline{\\gamma}\\right)$"
      ],
      "text/plain": [
       "Dmbar(gamma) + Dmbar(conjugate(gamma))"
      ]
     },
     "metadata": {},
     "output_type": "display_data"
    }
   ],
   "source": [
    "comm6rho=factor((1/rho)*Dmbar_Dn_com(rho).subs(subslist).subs(subslist))\n",
    "comm6rho=comm6rho-Dmbar(conjugate(mu))+Dmbarmubar\n",
    "show(simplify(comm6rho-eqn2conjugate))"
   ]
  },
  {
   "cell_type": "code",
   "execution_count": 15,
   "id": "0e253b10",
   "metadata": {},
   "outputs": [
    {
     "data": {
      "text/html": [
       "<html>\\(\\displaystyle -2 \\, {\\left({\\left(\\gamma + \\overline{\\gamma} - \\overline{\\mu}\\right)} \\rho - \\Psi_{2}\\right)} {\\left(\\mu - \\overline{\\mu}\\right)} \\rho + {\\left({\\left(\\gamma + \\overline{\\gamma}\\right)} \\mu + \\mu^{2} + \\Delta\\left(\\overline{\\mu}\\right)\\right)} \\rho^{2} - {\\left({\\left(\\gamma + \\overline{\\gamma} - \\overline{\\mu}\\right)} \\rho - \\Psi_{2} - \\Delta\\left(\\overline{\\rho}\\right)\\right)} {\\left({\\left(\\gamma + \\overline{\\gamma} - \\overline{\\mu}\\right)} \\rho - \\Psi_{2}\\right)} - {\\left({\\left({\\left(\\gamma + \\overline{\\gamma} - \\overline{\\mu}\\right)} \\rho - \\Psi_{2}\\right)} {\\left(\\gamma + \\overline{\\gamma} - \\overline{\\mu}\\right)} + 3 \\, \\Psi_{2} \\mu + \\rho {\\left(\\Delta\\left(\\gamma\\right) + \\Delta\\left(\\overline{\\gamma}\\right) - \\Delta\\left(\\overline{\\mu}\\right)\\right)}\\right)} {\\left(\\rho - \\overline{\\rho}\\right)}\\)</html>"
      ],
      "text/latex": [
       "$\\displaystyle -2 \\, {\\left({\\left(\\gamma + \\overline{\\gamma} - \\overline{\\mu}\\right)} \\rho - \\Psi_{2}\\right)} {\\left(\\mu - \\overline{\\mu}\\right)} \\rho + {\\left({\\left(\\gamma + \\overline{\\gamma}\\right)} \\mu + \\mu^{2} + \\Delta\\left(\\overline{\\mu}\\right)\\right)} \\rho^{2} - {\\left({\\left(\\gamma + \\overline{\\gamma} - \\overline{\\mu}\\right)} \\rho - \\Psi_{2} - \\Delta\\left(\\overline{\\rho}\\right)\\right)} {\\left({\\left(\\gamma + \\overline{\\gamma} - \\overline{\\mu}\\right)} \\rho - \\Psi_{2}\\right)} - {\\left({\\left({\\left(\\gamma + \\overline{\\gamma} - \\overline{\\mu}\\right)} \\rho - \\Psi_{2}\\right)} {\\left(\\gamma + \\overline{\\gamma} - \\overline{\\mu}\\right)} + 3 \\, \\Psi_{2} \\mu + \\rho {\\left(\\Delta\\left(\\gamma\\right) + \\Delta\\left(\\overline{\\gamma}\\right) - \\Delta\\left(\\overline{\\mu}\\right)\\right)}\\right)} {\\left(\\rho - \\overline{\\rho}\\right)}$"
      ],
      "text/plain": [
       "-2*((gamma + conjugate(gamma) - conjugate(mu))*rho - Psi2)*(mu - conjugate(mu))*rho + ((gamma + conjugate(gamma))*mu + mu^2 + Dn(conjugate(mu)))*rho^2 - ((gamma + conjugate(gamma) - conjugate(mu))*rho - Psi2 - Dn(conjugate(rho)))*((gamma + conjugate(gamma) - conjugate(mu))*rho - Psi2) - (((gamma + conjugate(gamma) - conjugate(mu))*rho - Psi2)*(gamma + conjugate(gamma) - conjugate(mu)) + 3*Psi2*mu + rho*(Dn(gamma) + Dn(conjugate(gamma)) - Dn(conjugate(mu))))*(rho - conjugate(rho))"
      ]
     },
     "metadata": {},
     "output_type": "display_data"
    }
   ],
   "source": [
    "comm4rho=Dmbar_Dm_com(rho).subs(subslist).subs(subslist)\n",
    "eqncomm4rho=Dn(comm4rho).subs(subslist)\n",
    "show(simplify((eqncomm4rho)))"
   ]
  },
  {
   "cell_type": "code",
   "execution_count": 16,
   "id": "84979b7f",
   "metadata": {},
   "outputs": [
    {
     "data": {
      "text/html": [
       "<html>\\(\\displaystyle 2 \\, {\\left(\\rho \\overline{\\mu} + D\\left(\\overline{\\gamma}\\right) - D\\left(\\overline{\\mu}\\right)\\right)} \\rho^{2}\\)</html>"
      ],
      "text/latex": [
       "$\\displaystyle 2 \\, {\\left(\\rho \\overline{\\mu} + D\\left(\\overline{\\gamma}\\right) - D\\left(\\overline{\\mu}\\right)\\right)} \\rho^{2}$"
      ],
      "text/plain": [
       "2*(rho*conjugate(mu) + Dl(conjugate(gamma)) - Dl(conjugate(mu)))*rho^2"
      ]
     },
     "metadata": {},
     "output_type": "display_data"
    },
    {
     "data": {
      "text/html": [
       "<html>\\(\\displaystyle 0\\)</html>"
      ],
      "text/latex": [
       "$\\displaystyle 0$"
      ],
      "text/plain": [
       "0"
      ]
     },
     "metadata": {},
     "output_type": "display_data"
    },
    {
     "data": {
      "text/html": [
       "<html>\\(\\displaystyle 2 \\, \\rho^{2} \\delta\\left(\\overline{\\mu}\\right)\\)</html>"
      ],
      "text/latex": [
       "$\\displaystyle 2 \\, \\rho^{2} \\delta\\left(\\overline{\\mu}\\right)$"
      ],
      "text/plain": [
       "2*rho^2*Dm(conjugate(mu))"
      ]
     },
     "metadata": {},
     "output_type": "display_data"
    },
    {
     "data": {
      "text/html": [
       "<html>\\(\\displaystyle -2 \\, {\\left(\\gamma \\rho^{2} + \\mu \\rho^{2} + \\rho^{2} \\overline{\\gamma} - 2 \\, \\rho^{2} \\overline{\\mu} - \\gamma \\rho \\overline{\\rho} - \\rho \\overline{\\gamma} \\overline{\\rho} + \\rho \\overline{\\mu} \\overline{\\rho} - \\Psi_{2} \\rho + \\Psi_{2} \\overline{\\rho}\\right)} \\rho\\)</html>"
      ],
      "text/latex": [
       "$\\displaystyle -2 \\, {\\left(\\gamma \\rho^{2} + \\mu \\rho^{2} + \\rho^{2} \\overline{\\gamma} - 2 \\, \\rho^{2} \\overline{\\mu} - \\gamma \\rho \\overline{\\rho} - \\rho \\overline{\\gamma} \\overline{\\rho} + \\rho \\overline{\\mu} \\overline{\\rho} - \\Psi_{2} \\rho + \\Psi_{2} \\overline{\\rho}\\right)} \\rho$"
      ],
      "text/plain": [
       "-2*(gamma*rho^2 + mu*rho^2 + rho^2*conjugate(gamma) - 2*rho^2*conjugate(mu) - gamma*rho*conjugate(rho) - rho*conjugate(gamma)*conjugate(rho) + rho*conjugate(mu)*conjugate(rho) - Psi2*rho + Psi2*conjugate(rho))*rho"
      ]
     },
     "metadata": {},
     "output_type": "display_data"
    },
    {
     "data": {
      "text/html": [
       "<html>\\(\\displaystyle 0\\)</html>"
      ],
      "text/latex": [
       "$\\displaystyle 0$"
      ],
      "text/plain": [
       "0"
      ]
     },
     "metadata": {},
     "output_type": "display_data"
    },
    {
     "data": {
      "text/html": [
       "<html>\\(\\displaystyle 2 \\, \\rho^{2} \\bar{\\delta}\\left(\\overline{\\mu}\\right)\\)</html>"
      ],
      "text/latex": [
       "$\\displaystyle 2 \\, \\rho^{2} \\bar{\\delta}\\left(\\overline{\\mu}\\right)$"
      ],
      "text/plain": [
       "2*rho^2*Dmbar(conjugate(mu))"
      ]
     },
     "metadata": {},
     "output_type": "display_data"
    },
    {
     "data": {
      "text/html": [
       "<html>\\(\\displaystyle \\verb|**************************|\\)</html>"
      ],
      "text/latex": [
       "$\\displaystyle \\verb|**************************|$"
      ],
      "text/plain": [
       "'**************************'"
      ]
     },
     "metadata": {},
     "output_type": "display_data"
    },
    {
     "data": {
      "text/html": [
       "<html>\\(\\displaystyle \\gamma \\rho^{2} \\overline{\\mu} + \\rho^{2} \\overline{\\gamma} \\overline{\\mu} - \\rho^{2} \\overline{\\mu}^{2} + \\Psi_{2} \\gamma \\rho + 3 \\, \\Psi_{2} \\mu \\rho + 2 \\, \\gamma \\rho D\\left(\\overline{\\gamma}\\right) - 2 \\, \\gamma \\rho D\\left(\\overline{\\mu}\\right) + \\Psi_{2} \\rho \\overline{\\gamma} + 2 \\, \\rho D\\left(\\overline{\\gamma}\\right) \\overline{\\gamma} - 2 \\, \\rho D\\left(\\overline{\\mu}\\right) \\overline{\\gamma} - 3 \\, \\Psi_{2} \\rho \\overline{\\mu} - \\rho D\\left(\\overline{\\gamma}\\right) \\overline{\\mu} + \\rho D\\left(\\overline{\\mu}\\right) \\overline{\\mu} + 3 \\, \\Psi_{2} \\mu \\overline{\\rho} + \\rho D\\left(\\Delta\\left(\\gamma\\right)\\right) + \\rho D\\left(\\Delta\\left(\\overline{\\gamma}\\right)\\right) - \\rho D\\left(\\Delta\\left(\\overline{\\mu}\\right)\\right) - \\rho \\Delta\\left(D\\left(\\overline{\\gamma}\\right)\\right) + \\rho \\Delta\\left(D\\left(\\overline{\\mu}\\right)\\right)\\)</html>"
      ],
      "text/latex": [
       "$\\displaystyle \\gamma \\rho^{2} \\overline{\\mu} + \\rho^{2} \\overline{\\gamma} \\overline{\\mu} - \\rho^{2} \\overline{\\mu}^{2} + \\Psi_{2} \\gamma \\rho + 3 \\, \\Psi_{2} \\mu \\rho + 2 \\, \\gamma \\rho D\\left(\\overline{\\gamma}\\right) - 2 \\, \\gamma \\rho D\\left(\\overline{\\mu}\\right) + \\Psi_{2} \\rho \\overline{\\gamma} + 2 \\, \\rho D\\left(\\overline{\\gamma}\\right) \\overline{\\gamma} - 2 \\, \\rho D\\left(\\overline{\\mu}\\right) \\overline{\\gamma} - 3 \\, \\Psi_{2} \\rho \\overline{\\mu} - \\rho D\\left(\\overline{\\gamma}\\right) \\overline{\\mu} + \\rho D\\left(\\overline{\\mu}\\right) \\overline{\\mu} + 3 \\, \\Psi_{2} \\mu \\overline{\\rho} + \\rho D\\left(\\Delta\\left(\\gamma\\right)\\right) + \\rho D\\left(\\Delta\\left(\\overline{\\gamma}\\right)\\right) - \\rho D\\left(\\Delta\\left(\\overline{\\mu}\\right)\\right) - \\rho \\Delta\\left(D\\left(\\overline{\\gamma}\\right)\\right) + \\rho \\Delta\\left(D\\left(\\overline{\\mu}\\right)\\right)$"
      ],
      "text/plain": [
       "gamma*rho^2*conjugate(mu) + rho^2*conjugate(gamma)*conjugate(mu) - rho^2*conjugate(mu)^2 + Psi2*gamma*rho + 3*Psi2*mu*rho + 2*gamma*rho*Dl(conjugate(gamma)) - 2*gamma*rho*Dl(conjugate(mu)) + Psi2*rho*conjugate(gamma) + 2*rho*Dl(conjugate(gamma))*conjugate(gamma) - 2*rho*Dl(conjugate(mu))*conjugate(gamma) - 3*Psi2*rho*conjugate(mu) - rho*Dl(conjugate(gamma))*conjugate(mu) + rho*Dl(conjugate(mu))*conjugate(mu) + 3*Psi2*mu*conjugate(rho) + rho*Dl(Dn(gamma)) + rho*Dl(Dn(conjugate(gamma))) - rho*Dl(Dn(conjugate(mu))) - rho*Dn(Dl(conjugate(gamma))) + rho*Dn(Dl(conjugate(mu)))"
      ]
     },
     "metadata": {},
     "output_type": "display_data"
    },
    {
     "data": {
      "text/html": [
       "<html>\\(\\displaystyle {\\left(\\delta\\left(\\overline{\\mu}\\right) \\overline{\\rho} - D\\left(\\delta\\left(\\overline{\\mu}\\right)\\right) - \\delta\\left(D\\left(\\overline{\\gamma}\\right)\\right) + \\delta\\left(D\\left(\\overline{\\mu}\\right)\\right)\\right)} \\rho\\)</html>"
      ],
      "text/latex": [
       "$\\displaystyle {\\left(\\delta\\left(\\overline{\\mu}\\right) \\overline{\\rho} - D\\left(\\delta\\left(\\overline{\\mu}\\right)\\right) - \\delta\\left(D\\left(\\overline{\\gamma}\\right)\\right) + \\delta\\left(D\\left(\\overline{\\mu}\\right)\\right)\\right)} \\rho$"
      ],
      "text/plain": [
       "(Dm(conjugate(mu))*conjugate(rho) - Dl(Dm(conjugate(mu))) - Dm(Dl(conjugate(gamma))) + Dm(Dl(conjugate(mu))))*rho"
      ]
     },
     "metadata": {},
     "output_type": "display_data"
    },
    {
     "data": {
      "text/html": [
       "<html>\\(\\displaystyle {\\left(2 \\, \\gamma \\delta\\left(\\overline{\\mu}\\right) - \\mu \\delta\\left(\\overline{\\mu}\\right) - \\delta\\left(\\overline{\\mu}\\right) \\overline{\\mu} - \\delta\\left(\\Delta\\left(\\gamma\\right)\\right) - \\delta\\left(\\Delta\\left(\\overline{\\gamma}\\right)\\right) + \\delta\\left(\\Delta\\left(\\overline{\\mu}\\right)\\right) - \\Delta\\left(\\delta\\left(\\overline{\\mu}\\right)\\right)\\right)} \\rho\\)</html>"
      ],
      "text/latex": [
       "$\\displaystyle {\\left(2 \\, \\gamma \\delta\\left(\\overline{\\mu}\\right) - \\mu \\delta\\left(\\overline{\\mu}\\right) - \\delta\\left(\\overline{\\mu}\\right) \\overline{\\mu} - \\delta\\left(\\Delta\\left(\\gamma\\right)\\right) - \\delta\\left(\\Delta\\left(\\overline{\\gamma}\\right)\\right) + \\delta\\left(\\Delta\\left(\\overline{\\mu}\\right)\\right) - \\Delta\\left(\\delta\\left(\\overline{\\mu}\\right)\\right)\\right)} \\rho$"
      ],
      "text/plain": [
       "(2*gamma*Dm(conjugate(mu)) - mu*Dm(conjugate(mu)) - Dm(conjugate(mu))*conjugate(mu) - Dm(Dn(gamma)) - Dm(Dn(conjugate(gamma))) + Dm(Dn(conjugate(mu))) - Dn(Dm(conjugate(mu))))*rho"
      ]
     },
     "metadata": {},
     "output_type": "display_data"
    },
    {
     "data": {
      "text/html": [
       "<html>\\(\\displaystyle -\\gamma^{2} \\rho^{2} - \\gamma \\mu \\rho^{2} - 2 \\, \\gamma \\rho^{2} \\overline{\\gamma} - \\mu \\rho^{2} \\overline{\\gamma} - \\rho^{2} \\overline{\\gamma}^{2} + 3 \\, \\gamma \\rho^{2} \\overline{\\mu} + \\mu \\rho^{2} \\overline{\\mu} + 3 \\, \\rho^{2} \\overline{\\gamma} \\overline{\\mu} - 2 \\, \\rho^{2} \\overline{\\mu}^{2} + \\gamma^{2} \\rho \\overline{\\rho} + 2 \\, \\gamma \\rho \\overline{\\gamma} \\overline{\\rho} + \\rho \\overline{\\gamma}^{2} \\overline{\\rho} - 2 \\, \\gamma \\rho \\overline{\\mu} \\overline{\\rho} - 2 \\, \\rho \\overline{\\gamma} \\overline{\\mu} \\overline{\\rho} + \\rho \\overline{\\mu}^{2} \\overline{\\rho} + \\Psi_{2} \\gamma \\rho - \\Psi_{2} \\mu \\rho - \\mu \\rho D\\left(\\overline{\\gamma}\\right) + \\mu \\rho D\\left(\\overline{\\mu}\\right) - 2 \\, \\alpha \\rho \\delta\\left(\\overline{\\mu}\\right) - \\rho^{2} \\Delta\\left(\\gamma\\right) - \\rho^{2} \\Delta\\left(\\overline{\\gamma}\\right) + \\rho^{2} \\Delta\\left(\\overline{\\mu}\\right) + 2 \\, \\rho \\bar{\\delta}\\left(\\overline{\\mu}\\right) \\overline{\\alpha} + \\Psi_{2} \\rho \\overline{\\gamma} - 3 \\, \\Psi_{2} \\rho \\overline{\\mu} + \\rho D\\left(\\overline{\\gamma}\\right) \\overline{\\mu} - \\rho D\\left(\\overline{\\mu}\\right) \\overline{\\mu} - \\Psi_{2} \\gamma \\overline{\\rho} + 3 \\, \\Psi_{2} \\mu \\overline{\\rho} + \\rho \\Delta\\left(\\gamma\\right) \\overline{\\rho} + \\rho \\Delta\\left(\\overline{\\gamma}\\right) \\overline{\\rho} - \\rho \\Delta\\left(\\overline{\\mu}\\right) \\overline{\\rho} - \\Psi_{2} \\overline{\\gamma} \\overline{\\rho} + \\Psi_{2} \\overline{\\mu} \\overline{\\rho} - \\rho \\delta\\left(\\bar{\\delta}\\left(\\overline{\\mu}\\right)\\right) + \\rho \\bar{\\delta}\\left(\\delta\\left(\\overline{\\mu}\\right)\\right)\\)</html>"
      ],
      "text/latex": [
       "$\\displaystyle -\\gamma^{2} \\rho^{2} - \\gamma \\mu \\rho^{2} - 2 \\, \\gamma \\rho^{2} \\overline{\\gamma} - \\mu \\rho^{2} \\overline{\\gamma} - \\rho^{2} \\overline{\\gamma}^{2} + 3 \\, \\gamma \\rho^{2} \\overline{\\mu} + \\mu \\rho^{2} \\overline{\\mu} + 3 \\, \\rho^{2} \\overline{\\gamma} \\overline{\\mu} - 2 \\, \\rho^{2} \\overline{\\mu}^{2} + \\gamma^{2} \\rho \\overline{\\rho} + 2 \\, \\gamma \\rho \\overline{\\gamma} \\overline{\\rho} + \\rho \\overline{\\gamma}^{2} \\overline{\\rho} - 2 \\, \\gamma \\rho \\overline{\\mu} \\overline{\\rho} - 2 \\, \\rho \\overline{\\gamma} \\overline{\\mu} \\overline{\\rho} + \\rho \\overline{\\mu}^{2} \\overline{\\rho} + \\Psi_{2} \\gamma \\rho - \\Psi_{2} \\mu \\rho - \\mu \\rho D\\left(\\overline{\\gamma}\\right) + \\mu \\rho D\\left(\\overline{\\mu}\\right) - 2 \\, \\alpha \\rho \\delta\\left(\\overline{\\mu}\\right) - \\rho^{2} \\Delta\\left(\\gamma\\right) - \\rho^{2} \\Delta\\left(\\overline{\\gamma}\\right) + \\rho^{2} \\Delta\\left(\\overline{\\mu}\\right) + 2 \\, \\rho \\bar{\\delta}\\left(\\overline{\\mu}\\right) \\overline{\\alpha} + \\Psi_{2} \\rho \\overline{\\gamma} - 3 \\, \\Psi_{2} \\rho \\overline{\\mu} + \\rho D\\left(\\overline{\\gamma}\\right) \\overline{\\mu} - \\rho D\\left(\\overline{\\mu}\\right) \\overline{\\mu} - \\Psi_{2} \\gamma \\overline{\\rho} + 3 \\, \\Psi_{2} \\mu \\overline{\\rho} + \\rho \\Delta\\left(\\gamma\\right) \\overline{\\rho} + \\rho \\Delta\\left(\\overline{\\gamma}\\right) \\overline{\\rho} - \\rho \\Delta\\left(\\overline{\\mu}\\right) \\overline{\\rho} - \\Psi_{2} \\overline{\\gamma} \\overline{\\rho} + \\Psi_{2} \\overline{\\mu} \\overline{\\rho} - \\rho \\delta\\left(\\bar{\\delta}\\left(\\overline{\\mu}\\right)\\right) + \\rho \\bar{\\delta}\\left(\\delta\\left(\\overline{\\mu}\\right)\\right)$"
      ],
      "text/plain": [
       "-gamma^2*rho^2 - gamma*mu*rho^2 - 2*gamma*rho^2*conjugate(gamma) - mu*rho^2*conjugate(gamma) - rho^2*conjugate(gamma)^2 + 3*gamma*rho^2*conjugate(mu) + mu*rho^2*conjugate(mu) + 3*rho^2*conjugate(gamma)*conjugate(mu) - 2*rho^2*conjugate(mu)^2 + gamma^2*rho*conjugate(rho) + 2*gamma*rho*conjugate(gamma)*conjugate(rho) + rho*conjugate(gamma)^2*conjugate(rho) - 2*gamma*rho*conjugate(mu)*conjugate(rho) - 2*rho*conjugate(gamma)*conjugate(mu)*conjugate(rho) + rho*conjugate(mu)^2*conjugate(rho) + Psi2*gamma*rho - Psi2*mu*rho - mu*rho*Dl(conjugate(gamma)) + mu*rho*Dl(conjugate(mu)) - 2*alpha*rho*Dm(conjugate(mu)) - rho^2*Dn(gamma) - rho^2*Dn(conjugate(gamma)) + rho^2*Dn(conjugate(mu)) + 2*rho*Dmbar(conjugate(mu))*conjugate(alpha) + Psi2*rho*conjugate(gamma) - 3*Psi2*rho*conjugate(mu) + rho*Dl(conjugate(gamma))*conjugate(mu) - rho*Dl(conjugate(mu))*conjugate(mu) - Psi2*gamma*conjugate(rho) + 3*Psi2*mu*conjugate(rho) + rho*Dn(gamma)*conjugate(rho) + rho*Dn(conjugate(gamma))*conjugate(rho) - rho*Dn(conjugate(mu))*conjugate(rho) - Psi2*conjugate(gamma)*conjugate(rho) + Psi2*conjugate(mu)*conjugate(rho) - rho*Dm(Dmbar(conjugate(mu))) + rho*Dmbar(Dm(conjugate(mu)))"
      ]
     },
     "metadata": {},
     "output_type": "display_data"
    },
    {
     "data": {
      "text/html": [
       "<html>\\(\\displaystyle {\\left(\\rho \\bar{\\delta}\\left(\\overline{\\mu}\\right) - D\\left(\\bar{\\delta}\\left(\\overline{\\mu}\\right)\\right) - \\bar{\\delta}\\left(D\\left(\\overline{\\gamma}\\right)\\right) + \\bar{\\delta}\\left(D\\left(\\overline{\\mu}\\right)\\right)\\right)} \\rho\\)</html>"
      ],
      "text/latex": [
       "$\\displaystyle {\\left(\\rho \\bar{\\delta}\\left(\\overline{\\mu}\\right) - D\\left(\\bar{\\delta}\\left(\\overline{\\mu}\\right)\\right) - \\bar{\\delta}\\left(D\\left(\\overline{\\gamma}\\right)\\right) + \\bar{\\delta}\\left(D\\left(\\overline{\\mu}\\right)\\right)\\right)} \\rho$"
      ],
      "text/plain": [
       "(rho*Dmbar(conjugate(mu)) - Dl(Dmbar(conjugate(mu))) - Dmbar(Dl(conjugate(gamma))) + Dmbar(Dl(conjugate(mu))))*rho"
      ]
     },
     "metadata": {},
     "output_type": "display_data"
    },
    {
     "data": {
      "text/html": [
       "<html>\\(\\displaystyle {\\left(2 \\, \\bar{\\delta}\\left(\\overline{\\mu}\\right) \\overline{\\gamma} - 2 \\, \\bar{\\delta}\\left(\\overline{\\mu}\\right) \\overline{\\mu} - \\bar{\\delta}\\left(\\Delta\\left(\\gamma\\right)\\right) - \\bar{\\delta}\\left(\\Delta\\left(\\overline{\\gamma}\\right)\\right) + \\bar{\\delta}\\left(\\Delta\\left(\\overline{\\mu}\\right)\\right) - \\Delta\\left(\\bar{\\delta}\\left(\\overline{\\mu}\\right)\\right)\\right)} \\rho\\)</html>"
      ],
      "text/latex": [
       "$\\displaystyle {\\left(2 \\, \\bar{\\delta}\\left(\\overline{\\mu}\\right) \\overline{\\gamma} - 2 \\, \\bar{\\delta}\\left(\\overline{\\mu}\\right) \\overline{\\mu} - \\bar{\\delta}\\left(\\Delta\\left(\\gamma\\right)\\right) - \\bar{\\delta}\\left(\\Delta\\left(\\overline{\\gamma}\\right)\\right) + \\bar{\\delta}\\left(\\Delta\\left(\\overline{\\mu}\\right)\\right) - \\Delta\\left(\\bar{\\delta}\\left(\\overline{\\mu}\\right)\\right)\\right)} \\rho$"
      ],
      "text/plain": [
       "(2*Dmbar(conjugate(mu))*conjugate(gamma) - 2*Dmbar(conjugate(mu))*conjugate(mu) - Dmbar(Dn(gamma)) - Dmbar(Dn(conjugate(gamma))) + Dmbar(Dn(conjugate(mu))) - Dn(Dmbar(conjugate(mu))))*rho"
      ]
     },
     "metadata": {},
     "output_type": "display_data"
    }
   ],
   "source": [
    "# Commutators for the derivatives of rho:\n",
    "show(factor(Dn_Dl_com(Dlrho).subs(subslist).subs(subslist)))\n",
    "show(factor(Dm_Dl_com(Dlrho).subs(subslist).subs(subslist)))\n",
    "show(factor(Dm_Dn_com(Dlrho).subs(subslist).subs(subslist)))\n",
    "show(factor(Dmbar_Dm_com(Dlrho).subs(subslist).subs(subslist)))\n",
    "show(factor(Dmbar_Dl_com(Dlrho).subs(subslist).subs(subslist)))\n",
    "show(factor(Dmbar_Dn_com(Dlrho).subs(subslist).subs(subslist)))\n",
    "show(\"**************************\")\n",
    "show(factor(Dn_Dl_com(Dnrho).subs(subslist).subs(subslist)))\n",
    "show(factor(Dm_Dl_com(Dnrho).subs(subslist).subs(subslist)))\n",
    "show(factor(Dm_Dn_com(Dnrho).subs(subslist).subs(subslist)))\n",
    "show(factor(Dmbar_Dm_com(Dnrho).subs(subslist).subs(subslist)))\n",
    "show(factor(Dmbar_Dl_com(Dnrho).subs(subslist).subs(subslist)))\n",
    "show(factor(Dmbar_Dn_com(Dnrho).subs(subslist).subs(subslist)))"
   ]
  },
  {
   "cell_type": "code",
   "execution_count": 17,
   "id": "41ad6e35",
   "metadata": {},
   "outputs": [
    {
     "data": {
      "text/html": [
       "<html>\\(\\displaystyle -\\alpha \\overline{\\mu} - \\frac{\\Psi_{2} \\alpha}{2 \\, \\rho} + \\frac{\\alpha \\overline{\\Psi_{2}}}{2 \\, \\overline{\\rho}}\\)</html>"
      ],
      "text/latex": [
       "$\\displaystyle -\\alpha \\overline{\\mu} - \\frac{\\Psi_{2} \\alpha}{2 \\, \\rho} + \\frac{\\alpha \\overline{\\Psi_{2}}}{2 \\, \\overline{\\rho}}$"
      ],
      "text/plain": [
       "-alpha*conjugate(mu) - 1/2*Psi2*alpha/rho + 1/2*alpha*conjugate(Psi2)/conjugate(rho)"
      ]
     },
     "metadata": {},
     "output_type": "display_data"
    }
   ],
   "source": [
    "show(Dnalpha.subs(gamma==(1/2)*Psi2/rho).subs(subslist))"
   ]
  },
  {
   "cell_type": "code",
   "execution_count": null,
   "id": "21b1afe6-0155-4773-bda8-08f88f47673f",
   "metadata": {},
   "outputs": [],
   "source": []
  }
 ],
 "metadata": {
  "kernelspec": {
   "display_name": "SageMath 10.4",
   "language": "sage",
   "name": "sagemath"
  },
  "language_info": {
   "codemirror_mode": {
    "name": "ipython",
    "version": 3
   },
   "file_extension": ".py",
   "mimetype": "text/x-python",
   "name": "python",
   "nbconvert_exporter": "python",
   "pygments_lexer": "ipython3",
   "version": "3.11.11"
  }
 },
 "nbformat": 4,
 "nbformat_minor": 5
}
